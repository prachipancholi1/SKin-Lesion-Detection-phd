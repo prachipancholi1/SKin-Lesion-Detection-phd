{
  "cells": [
    {
      "cell_type": "markdown",
      "metadata": {
        "id": "aWjs4jJ-kCO1"
      },
      "source": [
        "**Table of contents**<a id='toc0_'></a>    \n",
        "- [Import Libraries](#toc1_1_1_)    \n",
        "- [Defined Canny Edge Detector Class](#toc1_1_2_)    \n",
        "- [Load Images](#toc1_1_3_)    \n",
        "- [Train-Test Split](#toc1_1_4_)    \n",
        "- [Model Training](#toc1_1_5_)    \n",
        "- [Model Evaluation](#toc1_1_6_)    \n",
        "\n",
        "<!-- vscode-jupyter-toc-config\n",
        "\tnumbering=false\n",
        "\tanchor=true\n",
        "\tflat=false\n",
        "\tminLevel=1\n",
        "\tmaxLevel=6\n",
        "\t/vscode-jupyter-toc-config -->\n",
        "<!-- THIS CELL WILL BE REPLACED ON TOC UPDATE. DO NOT WRITE YOUR TEXT IN THIS CELL -->"
      ]
    },
    {
      "cell_type": "code",
      "execution_count": 1,
      "metadata": {
        "colab": {
          "base_uri": "https://localhost:8080/"
        },
        "id": "zrnbwZubrQmW",
        "outputId": "b651f49b-6bff-4a0a-8c6d-8c1a3ceb4a24"
      },
      "outputs": [
        {
          "output_type": "stream",
          "name": "stdout",
          "text": [
            "Mounted at /content/drive\n"
          ]
        }
      ],
      "source": [
        "from google.colab import drive\n",
        "drive.mount('/content/drive')"
      ]
    },
    {
      "cell_type": "code",
      "execution_count": 2,
      "metadata": {
        "id": "NHzVYCEylJb8"
      },
      "outputs": [],
      "source": [
        "!cp -a '/content/drive/MyDrive/Prachi/' '/content/'"
      ]
    },
    {
      "cell_type": "code",
      "execution_count": 3,
      "metadata": {
        "id": "QioMmL59kHgy"
      },
      "outputs": [],
      "source": [
        "import zipfile\n",
        "import os\n",
        "# loading and extracting data\n",
        "os.makedirs(\"/content/data/\", exist_ok=True)\n",
        "\n",
        "zip_ref = zipfile.ZipFile(\"/content/Prachi/Train.zip\", 'r')\n",
        "zip_ref.extractall(\"/content/data/\")\n",
        "zip_ref.close()"
      ]
    },
    {
      "cell_type": "code",
      "execution_count": 4,
      "metadata": {
        "colab": {
          "base_uri": "https://localhost:8080/"
        },
        "id": "m9Y1Xz0WLKnd",
        "outputId": "6bedc4a4-2c16-43c7-81ed-27505e3cf80d"
      },
      "outputs": [
        {
          "output_type": "stream",
          "name": "stdout",
          "text": [
            "Requirement already satisfied: torch in /usr/local/lib/python3.11/dist-packages (2.5.1+cu124)\n",
            "Requirement already satisfied: torchvision in /usr/local/lib/python3.11/dist-packages (0.20.1+cu124)\n",
            "Requirement already satisfied: timm in /usr/local/lib/python3.11/dist-packages (1.0.15)\n",
            "Collecting dagshub\n",
            "  Downloading dagshub-0.5.9-py3-none-any.whl.metadata (12 kB)\n",
            "Collecting mlflow\n",
            "  Downloading mlflow-2.20.3-py3-none-any.whl.metadata (30 kB)\n",
            "Requirement already satisfied: filelock in /usr/local/lib/python3.11/dist-packages (from torch) (3.17.0)\n",
            "Requirement already satisfied: typing-extensions>=4.8.0 in /usr/local/lib/python3.11/dist-packages (from torch) (4.12.2)\n",
            "Requirement already satisfied: networkx in /usr/local/lib/python3.11/dist-packages (from torch) (3.4.2)\n",
            "Requirement already satisfied: jinja2 in /usr/local/lib/python3.11/dist-packages (from torch) (3.1.5)\n",
            "Requirement already satisfied: fsspec in /usr/local/lib/python3.11/dist-packages (from torch) (2024.10.0)\n",
            "Collecting nvidia-cuda-nvrtc-cu12==12.4.127 (from torch)\n",
            "  Downloading nvidia_cuda_nvrtc_cu12-12.4.127-py3-none-manylinux2014_x86_64.whl.metadata (1.5 kB)\n",
            "Collecting nvidia-cuda-runtime-cu12==12.4.127 (from torch)\n",
            "  Downloading nvidia_cuda_runtime_cu12-12.4.127-py3-none-manylinux2014_x86_64.whl.metadata (1.5 kB)\n",
            "Collecting nvidia-cuda-cupti-cu12==12.4.127 (from torch)\n",
            "  Downloading nvidia_cuda_cupti_cu12-12.4.127-py3-none-manylinux2014_x86_64.whl.metadata (1.6 kB)\n",
            "Collecting nvidia-cudnn-cu12==9.1.0.70 (from torch)\n",
            "  Downloading nvidia_cudnn_cu12-9.1.0.70-py3-none-manylinux2014_x86_64.whl.metadata (1.6 kB)\n",
            "Collecting nvidia-cublas-cu12==12.4.5.8 (from torch)\n",
            "  Downloading nvidia_cublas_cu12-12.4.5.8-py3-none-manylinux2014_x86_64.whl.metadata (1.5 kB)\n",
            "Collecting nvidia-cufft-cu12==11.2.1.3 (from torch)\n",
            "  Downloading nvidia_cufft_cu12-11.2.1.3-py3-none-manylinux2014_x86_64.whl.metadata (1.5 kB)\n",
            "Collecting nvidia-curand-cu12==10.3.5.147 (from torch)\n",
            "  Downloading nvidia_curand_cu12-10.3.5.147-py3-none-manylinux2014_x86_64.whl.metadata (1.5 kB)\n",
            "Collecting nvidia-cusolver-cu12==11.6.1.9 (from torch)\n",
            "  Downloading nvidia_cusolver_cu12-11.6.1.9-py3-none-manylinux2014_x86_64.whl.metadata (1.6 kB)\n",
            "Collecting nvidia-cusparse-cu12==12.3.1.170 (from torch)\n",
            "  Downloading nvidia_cusparse_cu12-12.3.1.170-py3-none-manylinux2014_x86_64.whl.metadata (1.6 kB)\n",
            "Requirement already satisfied: nvidia-nccl-cu12==2.21.5 in /usr/local/lib/python3.11/dist-packages (from torch) (2.21.5)\n",
            "Requirement already satisfied: nvidia-nvtx-cu12==12.4.127 in /usr/local/lib/python3.11/dist-packages (from torch) (12.4.127)\n",
            "Collecting nvidia-nvjitlink-cu12==12.4.127 (from torch)\n",
            "  Downloading nvidia_nvjitlink_cu12-12.4.127-py3-none-manylinux2014_x86_64.whl.metadata (1.5 kB)\n",
            "Requirement already satisfied: triton==3.1.0 in /usr/local/lib/python3.11/dist-packages (from torch) (3.1.0)\n",
            "Requirement already satisfied: sympy==1.13.1 in /usr/local/lib/python3.11/dist-packages (from torch) (1.13.1)\n",
            "Requirement already satisfied: mpmath<1.4,>=1.1.0 in /usr/local/lib/python3.11/dist-packages (from sympy==1.13.1->torch) (1.3.0)\n",
            "Requirement already satisfied: numpy in /usr/local/lib/python3.11/dist-packages (from torchvision) (1.26.4)\n",
            "Requirement already satisfied: pillow!=8.3.*,>=5.3.0 in /usr/local/lib/python3.11/dist-packages (from torchvision) (11.1.0)\n",
            "Requirement already satisfied: pyyaml in /usr/local/lib/python3.11/dist-packages (from timm) (6.0.2)\n",
            "Requirement already satisfied: huggingface_hub in /usr/local/lib/python3.11/dist-packages (from timm) (0.28.1)\n",
            "Requirement already satisfied: safetensors in /usr/local/lib/python3.11/dist-packages (from timm) (0.5.3)\n",
            "Collecting appdirs>=1.4.4 (from dagshub)\n",
            "  Downloading appdirs-1.4.4-py2.py3-none-any.whl.metadata (9.0 kB)\n",
            "Requirement already satisfied: click>=8.0.4 in /usr/local/lib/python3.11/dist-packages (from dagshub) (8.1.8)\n",
            "Requirement already satisfied: httpx>=0.23.0 in /usr/local/lib/python3.11/dist-packages (from dagshub) (0.28.1)\n",
            "Requirement already satisfied: GitPython>=3.1.29 in /usr/local/lib/python3.11/dist-packages (from dagshub) (3.1.44)\n",
            "Requirement already satisfied: rich>=13.1.0 in /usr/local/lib/python3.11/dist-packages (from dagshub) (13.9.4)\n",
            "Collecting dacite~=1.6.0 (from dagshub)\n",
            "  Downloading dacite-1.6.0-py3-none-any.whl.metadata (14 kB)\n",
            "Requirement already satisfied: tenacity>=8.2.2 in /usr/local/lib/python3.11/dist-packages (from dagshub) (9.0.0)\n",
            "Collecting gql[requests] (from dagshub)\n",
            "  Downloading gql-3.5.2-py2.py3-none-any.whl.metadata (9.4 kB)\n",
            "Collecting dataclasses-json (from dagshub)\n",
            "  Downloading dataclasses_json-0.6.7-py3-none-any.whl.metadata (25 kB)\n",
            "Requirement already satisfied: pandas in /usr/local/lib/python3.11/dist-packages (from dagshub) (2.2.2)\n",
            "Collecting treelib>=1.6.4 (from dagshub)\n",
            "  Downloading treelib-1.7.1-py3-none-any.whl.metadata (1.4 kB)\n",
            "Collecting pathvalidate>=3.0.0 (from dagshub)\n",
            "  Downloading pathvalidate-3.2.3-py3-none-any.whl.metadata (12 kB)\n",
            "Requirement already satisfied: python-dateutil in /usr/local/lib/python3.11/dist-packages (from dagshub) (2.8.2)\n",
            "Collecting boto3 (from dagshub)\n",
            "  Downloading boto3-1.37.8-py3-none-any.whl.metadata (6.6 kB)\n",
            "Collecting semver (from dagshub)\n",
            "  Downloading semver-3.0.4-py3-none-any.whl.metadata (6.8 kB)\n",
            "Collecting dagshub-annotation-converter>=0.1.5 (from dagshub)\n",
            "  Downloading dagshub_annotation_converter-0.1.5-py3-none-any.whl.metadata (2.5 kB)\n",
            "Collecting mlflow-skinny==2.20.3 (from mlflow)\n",
            "  Downloading mlflow_skinny-2.20.3-py3-none-any.whl.metadata (31 kB)\n",
            "Requirement already satisfied: Flask<4 in /usr/local/lib/python3.11/dist-packages (from mlflow) (3.1.0)\n",
            "Collecting alembic!=1.10.0,<2 (from mlflow)\n",
            "  Downloading alembic-1.15.1-py3-none-any.whl.metadata (7.2 kB)\n",
            "Collecting docker<8,>=4.0.0 (from mlflow)\n",
            "  Downloading docker-7.1.0-py3-none-any.whl.metadata (3.8 kB)\n",
            "Collecting graphene<4 (from mlflow)\n",
            "  Downloading graphene-3.4.3-py2.py3-none-any.whl.metadata (6.9 kB)\n",
            "Collecting gunicorn<24 (from mlflow)\n",
            "  Downloading gunicorn-23.0.0-py3-none-any.whl.metadata (4.4 kB)\n",
            "Requirement already satisfied: markdown<4,>=3.3 in /usr/local/lib/python3.11/dist-packages (from mlflow) (3.7)\n",
            "Requirement already satisfied: matplotlib<4 in /usr/local/lib/python3.11/dist-packages (from mlflow) (3.10.0)\n",
            "Requirement already satisfied: pyarrow<20,>=4.0.0 in /usr/local/lib/python3.11/dist-packages (from mlflow) (18.1.0)\n",
            "Requirement already satisfied: scikit-learn<2 in /usr/local/lib/python3.11/dist-packages (from mlflow) (1.6.1)\n",
            "Requirement already satisfied: scipy<2 in /usr/local/lib/python3.11/dist-packages (from mlflow) (1.13.1)\n",
            "Requirement already satisfied: sqlalchemy<3,>=1.4.0 in /usr/local/lib/python3.11/dist-packages (from mlflow) (2.0.38)\n",
            "Requirement already satisfied: cachetools<6,>=5.0.0 in /usr/local/lib/python3.11/dist-packages (from mlflow-skinny==2.20.3->mlflow) (5.5.2)\n",
            "Requirement already satisfied: cloudpickle<4 in /usr/local/lib/python3.11/dist-packages (from mlflow-skinny==2.20.3->mlflow) (3.1.1)\n",
            "Collecting databricks-sdk<1,>=0.20.0 (from mlflow-skinny==2.20.3->mlflow)\n",
            "  Downloading databricks_sdk-0.44.1-py3-none-any.whl.metadata (38 kB)\n",
            "Requirement already satisfied: importlib_metadata!=4.7.0,<9,>=3.7.0 in /usr/local/lib/python3.11/dist-packages (from mlflow-skinny==2.20.3->mlflow) (8.6.1)\n",
            "Requirement already satisfied: opentelemetry-api<3,>=1.9.0 in /usr/local/lib/python3.11/dist-packages (from mlflow-skinny==2.20.3->mlflow) (1.16.0)\n",
            "Requirement already satisfied: opentelemetry-sdk<3,>=1.9.0 in /usr/local/lib/python3.11/dist-packages (from mlflow-skinny==2.20.3->mlflow) (1.16.0)\n",
            "Requirement already satisfied: packaging<25 in /usr/local/lib/python3.11/dist-packages (from mlflow-skinny==2.20.3->mlflow) (24.2)\n",
            "Requirement already satisfied: protobuf<6,>=3.12.0 in /usr/local/lib/python3.11/dist-packages (from mlflow-skinny==2.20.3->mlflow) (4.25.6)\n",
            "Requirement already satisfied: pydantic<3,>=1.10.8 in /usr/local/lib/python3.11/dist-packages (from mlflow-skinny==2.20.3->mlflow) (2.10.6)\n",
            "Requirement already satisfied: requests<3,>=2.17.3 in /usr/local/lib/python3.11/dist-packages (from mlflow-skinny==2.20.3->mlflow) (2.32.3)\n",
            "Requirement already satisfied: sqlparse<1,>=0.4.0 in /usr/local/lib/python3.11/dist-packages (from mlflow-skinny==2.20.3->mlflow) (0.5.3)\n",
            "Collecting Mako (from alembic!=1.10.0,<2->mlflow)\n",
            "  Downloading Mako-1.3.9-py3-none-any.whl.metadata (2.9 kB)\n",
            "Requirement already satisfied: lxml in /usr/local/lib/python3.11/dist-packages (from dagshub-annotation-converter>=0.1.5->dagshub) (5.3.1)\n",
            "Requirement already satisfied: urllib3>=1.26.0 in /usr/local/lib/python3.11/dist-packages (from docker<8,>=4.0.0->mlflow) (2.3.0)\n",
            "Requirement already satisfied: Werkzeug>=3.1 in /usr/local/lib/python3.11/dist-packages (from Flask<4->mlflow) (3.1.3)\n",
            "Requirement already satisfied: itsdangerous>=2.2 in /usr/local/lib/python3.11/dist-packages (from Flask<4->mlflow) (2.2.0)\n",
            "Requirement already satisfied: blinker>=1.9 in /usr/local/lib/python3.11/dist-packages (from Flask<4->mlflow) (1.9.0)\n",
            "Requirement already satisfied: gitdb<5,>=4.0.1 in /usr/local/lib/python3.11/dist-packages (from GitPython>=3.1.29->dagshub) (4.0.12)\n",
            "Collecting graphql-core<3.3,>=3.1 (from graphene<4->mlflow)\n",
            "  Downloading graphql_core-3.2.6-py3-none-any.whl.metadata (11 kB)\n",
            "Collecting graphql-relay<3.3,>=3.1 (from graphene<4->mlflow)\n",
            "  Downloading graphql_relay-3.2.0-py3-none-any.whl.metadata (12 kB)\n",
            "Requirement already satisfied: anyio in /usr/local/lib/python3.11/dist-packages (from httpx>=0.23.0->dagshub) (3.7.1)\n",
            "Requirement already satisfied: certifi in /usr/local/lib/python3.11/dist-packages (from httpx>=0.23.0->dagshub) (2025.1.31)\n",
            "Requirement already satisfied: httpcore==1.* in /usr/local/lib/python3.11/dist-packages (from httpx>=0.23.0->dagshub) (1.0.7)\n",
            "Requirement already satisfied: idna in /usr/local/lib/python3.11/dist-packages (from httpx>=0.23.0->dagshub) (3.10)\n",
            "Requirement already satisfied: h11<0.15,>=0.13 in /usr/local/lib/python3.11/dist-packages (from httpcore==1.*->httpx>=0.23.0->dagshub) (0.14.0)\n",
            "Requirement already satisfied: MarkupSafe>=2.0 in /usr/local/lib/python3.11/dist-packages (from jinja2->torch) (3.0.2)\n",
            "Requirement already satisfied: contourpy>=1.0.1 in /usr/local/lib/python3.11/dist-packages (from matplotlib<4->mlflow) (1.3.1)\n",
            "Requirement already satisfied: cycler>=0.10 in /usr/local/lib/python3.11/dist-packages (from matplotlib<4->mlflow) (0.12.1)\n",
            "Requirement already satisfied: fonttools>=4.22.0 in /usr/local/lib/python3.11/dist-packages (from matplotlib<4->mlflow) (4.56.0)\n",
            "Requirement already satisfied: kiwisolver>=1.3.1 in /usr/local/lib/python3.11/dist-packages (from matplotlib<4->mlflow) (1.4.8)\n",
            "Requirement already satisfied: pyparsing>=2.3.1 in /usr/local/lib/python3.11/dist-packages (from matplotlib<4->mlflow) (3.2.1)\n",
            "Requirement already satisfied: pytz>=2020.1 in /usr/local/lib/python3.11/dist-packages (from pandas->dagshub) (2025.1)\n",
            "Requirement already satisfied: tzdata>=2022.7 in /usr/local/lib/python3.11/dist-packages (from pandas->dagshub) (2025.1)\n",
            "Requirement already satisfied: six>=1.5 in /usr/local/lib/python3.11/dist-packages (from python-dateutil->dagshub) (1.17.0)\n",
            "Requirement already satisfied: markdown-it-py>=2.2.0 in /usr/local/lib/python3.11/dist-packages (from rich>=13.1.0->dagshub) (3.0.0)\n",
            "Requirement already satisfied: pygments<3.0.0,>=2.13.0 in /usr/local/lib/python3.11/dist-packages (from rich>=13.1.0->dagshub) (2.18.0)\n",
            "Requirement already satisfied: joblib>=1.2.0 in /usr/local/lib/python3.11/dist-packages (from scikit-learn<2->mlflow) (1.4.2)\n",
            "Requirement already satisfied: threadpoolctl>=3.1.0 in /usr/local/lib/python3.11/dist-packages (from scikit-learn<2->mlflow) (3.5.0)\n",
            "Requirement already satisfied: greenlet!=0.4.17 in /usr/local/lib/python3.11/dist-packages (from sqlalchemy<3,>=1.4.0->mlflow) (3.1.1)\n",
            "Collecting botocore<1.38.0,>=1.37.8 (from boto3->dagshub)\n",
            "  Downloading botocore-1.37.8-py3-none-any.whl.metadata (5.7 kB)\n",
            "Collecting jmespath<2.0.0,>=0.7.1 (from boto3->dagshub)\n",
            "  Downloading jmespath-1.0.1-py3-none-any.whl.metadata (7.6 kB)\n",
            "Collecting s3transfer<0.12.0,>=0.11.0 (from boto3->dagshub)\n",
            "  Downloading s3transfer-0.11.4-py3-none-any.whl.metadata (1.7 kB)\n",
            "Collecting marshmallow<4.0.0,>=3.18.0 (from dataclasses-json->dagshub)\n",
            "  Downloading marshmallow-3.26.1-py3-none-any.whl.metadata (7.3 kB)\n",
            "Collecting typing-inspect<1,>=0.4.0 (from dataclasses-json->dagshub)\n",
            "  Downloading typing_inspect-0.9.0-py3-none-any.whl.metadata (1.5 kB)\n",
            "Collecting graphql-core<3.3,>=3.1 (from graphene<4->mlflow)\n",
            "  Downloading graphql_core-3.2.4-py3-none-any.whl.metadata (10 kB)\n",
            "Requirement already satisfied: yarl<2.0,>=1.6 in /usr/local/lib/python3.11/dist-packages (from gql[requests]->dagshub) (1.18.3)\n",
            "Collecting backoff<3.0,>=1.11.1 (from gql[requests]->dagshub)\n",
            "  Downloading backoff-2.2.1-py3-none-any.whl.metadata (14 kB)\n",
            "Requirement already satisfied: requests-toolbelt<2,>=1.0.0 in /usr/local/lib/python3.11/dist-packages (from gql[requests]->dagshub) (1.0.0)\n",
            "Requirement already satisfied: tqdm>=4.42.1 in /usr/local/lib/python3.11/dist-packages (from huggingface_hub->timm) (4.67.1)\n",
            "Requirement already satisfied: sniffio>=1.1 in /usr/local/lib/python3.11/dist-packages (from anyio->httpx>=0.23.0->dagshub) (1.3.1)\n",
            "Requirement already satisfied: google-auth~=2.0 in /usr/local/lib/python3.11/dist-packages (from databricks-sdk<1,>=0.20.0->mlflow-skinny==2.20.3->mlflow) (2.38.0)\n",
            "Requirement already satisfied: smmap<6,>=3.0.1 in /usr/local/lib/python3.11/dist-packages (from gitdb<5,>=4.0.1->GitPython>=3.1.29->dagshub) (5.0.2)\n",
            "Requirement already satisfied: zipp>=3.20 in /usr/local/lib/python3.11/dist-packages (from importlib_metadata!=4.7.0,<9,>=3.7.0->mlflow-skinny==2.20.3->mlflow) (3.21.0)\n",
            "Requirement already satisfied: mdurl~=0.1 in /usr/local/lib/python3.11/dist-packages (from markdown-it-py>=2.2.0->rich>=13.1.0->dagshub) (0.1.2)\n",
            "Requirement already satisfied: deprecated>=1.2.6 in /usr/local/lib/python3.11/dist-packages (from opentelemetry-api<3,>=1.9.0->mlflow-skinny==2.20.3->mlflow) (1.2.18)\n",
            "Requirement already satisfied: setuptools>=16.0 in /usr/local/lib/python3.11/dist-packages (from opentelemetry-api<3,>=1.9.0->mlflow-skinny==2.20.3->mlflow) (75.1.0)\n",
            "Requirement already satisfied: opentelemetry-semantic-conventions==0.37b0 in /usr/local/lib/python3.11/dist-packages (from opentelemetry-sdk<3,>=1.9.0->mlflow-skinny==2.20.3->mlflow) (0.37b0)\n",
            "Requirement already satisfied: annotated-types>=0.6.0 in /usr/local/lib/python3.11/dist-packages (from pydantic<3,>=1.10.8->mlflow-skinny==2.20.3->mlflow) (0.7.0)\n",
            "Requirement already satisfied: pydantic-core==2.27.2 in /usr/local/lib/python3.11/dist-packages (from pydantic<3,>=1.10.8->mlflow-skinny==2.20.3->mlflow) (2.27.2)\n",
            "Requirement already satisfied: charset-normalizer<4,>=2 in /usr/local/lib/python3.11/dist-packages (from requests<3,>=2.17.3->mlflow-skinny==2.20.3->mlflow) (3.4.1)\n",
            "Collecting mypy-extensions>=0.3.0 (from typing-inspect<1,>=0.4.0->dataclasses-json->dagshub)\n",
            "  Downloading mypy_extensions-1.0.0-py3-none-any.whl.metadata (1.1 kB)\n",
            "Requirement already satisfied: multidict>=4.0 in /usr/local/lib/python3.11/dist-packages (from yarl<2.0,>=1.6->gql[requests]->dagshub) (6.1.0)\n",
            "Requirement already satisfied: propcache>=0.2.0 in /usr/local/lib/python3.11/dist-packages (from yarl<2.0,>=1.6->gql[requests]->dagshub) (0.3.0)\n",
            "Requirement already satisfied: wrapt<2,>=1.10 in /usr/local/lib/python3.11/dist-packages (from deprecated>=1.2.6->opentelemetry-api<3,>=1.9.0->mlflow-skinny==2.20.3->mlflow) (1.17.2)\n",
            "Requirement already satisfied: pyasn1-modules>=0.2.1 in /usr/local/lib/python3.11/dist-packages (from google-auth~=2.0->databricks-sdk<1,>=0.20.0->mlflow-skinny==2.20.3->mlflow) (0.4.1)\n",
            "Requirement already satisfied: rsa<5,>=3.1.4 in /usr/local/lib/python3.11/dist-packages (from google-auth~=2.0->databricks-sdk<1,>=0.20.0->mlflow-skinny==2.20.3->mlflow) (4.9)\n",
            "Requirement already satisfied: pyasn1<0.7.0,>=0.4.6 in /usr/local/lib/python3.11/dist-packages (from pyasn1-modules>=0.2.1->google-auth~=2.0->databricks-sdk<1,>=0.20.0->mlflow-skinny==2.20.3->mlflow) (0.6.1)\n",
            "Downloading nvidia_cublas_cu12-12.4.5.8-py3-none-manylinux2014_x86_64.whl (363.4 MB)\n",
            "\u001b[2K   \u001b[90m━━━━━━━━━━━━━━━━━━━━━━━━━━━━━━━━━━━━━━━━\u001b[0m \u001b[32m363.4/363.4 MB\u001b[0m \u001b[31m4.9 MB/s\u001b[0m eta \u001b[36m0:00:00\u001b[0m\n",
            "\u001b[?25hDownloading nvidia_cuda_cupti_cu12-12.4.127-py3-none-manylinux2014_x86_64.whl (13.8 MB)\n",
            "\u001b[2K   \u001b[90m━━━━━━━━━━━━━━━━━━━━━━━━━━━━━━━━━━━━━━━━\u001b[0m \u001b[32m13.8/13.8 MB\u001b[0m \u001b[31m105.6 MB/s\u001b[0m eta \u001b[36m0:00:00\u001b[0m\n",
            "\u001b[?25hDownloading nvidia_cuda_nvrtc_cu12-12.4.127-py3-none-manylinux2014_x86_64.whl (24.6 MB)\n",
            "\u001b[2K   \u001b[90m━━━━━━━━━━━━━━━━━━━━━━━━━━━━━━━━━━━━━━━━\u001b[0m \u001b[32m24.6/24.6 MB\u001b[0m \u001b[31m82.4 MB/s\u001b[0m eta \u001b[36m0:00:00\u001b[0m\n",
            "\u001b[?25hDownloading nvidia_cuda_runtime_cu12-12.4.127-py3-none-manylinux2014_x86_64.whl (883 kB)\n",
            "\u001b[2K   \u001b[90m━━━━━━━━━━━━━━━━━━━━━━━━━━━━━━━━━━━━━━━━\u001b[0m \u001b[32m883.7/883.7 kB\u001b[0m \u001b[31m54.7 MB/s\u001b[0m eta \u001b[36m0:00:00\u001b[0m\n",
            "\u001b[?25hDownloading nvidia_cudnn_cu12-9.1.0.70-py3-none-manylinux2014_x86_64.whl (664.8 MB)\n",
            "\u001b[2K   \u001b[90m━━━━━━━━━━━━━━━━━━━━━━━━━━━━━━━━━━━━━━━━\u001b[0m \u001b[32m664.8/664.8 MB\u001b[0m \u001b[31m1.6 MB/s\u001b[0m eta \u001b[36m0:00:00\u001b[0m\n",
            "\u001b[?25hDownloading nvidia_cufft_cu12-11.2.1.3-py3-none-manylinux2014_x86_64.whl (211.5 MB)\n",
            "\u001b[2K   \u001b[90m━━━━━━━━━━━━━━━━━━━━━━━━━━━━━━━━━━━━━━━━\u001b[0m \u001b[32m211.5/211.5 MB\u001b[0m \u001b[31m5.7 MB/s\u001b[0m eta \u001b[36m0:00:00\u001b[0m\n",
            "\u001b[?25hDownloading nvidia_curand_cu12-10.3.5.147-py3-none-manylinux2014_x86_64.whl (56.3 MB)\n",
            "\u001b[2K   \u001b[90m━━━━━━━━━━━━━━━━━━━━━━━━━━━━━━━━━━━━━━━━\u001b[0m \u001b[32m56.3/56.3 MB\u001b[0m \u001b[31m21.0 MB/s\u001b[0m eta \u001b[36m0:00:00\u001b[0m\n",
            "\u001b[?25hDownloading nvidia_cusolver_cu12-11.6.1.9-py3-none-manylinux2014_x86_64.whl (127.9 MB)\n",
            "\u001b[2K   \u001b[90m━━━━━━━━━━━━━━━━━━━━━━━━━━━━━━━━━━━━━━━━\u001b[0m \u001b[32m127.9/127.9 MB\u001b[0m \u001b[31m7.7 MB/s\u001b[0m eta \u001b[36m0:00:00\u001b[0m\n",
            "\u001b[?25hDownloading nvidia_cusparse_cu12-12.3.1.170-py3-none-manylinux2014_x86_64.whl (207.5 MB)\n",
            "\u001b[2K   \u001b[90m━━━━━━━━━━━━━━━━━━━━━━━━━━━━━━━━━━━━━━━━\u001b[0m \u001b[32m207.5/207.5 MB\u001b[0m \u001b[31m6.6 MB/s\u001b[0m eta \u001b[36m0:00:00\u001b[0m\n",
            "\u001b[?25hDownloading nvidia_nvjitlink_cu12-12.4.127-py3-none-manylinux2014_x86_64.whl (21.1 MB)\n",
            "\u001b[2K   \u001b[90m━━━━━━━━━━━━━━━━━━━━━━━━━━━━━━━━━━━━━━━━\u001b[0m \u001b[32m21.1/21.1 MB\u001b[0m \u001b[31m36.6 MB/s\u001b[0m eta \u001b[36m0:00:00\u001b[0m\n",
            "\u001b[?25hDownloading dagshub-0.5.9-py3-none-any.whl (260 kB)\n",
            "\u001b[2K   \u001b[90m━━━━━━━━━━━━━━━━━━━━━━━━━━━━━━━━━━━━━━━━\u001b[0m \u001b[32m260.1/260.1 kB\u001b[0m \u001b[31m20.9 MB/s\u001b[0m eta \u001b[36m0:00:00\u001b[0m\n",
            "\u001b[?25hDownloading mlflow-2.20.3-py3-none-any.whl (28.4 MB)\n",
            "\u001b[2K   \u001b[90m━━━━━━━━━━━━━━━━━━━━━━━━━━━━━━━━━━━━━━━━\u001b[0m \u001b[32m28.4/28.4 MB\u001b[0m \u001b[31m31.0 MB/s\u001b[0m eta \u001b[36m0:00:00\u001b[0m\n",
            "\u001b[?25hDownloading mlflow_skinny-2.20.3-py3-none-any.whl (6.0 MB)\n",
            "\u001b[2K   \u001b[90m━━━━━━━━━━━━━━━━━━━━━━━━━━━━━━━━━━━━━━━━\u001b[0m \u001b[32m6.0/6.0 MB\u001b[0m \u001b[31m95.1 MB/s\u001b[0m eta \u001b[36m0:00:00\u001b[0m\n",
            "\u001b[?25hDownloading alembic-1.15.1-py3-none-any.whl (231 kB)\n",
            "\u001b[2K   \u001b[90m━━━━━━━━━━━━━━━━━━━━━━━━━━━━━━━━━━━━━━━━\u001b[0m \u001b[32m231.8/231.8 kB\u001b[0m \u001b[31m22.9 MB/s\u001b[0m eta \u001b[36m0:00:00\u001b[0m\n",
            "\u001b[?25hDownloading appdirs-1.4.4-py2.py3-none-any.whl (9.6 kB)\n",
            "Downloading dacite-1.6.0-py3-none-any.whl (12 kB)\n",
            "Downloading dagshub_annotation_converter-0.1.5-py3-none-any.whl (33 kB)\n",
            "Downloading docker-7.1.0-py3-none-any.whl (147 kB)\n",
            "\u001b[2K   \u001b[90m━━━━━━━━━━━━━━━━━━━━━━━━━━━━━━━━━━━━━━━━\u001b[0m \u001b[32m147.8/147.8 kB\u001b[0m \u001b[31m15.3 MB/s\u001b[0m eta \u001b[36m0:00:00\u001b[0m\n",
            "\u001b[?25hDownloading graphene-3.4.3-py2.py3-none-any.whl (114 kB)\n",
            "\u001b[2K   \u001b[90m━━━━━━━━━━━━━━━━━━━━━━━━━━━━━━━━━━━━━━━━\u001b[0m \u001b[32m114.9/114.9 kB\u001b[0m \u001b[31m11.9 MB/s\u001b[0m eta \u001b[36m0:00:00\u001b[0m\n",
            "\u001b[?25hDownloading gunicorn-23.0.0-py3-none-any.whl (85 kB)\n",
            "\u001b[2K   \u001b[90m━━━━━━━━━━━━━━━━━━━━━━━━━━━━━━━━━━━━━━━━\u001b[0m \u001b[32m85.0/85.0 kB\u001b[0m \u001b[31m8.8 MB/s\u001b[0m eta \u001b[36m0:00:00\u001b[0m\n",
            "\u001b[?25hDownloading pathvalidate-3.2.3-py3-none-any.whl (24 kB)\n",
            "Downloading treelib-1.7.1-py3-none-any.whl (19 kB)\n",
            "Downloading boto3-1.37.8-py3-none-any.whl (139 kB)\n",
            "\u001b[2K   \u001b[90m━━━━━━━━━━━━━━━━━━━━━━━━━━━━━━━━━━━━━━━━\u001b[0m \u001b[32m139.5/139.5 kB\u001b[0m \u001b[31m13.9 MB/s\u001b[0m eta \u001b[36m0:00:00\u001b[0m\n",
            "\u001b[?25hDownloading dataclasses_json-0.6.7-py3-none-any.whl (28 kB)\n",
            "Downloading semver-3.0.4-py3-none-any.whl (17 kB)\n",
            "Downloading backoff-2.2.1-py3-none-any.whl (15 kB)\n",
            "Downloading botocore-1.37.8-py3-none-any.whl (13.4 MB)\n",
            "\u001b[2K   \u001b[90m━━━━━━━━━━━━━━━━━━━━━━━━━━━━━━━━━━━━━━━━\u001b[0m \u001b[32m13.4/13.4 MB\u001b[0m \u001b[31m112.2 MB/s\u001b[0m eta \u001b[36m0:00:00\u001b[0m\n",
            "\u001b[?25hDownloading databricks_sdk-0.44.1-py3-none-any.whl (648 kB)\n",
            "\u001b[2K   \u001b[90m━━━━━━━━━━━━━━━━━━━━━━━━━━━━━━━━━━━━━━━━\u001b[0m \u001b[32m648.7/648.7 kB\u001b[0m \u001b[31m22.5 MB/s\u001b[0m eta \u001b[36m0:00:00\u001b[0m\n",
            "\u001b[?25hDownloading graphql_core-3.2.4-py3-none-any.whl (203 kB)\n",
            "\u001b[2K   \u001b[90m━━━━━━━━━━━━━━━━━━━━━━━━━━━━━━━━━━━━━━━━\u001b[0m \u001b[32m203.2/203.2 kB\u001b[0m \u001b[31m20.9 MB/s\u001b[0m eta \u001b[36m0:00:00\u001b[0m\n",
            "\u001b[?25hDownloading graphql_relay-3.2.0-py3-none-any.whl (16 kB)\n",
            "Downloading jmespath-1.0.1-py3-none-any.whl (20 kB)\n",
            "Downloading marshmallow-3.26.1-py3-none-any.whl (50 kB)\n",
            "\u001b[2K   \u001b[90m━━━━━━━━━━━━━━━━━━━━━━━━━━━━━━━━━━━━━━━━\u001b[0m \u001b[32m50.9/50.9 kB\u001b[0m \u001b[31m4.4 MB/s\u001b[0m eta \u001b[36m0:00:00\u001b[0m\n",
            "\u001b[?25hDownloading s3transfer-0.11.4-py3-none-any.whl (84 kB)\n",
            "\u001b[2K   \u001b[90m━━━━━━━━━━━━━━━━━━━━━━━━━━━━━━━━━━━━━━━━\u001b[0m \u001b[32m84.4/84.4 kB\u001b[0m \u001b[31m8.3 MB/s\u001b[0m eta \u001b[36m0:00:00\u001b[0m\n",
            "\u001b[?25hDownloading typing_inspect-0.9.0-py3-none-any.whl (8.8 kB)\n",
            "Downloading gql-3.5.2-py2.py3-none-any.whl (74 kB)\n",
            "\u001b[2K   \u001b[90m━━━━━━━━━━━━━━━━━━━━━━━━━━━━━━━━━━━━━━━━\u001b[0m \u001b[32m74.3/74.3 kB\u001b[0m \u001b[31m7.4 MB/s\u001b[0m eta \u001b[36m0:00:00\u001b[0m\n",
            "\u001b[?25hDownloading Mako-1.3.9-py3-none-any.whl (78 kB)\n",
            "\u001b[2K   \u001b[90m━━━━━━━━━━━━━━━━━━━━━━━━━━━━━━━━━━━━━━━━\u001b[0m \u001b[32m78.5/78.5 kB\u001b[0m \u001b[31m8.2 MB/s\u001b[0m eta \u001b[36m0:00:00\u001b[0m\n",
            "\u001b[?25hDownloading mypy_extensions-1.0.0-py3-none-any.whl (4.7 kB)\n",
            "Installing collected packages: appdirs, treelib, semver, pathvalidate, nvidia-nvjitlink-cu12, nvidia-curand-cu12, nvidia-cufft-cu12, nvidia-cuda-runtime-cu12, nvidia-cuda-nvrtc-cu12, nvidia-cuda-cupti-cu12, nvidia-cublas-cu12, mypy-extensions, marshmallow, Mako, jmespath, gunicorn, graphql-core, dacite, backoff, typing-inspect, nvidia-cusparse-cu12, nvidia-cudnn-cu12, graphql-relay, gql, docker, botocore, alembic, s3transfer, nvidia-cusolver-cu12, graphene, dataclasses-json, databricks-sdk, dagshub-annotation-converter, mlflow-skinny, boto3, mlflow, dagshub\n",
            "  Attempting uninstall: nvidia-nvjitlink-cu12\n",
            "    Found existing installation: nvidia-nvjitlink-cu12 12.5.82\n",
            "    Uninstalling nvidia-nvjitlink-cu12-12.5.82:\n",
            "      Successfully uninstalled nvidia-nvjitlink-cu12-12.5.82\n",
            "  Attempting uninstall: nvidia-curand-cu12\n",
            "    Found existing installation: nvidia-curand-cu12 10.3.6.82\n",
            "    Uninstalling nvidia-curand-cu12-10.3.6.82:\n",
            "      Successfully uninstalled nvidia-curand-cu12-10.3.6.82\n",
            "  Attempting uninstall: nvidia-cufft-cu12\n",
            "    Found existing installation: nvidia-cufft-cu12 11.2.3.61\n",
            "    Uninstalling nvidia-cufft-cu12-11.2.3.61:\n",
            "      Successfully uninstalled nvidia-cufft-cu12-11.2.3.61\n",
            "  Attempting uninstall: nvidia-cuda-runtime-cu12\n",
            "    Found existing installation: nvidia-cuda-runtime-cu12 12.5.82\n",
            "    Uninstalling nvidia-cuda-runtime-cu12-12.5.82:\n",
            "      Successfully uninstalled nvidia-cuda-runtime-cu12-12.5.82\n",
            "  Attempting uninstall: nvidia-cuda-nvrtc-cu12\n",
            "    Found existing installation: nvidia-cuda-nvrtc-cu12 12.5.82\n",
            "    Uninstalling nvidia-cuda-nvrtc-cu12-12.5.82:\n",
            "      Successfully uninstalled nvidia-cuda-nvrtc-cu12-12.5.82\n",
            "  Attempting uninstall: nvidia-cuda-cupti-cu12\n",
            "    Found existing installation: nvidia-cuda-cupti-cu12 12.5.82\n",
            "    Uninstalling nvidia-cuda-cupti-cu12-12.5.82:\n",
            "      Successfully uninstalled nvidia-cuda-cupti-cu12-12.5.82\n",
            "  Attempting uninstall: nvidia-cublas-cu12\n",
            "    Found existing installation: nvidia-cublas-cu12 12.5.3.2\n",
            "    Uninstalling nvidia-cublas-cu12-12.5.3.2:\n",
            "      Successfully uninstalled nvidia-cublas-cu12-12.5.3.2\n",
            "  Attempting uninstall: nvidia-cusparse-cu12\n",
            "    Found existing installation: nvidia-cusparse-cu12 12.5.1.3\n",
            "    Uninstalling nvidia-cusparse-cu12-12.5.1.3:\n",
            "      Successfully uninstalled nvidia-cusparse-cu12-12.5.1.3\n",
            "  Attempting uninstall: nvidia-cudnn-cu12\n",
            "    Found existing installation: nvidia-cudnn-cu12 9.3.0.75\n",
            "    Uninstalling nvidia-cudnn-cu12-9.3.0.75:\n",
            "      Successfully uninstalled nvidia-cudnn-cu12-9.3.0.75\n",
            "  Attempting uninstall: nvidia-cusolver-cu12\n",
            "    Found existing installation: nvidia-cusolver-cu12 11.6.3.83\n",
            "    Uninstalling nvidia-cusolver-cu12-11.6.3.83:\n",
            "      Successfully uninstalled nvidia-cusolver-cu12-11.6.3.83\n",
            "Successfully installed Mako-1.3.9 alembic-1.15.1 appdirs-1.4.4 backoff-2.2.1 boto3-1.37.8 botocore-1.37.8 dacite-1.6.0 dagshub-0.5.9 dagshub-annotation-converter-0.1.5 databricks-sdk-0.44.1 dataclasses-json-0.6.7 docker-7.1.0 gql-3.5.2 graphene-3.4.3 graphql-core-3.2.4 graphql-relay-3.2.0 gunicorn-23.0.0 jmespath-1.0.1 marshmallow-3.26.1 mlflow-2.20.3 mlflow-skinny-2.20.3 mypy-extensions-1.0.0 nvidia-cublas-cu12-12.4.5.8 nvidia-cuda-cupti-cu12-12.4.127 nvidia-cuda-nvrtc-cu12-12.4.127 nvidia-cuda-runtime-cu12-12.4.127 nvidia-cudnn-cu12-9.1.0.70 nvidia-cufft-cu12-11.2.1.3 nvidia-curand-cu12-10.3.5.147 nvidia-cusolver-cu12-11.6.1.9 nvidia-cusparse-cu12-12.3.1.170 nvidia-nvjitlink-cu12-12.4.127 pathvalidate-3.2.3 s3transfer-0.11.4 semver-3.0.4 treelib-1.7.1 typing-inspect-0.9.0\n",
            "Collecting torch-summary\n",
            "  Downloading torch_summary-1.4.5-py3-none-any.whl.metadata (18 kB)\n",
            "Downloading torch_summary-1.4.5-py3-none-any.whl (16 kB)\n",
            "Installing collected packages: torch-summary\n",
            "Successfully installed torch-summary-1.4.5\n"
          ]
        }
      ],
      "source": [
        "!pip install torch torchvision timm dagshub mlflow\n",
        "!pip install torch-summary"
      ]
    },
    {
      "cell_type": "markdown",
      "metadata": {
        "id": "PDn6U-HVNh2b"
      },
      "source": [
        "### <a id='toc1_1_1_'></a>[Import Libraries](#toc0_)"
      ]
    },
    {
      "cell_type": "code",
      "execution_count": 5,
      "metadata": {
        "id": "-M9GaxNyNbD3",
        "colab": {
          "base_uri": "https://localhost:8080/",
          "height": 240,
          "referenced_widgets": [
            "77c7549739fa4209a308bc71697e166b",
            "3f73328fb32042058d230126e57d1ffa"
          ]
        },
        "outputId": "9cd367db-07e3-4b57-89e5-0e33d4380c20"
      },
      "outputs": [
        {
          "output_type": "display_data",
          "data": {
            "text/plain": [
              "                                       \u001b[1m❗❗❗ AUTHORIZATION REQUIRED ❗❗❗\u001b[0m                                        \n"
            ],
            "text/html": [
              "<pre style=\"white-space:pre;overflow-x:auto;line-height:normal;font-family:Menlo,'DejaVu Sans Mono',consolas,'Courier New',monospace\">                                       <span style=\"font-weight: bold\">❗❗❗ AUTHORIZATION REQUIRED ❗❗❗</span>                                        \n",
              "</pre>\n"
            ]
          },
          "metadata": {}
        },
        {
          "output_type": "display_data",
          "data": {
            "text/plain": [
              "Output()"
            ],
            "application/vnd.jupyter.widget-view+json": {
              "version_major": 2,
              "version_minor": 0,
              "model_id": "77c7549739fa4209a308bc71697e166b"
            }
          },
          "metadata": {}
        },
        {
          "output_type": "stream",
          "name": "stdout",
          "text": [
            "\n",
            "\n",
            "Open the following link in your browser to authorize the client:\n",
            "https://dagshub.com/login/oauth/authorize?state=4ad073b0-a14d-41cb-a170-77b12904eb1e&client_id=32b60ba385aa7cecf24046d8195a71c07dd345d9657977863b52e7748e0f0f28&middleman_request_id=7d0b18768b81eb5fac0689fc5a0fbd4dad80a3902935d0c28eeea5cb6d191bfe\n",
            "\n",
            "\n"
          ]
        },
        {
          "output_type": "display_data",
          "data": {
            "text/plain": [],
            "text/html": [
              "<pre style=\"white-space:pre;overflow-x:auto;line-height:normal;font-family:Menlo,'DejaVu Sans Mono',consolas,'Courier New',monospace\"></pre>\n"
            ]
          },
          "metadata": {}
        },
        {
          "output_type": "display_data",
          "data": {
            "text/plain": [
              "Accessing as prachipancholi1\n"
            ],
            "text/html": [
              "<pre style=\"white-space:pre;overflow-x:auto;line-height:normal;font-family:Menlo,'DejaVu Sans Mono',consolas,'Courier New',monospace\">Accessing as prachipancholi1\n",
              "</pre>\n"
            ]
          },
          "metadata": {}
        },
        {
          "output_type": "display_data",
          "data": {
            "text/plain": [
              "Initialized MLflow to track repo \u001b[32m\"shriganesh.patel/Dermnet\"\u001b[0m\n"
            ],
            "text/html": [
              "<pre style=\"white-space:pre;overflow-x:auto;line-height:normal;font-family:Menlo,'DejaVu Sans Mono',consolas,'Courier New',monospace\">Initialized MLflow to track repo <span style=\"color: #008000; text-decoration-color: #008000\">\"shriganesh.patel/Dermnet\"</span>\n",
              "</pre>\n"
            ]
          },
          "metadata": {}
        },
        {
          "output_type": "display_data",
          "data": {
            "text/plain": [
              "Repository shriganesh.patel/Dermnet initialized!\n"
            ],
            "text/html": [
              "<pre style=\"white-space:pre;overflow-x:auto;line-height:normal;font-family:Menlo,'DejaVu Sans Mono',consolas,'Courier New',monospace\">Repository shriganesh.patel/Dermnet initialized!\n",
              "</pre>\n"
            ]
          },
          "metadata": {}
        },
        {
          "output_type": "display_data",
          "data": {
            "text/plain": [
              "Initialized MLflow to track repo \u001b[32m\"prachipancholi1/Dermnet\"\u001b[0m\n"
            ],
            "text/html": [
              "<pre style=\"white-space:pre;overflow-x:auto;line-height:normal;font-family:Menlo,'DejaVu Sans Mono',consolas,'Courier New',monospace\">Initialized MLflow to track repo <span style=\"color: #008000; text-decoration-color: #008000\">\"prachipancholi1/Dermnet\"</span>\n",
              "</pre>\n"
            ]
          },
          "metadata": {}
        },
        {
          "output_type": "display_data",
          "data": {
            "text/plain": [
              "Repository prachipancholi1/Dermnet initialized!\n"
            ],
            "text/html": [
              "<pre style=\"white-space:pre;overflow-x:auto;line-height:normal;font-family:Menlo,'DejaVu Sans Mono',consolas,'Courier New',monospace\">Repository prachipancholi1/Dermnet initialized!\n",
              "</pre>\n"
            ]
          },
          "metadata": {}
        }
      ],
      "source": [
        "import torch\n",
        "import timm\n",
        "import torch.nn as nn\n",
        "import torch.optim as optim\n",
        "import torchvision.transforms as transforms\n",
        "from torch.utils.data import DataLoader,Subset\n",
        "from sklearn.model_selection import train_test_split\n",
        "from sklearn.metrics import classification_report, confusion_matrix, cohen_kappa_score, matthews_corrcoef, ConfusionMatrixDisplay\n",
        "from torchvision import datasets\n",
        "import matplotlib.pyplot as plt\n",
        "import numpy as np\n",
        "import mlflow\n",
        "import mlflow.pytorch\n",
        "import os\n",
        "from tqdm import tqdm\n",
        "import dagshub\n",
        "dagshub.init(repo_owner='shriganesh.patel', repo_name='Dermnet', mlflow=True)\n",
        "dagshub.init(repo_owner='prachipancholi1', repo_name='Dermnet', mlflow=True)"
      ]
    },
    {
      "cell_type": "code",
      "execution_count": 6,
      "metadata": {
        "id": "jkqKqr0XODeo"
      },
      "outputs": [],
      "source": [
        "# Step 1: Define transformations for preprocessing\n",
        "transform = transforms.Compose([\n",
        "    transforms.Resize((224, 224)),  # Resize images to 224x224 (ResNet's expected input size)\n",
        "    transforms.ToTensor(),  # Convert images to PyTorch tensors\n",
        "    transforms.Normalize(mean=[0.485, 0.456, 0.406], std=[0.229, 0.224, 0.225]),  # Normalize based on ImageNet stats\n",
        "])"
      ]
    },
    {
      "cell_type": "code",
      "execution_count": 7,
      "metadata": {
        "id": "-tc-NDThO_fF"
      },
      "outputs": [],
      "source": [
        "# Load the dataset (all images)\n",
        "dataset = datasets.ImageFolder(root='/content/data/Train', transform=transform)"
      ]
    },
    {
      "cell_type": "code",
      "execution_count": 8,
      "metadata": {
        "colab": {
          "base_uri": "https://localhost:8080/"
        },
        "id": "dyw51qa_ZX6z",
        "outputId": "24825922-5b8b-4533-f1f9-e4523b7f1626"
      },
      "outputs": [
        {
          "output_type": "stream",
          "name": "stdout",
          "text": [
            "Classes: ['Eczema', 'Psoriasis', 'Seborrheic_Keratoses']\n"
          ]
        }
      ],
      "source": [
        "# Verify class names\n",
        "print(\"Classes:\", dataset.classes)  # Should print ['Eczema', 'Psoriasis', 'Seborrheic_Keratoses']\n",
        "num_classes = len(dataset.classes)"
      ]
    },
    {
      "cell_type": "code",
      "execution_count": 9,
      "metadata": {
        "id": "5t_2wnsYPTLc"
      },
      "outputs": [],
      "source": [
        "# Step 3: Create indices and split with `train_test_split`\n",
        "indices = list(range(len(dataset)))\n",
        "train_indices, test_indices = train_test_split(indices, test_size=0.1, random_state=42)\n",
        "\n",
        "# Create Subsets\n",
        "train_data = Subset(dataset, train_indices)\n",
        "test_data = Subset(dataset, test_indices)"
      ]
    },
    {
      "cell_type": "code",
      "execution_count": 10,
      "metadata": {
        "id": "GyQ6pB4VQWLF"
      },
      "outputs": [],
      "source": [
        "# Step 3: Create Data Loader for training and test dataset\n",
        "train_dataloader = DataLoader(train_data, batch_size = 32, shuffle = True, num_workers=2)\n",
        "test_dataloader = DataLoader(test_data, batch_size=32, shuffle=True, num_workers=2)"
      ]
    },
    {
      "cell_type": "code",
      "execution_count": 11,
      "metadata": {
        "colab": {
          "base_uri": "https://localhost:8080/",
          "height": 173,
          "referenced_widgets": [
            "d45ed80fe0c041598209039ca0abae6f",
            "5d64088c8959495ca46365c7016c7873",
            "31ffb63ed0f349bf82049033415cdb29",
            "81e3bd035dbb40c3b1e7d12dcd5096f7",
            "9dd55c8560f64104bdbabca9c5c7356a",
            "d1fb0898a71e4db4abff7558ed7572a0",
            "1bb1412119a7490da9b0704e981ff90f",
            "61ed84b099cf4c0eb8e8d1bf3e58414c",
            "c6fed9066d1d46a7aae46685f835b102",
            "30f213bd682c4cc1aca63b6365f74598",
            "f7109c93df0444ecab4f9c88f4c54424"
          ]
        },
        "id": "5X4uF1jbQ4n8",
        "outputId": "789516d5-4075-4d99-d979-f20c22c006e9"
      },
      "outputs": [
        {
          "output_type": "stream",
          "name": "stderr",
          "text": [
            "/usr/local/lib/python3.11/dist-packages/huggingface_hub/utils/_auth.py:94: UserWarning: \n",
            "The secret `HF_TOKEN` does not exist in your Colab secrets.\n",
            "To authenticate with the Hugging Face Hub, create a token in your settings tab (https://huggingface.co/settings/tokens), set it as secret in your Google Colab and restart your session.\n",
            "You will be able to reuse this secret in all of your notebooks.\n",
            "Please note that authentication is recommended but still optional to access public models or datasets.\n",
            "  warnings.warn(\n"
          ]
        },
        {
          "output_type": "display_data",
          "data": {
            "text/plain": [
              "model.safetensors:   0%|          | 0.00/46.8M [00:00<?, ?B/s]"
            ],
            "application/vnd.jupyter.widget-view+json": {
              "version_major": 2,
              "version_minor": 0,
              "model_id": "d45ed80fe0c041598209039ca0abae6f"
            }
          },
          "metadata": {}
        }
      ],
      "source": [
        "# Step 4: Load the pre-trained Resnet model using timm\n",
        "resnet = timm.create_model('resnet18', pretrained=True) # Load ResNet18 from timm\n",
        "\n",
        "# Freeze all layers ex[ect the final fully connected layer\n",
        "for param in resnet.parameters():\n",
        "    param.requires_grad = False\n",
        "\n",
        "# Modify the fully connected layer to match the number of classes\n",
        "num_ftrs = resnet.fc.in_features\n",
        "resnet.fc = nn.Linear(num_ftrs, len(dataset.classes))"
      ]
    },
    {
      "cell_type": "code",
      "execution_count": 12,
      "metadata": {
        "colab": {
          "base_uri": "https://localhost:8080/"
        },
        "id": "Yh79e-bVbdxE",
        "outputId": "57d98db6-8d8d-4014-cd90-5ee1612c9765"
      },
      "outputs": [
        {
          "output_type": "execute_result",
          "data": {
            "text/plain": [
              "ResNet(\n",
              "  (conv1): Conv2d(3, 64, kernel_size=(7, 7), stride=(2, 2), padding=(3, 3), bias=False)\n",
              "  (bn1): BatchNorm2d(64, eps=1e-05, momentum=0.1, affine=True, track_running_stats=True)\n",
              "  (act1): ReLU(inplace=True)\n",
              "  (maxpool): MaxPool2d(kernel_size=3, stride=2, padding=1, dilation=1, ceil_mode=False)\n",
              "  (layer1): Sequential(\n",
              "    (0): BasicBlock(\n",
              "      (conv1): Conv2d(64, 64, kernel_size=(3, 3), stride=(1, 1), padding=(1, 1), bias=False)\n",
              "      (bn1): BatchNorm2d(64, eps=1e-05, momentum=0.1, affine=True, track_running_stats=True)\n",
              "      (drop_block): Identity()\n",
              "      (act1): ReLU(inplace=True)\n",
              "      (aa): Identity()\n",
              "      (conv2): Conv2d(64, 64, kernel_size=(3, 3), stride=(1, 1), padding=(1, 1), bias=False)\n",
              "      (bn2): BatchNorm2d(64, eps=1e-05, momentum=0.1, affine=True, track_running_stats=True)\n",
              "      (act2): ReLU(inplace=True)\n",
              "    )\n",
              "    (1): BasicBlock(\n",
              "      (conv1): Conv2d(64, 64, kernel_size=(3, 3), stride=(1, 1), padding=(1, 1), bias=False)\n",
              "      (bn1): BatchNorm2d(64, eps=1e-05, momentum=0.1, affine=True, track_running_stats=True)\n",
              "      (drop_block): Identity()\n",
              "      (act1): ReLU(inplace=True)\n",
              "      (aa): Identity()\n",
              "      (conv2): Conv2d(64, 64, kernel_size=(3, 3), stride=(1, 1), padding=(1, 1), bias=False)\n",
              "      (bn2): BatchNorm2d(64, eps=1e-05, momentum=0.1, affine=True, track_running_stats=True)\n",
              "      (act2): ReLU(inplace=True)\n",
              "    )\n",
              "  )\n",
              "  (layer2): Sequential(\n",
              "    (0): BasicBlock(\n",
              "      (conv1): Conv2d(64, 128, kernel_size=(3, 3), stride=(2, 2), padding=(1, 1), bias=False)\n",
              "      (bn1): BatchNorm2d(128, eps=1e-05, momentum=0.1, affine=True, track_running_stats=True)\n",
              "      (drop_block): Identity()\n",
              "      (act1): ReLU(inplace=True)\n",
              "      (aa): Identity()\n",
              "      (conv2): Conv2d(128, 128, kernel_size=(3, 3), stride=(1, 1), padding=(1, 1), bias=False)\n",
              "      (bn2): BatchNorm2d(128, eps=1e-05, momentum=0.1, affine=True, track_running_stats=True)\n",
              "      (act2): ReLU(inplace=True)\n",
              "      (downsample): Sequential(\n",
              "        (0): Conv2d(64, 128, kernel_size=(1, 1), stride=(2, 2), bias=False)\n",
              "        (1): BatchNorm2d(128, eps=1e-05, momentum=0.1, affine=True, track_running_stats=True)\n",
              "      )\n",
              "    )\n",
              "    (1): BasicBlock(\n",
              "      (conv1): Conv2d(128, 128, kernel_size=(3, 3), stride=(1, 1), padding=(1, 1), bias=False)\n",
              "      (bn1): BatchNorm2d(128, eps=1e-05, momentum=0.1, affine=True, track_running_stats=True)\n",
              "      (drop_block): Identity()\n",
              "      (act1): ReLU(inplace=True)\n",
              "      (aa): Identity()\n",
              "      (conv2): Conv2d(128, 128, kernel_size=(3, 3), stride=(1, 1), padding=(1, 1), bias=False)\n",
              "      (bn2): BatchNorm2d(128, eps=1e-05, momentum=0.1, affine=True, track_running_stats=True)\n",
              "      (act2): ReLU(inplace=True)\n",
              "    )\n",
              "  )\n",
              "  (layer3): Sequential(\n",
              "    (0): BasicBlock(\n",
              "      (conv1): Conv2d(128, 256, kernel_size=(3, 3), stride=(2, 2), padding=(1, 1), bias=False)\n",
              "      (bn1): BatchNorm2d(256, eps=1e-05, momentum=0.1, affine=True, track_running_stats=True)\n",
              "      (drop_block): Identity()\n",
              "      (act1): ReLU(inplace=True)\n",
              "      (aa): Identity()\n",
              "      (conv2): Conv2d(256, 256, kernel_size=(3, 3), stride=(1, 1), padding=(1, 1), bias=False)\n",
              "      (bn2): BatchNorm2d(256, eps=1e-05, momentum=0.1, affine=True, track_running_stats=True)\n",
              "      (act2): ReLU(inplace=True)\n",
              "      (downsample): Sequential(\n",
              "        (0): Conv2d(128, 256, kernel_size=(1, 1), stride=(2, 2), bias=False)\n",
              "        (1): BatchNorm2d(256, eps=1e-05, momentum=0.1, affine=True, track_running_stats=True)\n",
              "      )\n",
              "    )\n",
              "    (1): BasicBlock(\n",
              "      (conv1): Conv2d(256, 256, kernel_size=(3, 3), stride=(1, 1), padding=(1, 1), bias=False)\n",
              "      (bn1): BatchNorm2d(256, eps=1e-05, momentum=0.1, affine=True, track_running_stats=True)\n",
              "      (drop_block): Identity()\n",
              "      (act1): ReLU(inplace=True)\n",
              "      (aa): Identity()\n",
              "      (conv2): Conv2d(256, 256, kernel_size=(3, 3), stride=(1, 1), padding=(1, 1), bias=False)\n",
              "      (bn2): BatchNorm2d(256, eps=1e-05, momentum=0.1, affine=True, track_running_stats=True)\n",
              "      (act2): ReLU(inplace=True)\n",
              "    )\n",
              "  )\n",
              "  (layer4): Sequential(\n",
              "    (0): BasicBlock(\n",
              "      (conv1): Conv2d(256, 512, kernel_size=(3, 3), stride=(2, 2), padding=(1, 1), bias=False)\n",
              "      (bn1): BatchNorm2d(512, eps=1e-05, momentum=0.1, affine=True, track_running_stats=True)\n",
              "      (drop_block): Identity()\n",
              "      (act1): ReLU(inplace=True)\n",
              "      (aa): Identity()\n",
              "      (conv2): Conv2d(512, 512, kernel_size=(3, 3), stride=(1, 1), padding=(1, 1), bias=False)\n",
              "      (bn2): BatchNorm2d(512, eps=1e-05, momentum=0.1, affine=True, track_running_stats=True)\n",
              "      (act2): ReLU(inplace=True)\n",
              "      (downsample): Sequential(\n",
              "        (0): Conv2d(256, 512, kernel_size=(1, 1), stride=(2, 2), bias=False)\n",
              "        (1): BatchNorm2d(512, eps=1e-05, momentum=0.1, affine=True, track_running_stats=True)\n",
              "      )\n",
              "    )\n",
              "    (1): BasicBlock(\n",
              "      (conv1): Conv2d(512, 512, kernel_size=(3, 3), stride=(1, 1), padding=(1, 1), bias=False)\n",
              "      (bn1): BatchNorm2d(512, eps=1e-05, momentum=0.1, affine=True, track_running_stats=True)\n",
              "      (drop_block): Identity()\n",
              "      (act1): ReLU(inplace=True)\n",
              "      (aa): Identity()\n",
              "      (conv2): Conv2d(512, 512, kernel_size=(3, 3), stride=(1, 1), padding=(1, 1), bias=False)\n",
              "      (bn2): BatchNorm2d(512, eps=1e-05, momentum=0.1, affine=True, track_running_stats=True)\n",
              "      (act2): ReLU(inplace=True)\n",
              "    )\n",
              "  )\n",
              "  (global_pool): SelectAdaptivePool2d(pool_type=avg, flatten=Flatten(start_dim=1, end_dim=-1))\n",
              "  (fc): Linear(in_features=512, out_features=3, bias=True)\n",
              ")"
            ]
          },
          "metadata": {},
          "execution_count": 12
        }
      ],
      "source": [
        "# Step 6: Move model to GPU\n",
        "device = torch.device(\"cuda\" if torch.cuda.is_available() else \"cpu\")\n",
        "resnet.to(device)"
      ]
    },
    {
      "cell_type": "code",
      "execution_count": 13,
      "metadata": {
        "colab": {
          "base_uri": "https://localhost:8080/"
        },
        "id": "X0Ra4zYZtM62",
        "outputId": "647cd347-a4e9-4d43-e3a3-df450e7078c3"
      },
      "outputs": [
        {
          "output_type": "stream",
          "name": "stdout",
          "text": [
            "cuda\n"
          ]
        }
      ],
      "source": [
        "print(device)"
      ]
    },
    {
      "cell_type": "code",
      "execution_count": 14,
      "metadata": {
        "colab": {
          "base_uri": "https://localhost:8080/"
        },
        "id": "WhH_SDinShPH",
        "outputId": "14341e38-d4eb-436e-cb61-4c5792ec3c79"
      },
      "outputs": [
        {
          "output_type": "stream",
          "name": "stdout",
          "text": [
            "=================================================================\n",
            "Layer (type:depth-idx)                   Param #\n",
            "=================================================================\n",
            "├─Conv2d: 1-1                            (9,408)\n",
            "├─BatchNorm2d: 1-2                       (128)\n",
            "├─ReLU: 1-3                              --\n",
            "├─MaxPool2d: 1-4                         --\n",
            "├─Sequential: 1-5                        --\n",
            "|    └─BasicBlock: 2-1                   --\n",
            "|    |    └─Conv2d: 3-1                  (36,864)\n",
            "|    |    └─BatchNorm2d: 3-2             (128)\n",
            "|    |    └─Identity: 3-3                --\n",
            "|    |    └─ReLU: 3-4                    --\n",
            "|    |    └─Identity: 3-5                --\n",
            "|    |    └─Conv2d: 3-6                  (36,864)\n",
            "|    |    └─BatchNorm2d: 3-7             (128)\n",
            "|    |    └─ReLU: 3-8                    --\n",
            "|    └─BasicBlock: 2-2                   --\n",
            "|    |    └─Conv2d: 3-9                  (36,864)\n",
            "|    |    └─BatchNorm2d: 3-10            (128)\n",
            "|    |    └─Identity: 3-11               --\n",
            "|    |    └─ReLU: 3-12                   --\n",
            "|    |    └─Identity: 3-13               --\n",
            "|    |    └─Conv2d: 3-14                 (36,864)\n",
            "|    |    └─BatchNorm2d: 3-15            (128)\n",
            "|    |    └─ReLU: 3-16                   --\n",
            "├─Sequential: 1-6                        --\n",
            "|    └─BasicBlock: 2-3                   --\n",
            "|    |    └─Conv2d: 3-17                 (73,728)\n",
            "|    |    └─BatchNorm2d: 3-18            (256)\n",
            "|    |    └─Identity: 3-19               --\n",
            "|    |    └─ReLU: 3-20                   --\n",
            "|    |    └─Identity: 3-21               --\n",
            "|    |    └─Conv2d: 3-22                 (147,456)\n",
            "|    |    └─BatchNorm2d: 3-23            (256)\n",
            "|    |    └─ReLU: 3-24                   --\n",
            "|    |    └─Sequential: 3-25             (8,448)\n",
            "|    └─BasicBlock: 2-4                   --\n",
            "|    |    └─Conv2d: 3-26                 (147,456)\n",
            "|    |    └─BatchNorm2d: 3-27            (256)\n",
            "|    |    └─Identity: 3-28               --\n",
            "|    |    └─ReLU: 3-29                   --\n",
            "|    |    └─Identity: 3-30               --\n",
            "|    |    └─Conv2d: 3-31                 (147,456)\n",
            "|    |    └─BatchNorm2d: 3-32            (256)\n",
            "|    |    └─ReLU: 3-33                   --\n",
            "├─Sequential: 1-7                        --\n",
            "|    └─BasicBlock: 2-5                   --\n",
            "|    |    └─Conv2d: 3-34                 (294,912)\n",
            "|    |    └─BatchNorm2d: 3-35            (512)\n",
            "|    |    └─Identity: 3-36               --\n",
            "|    |    └─ReLU: 3-37                   --\n",
            "|    |    └─Identity: 3-38               --\n",
            "|    |    └─Conv2d: 3-39                 (589,824)\n",
            "|    |    └─BatchNorm2d: 3-40            (512)\n",
            "|    |    └─ReLU: 3-41                   --\n",
            "|    |    └─Sequential: 3-42             (33,280)\n",
            "|    └─BasicBlock: 2-6                   --\n",
            "|    |    └─Conv2d: 3-43                 (589,824)\n",
            "|    |    └─BatchNorm2d: 3-44            (512)\n",
            "|    |    └─Identity: 3-45               --\n",
            "|    |    └─ReLU: 3-46                   --\n",
            "|    |    └─Identity: 3-47               --\n",
            "|    |    └─Conv2d: 3-48                 (589,824)\n",
            "|    |    └─BatchNorm2d: 3-49            (512)\n",
            "|    |    └─ReLU: 3-50                   --\n",
            "├─Sequential: 1-8                        --\n",
            "|    └─BasicBlock: 2-7                   --\n",
            "|    |    └─Conv2d: 3-51                 (1,179,648)\n",
            "|    |    └─BatchNorm2d: 3-52            (1,024)\n",
            "|    |    └─Identity: 3-53               --\n",
            "|    |    └─ReLU: 3-54                   --\n",
            "|    |    └─Identity: 3-55               --\n",
            "|    |    └─Conv2d: 3-56                 (2,359,296)\n",
            "|    |    └─BatchNorm2d: 3-57            (1,024)\n",
            "|    |    └─ReLU: 3-58                   --\n",
            "|    |    └─Sequential: 3-59             (132,096)\n",
            "|    └─BasicBlock: 2-8                   --\n",
            "|    |    └─Conv2d: 3-60                 (2,359,296)\n",
            "|    |    └─BatchNorm2d: 3-61            (1,024)\n",
            "|    |    └─Identity: 3-62               --\n",
            "|    |    └─ReLU: 3-63                   --\n",
            "|    |    └─Identity: 3-64               --\n",
            "|    |    └─Conv2d: 3-65                 (2,359,296)\n",
            "|    |    └─BatchNorm2d: 3-66            (1,024)\n",
            "|    |    └─ReLU: 3-67                   --\n",
            "├─SelectAdaptivePool2d: 1-9              --\n",
            "|    └─AdaptiveAvgPool2d: 2-9            --\n",
            "|    └─Flatten: 2-10                     --\n",
            "├─Linear: 1-10                           1,539\n",
            "=================================================================\n",
            "Total params: 11,178,051\n",
            "Trainable params: 1,539\n",
            "Non-trainable params: 11,176,512\n",
            "=================================================================\n",
            "=================================================================\n",
            "Layer (type:depth-idx)                   Param #\n",
            "=================================================================\n",
            "├─Conv2d: 1-1                            (9,408)\n",
            "├─BatchNorm2d: 1-2                       (128)\n",
            "├─ReLU: 1-3                              --\n",
            "├─MaxPool2d: 1-4                         --\n",
            "├─Sequential: 1-5                        --\n",
            "|    └─BasicBlock: 2-1                   --\n",
            "|    |    └─Conv2d: 3-1                  (36,864)\n",
            "|    |    └─BatchNorm2d: 3-2             (128)\n",
            "|    |    └─Identity: 3-3                --\n",
            "|    |    └─ReLU: 3-4                    --\n",
            "|    |    └─Identity: 3-5                --\n",
            "|    |    └─Conv2d: 3-6                  (36,864)\n",
            "|    |    └─BatchNorm2d: 3-7             (128)\n",
            "|    |    └─ReLU: 3-8                    --\n",
            "|    └─BasicBlock: 2-2                   --\n",
            "|    |    └─Conv2d: 3-9                  (36,864)\n",
            "|    |    └─BatchNorm2d: 3-10            (128)\n",
            "|    |    └─Identity: 3-11               --\n",
            "|    |    └─ReLU: 3-12                   --\n",
            "|    |    └─Identity: 3-13               --\n",
            "|    |    └─Conv2d: 3-14                 (36,864)\n",
            "|    |    └─BatchNorm2d: 3-15            (128)\n",
            "|    |    └─ReLU: 3-16                   --\n",
            "├─Sequential: 1-6                        --\n",
            "|    └─BasicBlock: 2-3                   --\n",
            "|    |    └─Conv2d: 3-17                 (73,728)\n",
            "|    |    └─BatchNorm2d: 3-18            (256)\n",
            "|    |    └─Identity: 3-19               --\n",
            "|    |    └─ReLU: 3-20                   --\n",
            "|    |    └─Identity: 3-21               --\n",
            "|    |    └─Conv2d: 3-22                 (147,456)\n",
            "|    |    └─BatchNorm2d: 3-23            (256)\n",
            "|    |    └─ReLU: 3-24                   --\n",
            "|    |    └─Sequential: 3-25             (8,448)\n",
            "|    └─BasicBlock: 2-4                   --\n",
            "|    |    └─Conv2d: 3-26                 (147,456)\n",
            "|    |    └─BatchNorm2d: 3-27            (256)\n",
            "|    |    └─Identity: 3-28               --\n",
            "|    |    └─ReLU: 3-29                   --\n",
            "|    |    └─Identity: 3-30               --\n",
            "|    |    └─Conv2d: 3-31                 (147,456)\n",
            "|    |    └─BatchNorm2d: 3-32            (256)\n",
            "|    |    └─ReLU: 3-33                   --\n",
            "├─Sequential: 1-7                        --\n",
            "|    └─BasicBlock: 2-5                   --\n",
            "|    |    └─Conv2d: 3-34                 (294,912)\n",
            "|    |    └─BatchNorm2d: 3-35            (512)\n",
            "|    |    └─Identity: 3-36               --\n",
            "|    |    └─ReLU: 3-37                   --\n",
            "|    |    └─Identity: 3-38               --\n",
            "|    |    └─Conv2d: 3-39                 (589,824)\n",
            "|    |    └─BatchNorm2d: 3-40            (512)\n",
            "|    |    └─ReLU: 3-41                   --\n",
            "|    |    └─Sequential: 3-42             (33,280)\n",
            "|    └─BasicBlock: 2-6                   --\n",
            "|    |    └─Conv2d: 3-43                 (589,824)\n",
            "|    |    └─BatchNorm2d: 3-44            (512)\n",
            "|    |    └─Identity: 3-45               --\n",
            "|    |    └─ReLU: 3-46                   --\n",
            "|    |    └─Identity: 3-47               --\n",
            "|    |    └─Conv2d: 3-48                 (589,824)\n",
            "|    |    └─BatchNorm2d: 3-49            (512)\n",
            "|    |    └─ReLU: 3-50                   --\n",
            "├─Sequential: 1-8                        --\n",
            "|    └─BasicBlock: 2-7                   --\n",
            "|    |    └─Conv2d: 3-51                 (1,179,648)\n",
            "|    |    └─BatchNorm2d: 3-52            (1,024)\n",
            "|    |    └─Identity: 3-53               --\n",
            "|    |    └─ReLU: 3-54                   --\n",
            "|    |    └─Identity: 3-55               --\n",
            "|    |    └─Conv2d: 3-56                 (2,359,296)\n",
            "|    |    └─BatchNorm2d: 3-57            (1,024)\n",
            "|    |    └─ReLU: 3-58                   --\n",
            "|    |    └─Sequential: 3-59             (132,096)\n",
            "|    └─BasicBlock: 2-8                   --\n",
            "|    |    └─Conv2d: 3-60                 (2,359,296)\n",
            "|    |    └─BatchNorm2d: 3-61            (1,024)\n",
            "|    |    └─Identity: 3-62               --\n",
            "|    |    └─ReLU: 3-63                   --\n",
            "|    |    └─Identity: 3-64               --\n",
            "|    |    └─Conv2d: 3-65                 (2,359,296)\n",
            "|    |    └─BatchNorm2d: 3-66            (1,024)\n",
            "|    |    └─ReLU: 3-67                   --\n",
            "├─SelectAdaptivePool2d: 1-9              --\n",
            "|    └─AdaptiveAvgPool2d: 2-9            --\n",
            "|    └─Flatten: 2-10                     --\n",
            "├─Linear: 1-10                           1,539\n",
            "=================================================================\n",
            "Total params: 11,178,051\n",
            "Trainable params: 1,539\n",
            "Non-trainable params: 11,176,512\n",
            "=================================================================\n"
          ]
        }
      ],
      "source": [
        "# print the model summary\n",
        "from torchsummary import summary\n",
        "device = torch.device(\"cuda\" if torch.cuda.is_available() else \"cpu\")\n",
        "resnet.to(device)\n",
        "\n",
        "# Print model summary\n",
        "print(summary(resnet, input_size=(3, 224, 224)))"
      ]
    },
    {
      "cell_type": "code",
      "execution_count": 15,
      "metadata": {
        "colab": {
          "base_uri": "https://localhost:8080/"
        },
        "id": "ab53VHlbTgAU",
        "outputId": "b25ca4bb-49c5-41c2-e6e6-98b93075bdab"
      },
      "outputs": [
        {
          "output_type": "stream",
          "name": "stdout",
          "text": [
            "Requirement already satisfied: graphviz in /usr/local/lib/python3.11/dist-packages (0.20.3)\n",
            "Collecting torchviz\n",
            "  Downloading torchviz-0.0.3-py3-none-any.whl.metadata (2.1 kB)\n",
            "Requirement already satisfied: torch in /usr/local/lib/python3.11/dist-packages (from torchviz) (2.5.1+cu124)\n",
            "Requirement already satisfied: filelock in /usr/local/lib/python3.11/dist-packages (from torch->torchviz) (3.17.0)\n",
            "Requirement already satisfied: typing-extensions>=4.8.0 in /usr/local/lib/python3.11/dist-packages (from torch->torchviz) (4.12.2)\n",
            "Requirement already satisfied: networkx in /usr/local/lib/python3.11/dist-packages (from torch->torchviz) (3.4.2)\n",
            "Requirement already satisfied: jinja2 in /usr/local/lib/python3.11/dist-packages (from torch->torchviz) (3.1.5)\n",
            "Requirement already satisfied: fsspec in /usr/local/lib/python3.11/dist-packages (from torch->torchviz) (2024.10.0)\n",
            "Requirement already satisfied: nvidia-cuda-nvrtc-cu12==12.4.127 in /usr/local/lib/python3.11/dist-packages (from torch->torchviz) (12.4.127)\n",
            "Requirement already satisfied: nvidia-cuda-runtime-cu12==12.4.127 in /usr/local/lib/python3.11/dist-packages (from torch->torchviz) (12.4.127)\n",
            "Requirement already satisfied: nvidia-cuda-cupti-cu12==12.4.127 in /usr/local/lib/python3.11/dist-packages (from torch->torchviz) (12.4.127)\n",
            "Requirement already satisfied: nvidia-cudnn-cu12==9.1.0.70 in /usr/local/lib/python3.11/dist-packages (from torch->torchviz) (9.1.0.70)\n",
            "Requirement already satisfied: nvidia-cublas-cu12==12.4.5.8 in /usr/local/lib/python3.11/dist-packages (from torch->torchviz) (12.4.5.8)\n",
            "Requirement already satisfied: nvidia-cufft-cu12==11.2.1.3 in /usr/local/lib/python3.11/dist-packages (from torch->torchviz) (11.2.1.3)\n",
            "Requirement already satisfied: nvidia-curand-cu12==10.3.5.147 in /usr/local/lib/python3.11/dist-packages (from torch->torchviz) (10.3.5.147)\n",
            "Requirement already satisfied: nvidia-cusolver-cu12==11.6.1.9 in /usr/local/lib/python3.11/dist-packages (from torch->torchviz) (11.6.1.9)\n",
            "Requirement already satisfied: nvidia-cusparse-cu12==12.3.1.170 in /usr/local/lib/python3.11/dist-packages (from torch->torchviz) (12.3.1.170)\n",
            "Requirement already satisfied: nvidia-nccl-cu12==2.21.5 in /usr/local/lib/python3.11/dist-packages (from torch->torchviz) (2.21.5)\n",
            "Requirement already satisfied: nvidia-nvtx-cu12==12.4.127 in /usr/local/lib/python3.11/dist-packages (from torch->torchviz) (12.4.127)\n",
            "Requirement already satisfied: nvidia-nvjitlink-cu12==12.4.127 in /usr/local/lib/python3.11/dist-packages (from torch->torchviz) (12.4.127)\n",
            "Requirement already satisfied: triton==3.1.0 in /usr/local/lib/python3.11/dist-packages (from torch->torchviz) (3.1.0)\n",
            "Requirement already satisfied: sympy==1.13.1 in /usr/local/lib/python3.11/dist-packages (from torch->torchviz) (1.13.1)\n",
            "Requirement already satisfied: mpmath<1.4,>=1.1.0 in /usr/local/lib/python3.11/dist-packages (from sympy==1.13.1->torch->torchviz) (1.3.0)\n",
            "Requirement already satisfied: MarkupSafe>=2.0 in /usr/local/lib/python3.11/dist-packages (from jinja2->torch->torchviz) (3.0.2)\n",
            "Downloading torchviz-0.0.3-py3-none-any.whl (5.7 kB)\n",
            "Installing collected packages: torchviz\n",
            "Successfully installed torchviz-0.0.3\n"
          ]
        }
      ],
      "source": [
        "# To Vizulize the model installation of this package\n",
        "!pip install graphviz torchviz"
      ]
    },
    {
      "cell_type": "code",
      "execution_count": 16,
      "metadata": {
        "colab": {
          "base_uri": "https://localhost:8080/",
          "height": 1000
        },
        "collapsed": true,
        "id": "DCjJJj9PTHTE",
        "outputId": "55712386-7bd7-4951-fa0d-ac5338a1e9bb"
      },
      "outputs": [
        {
          "output_type": "execute_result",
          "data": {
            "image/svg+xml": "<?xml version=\"1.0\" encoding=\"UTF-8\" standalone=\"no\"?>\n<!DOCTYPE svg PUBLIC \"-//W3C//DTD SVG 1.1//EN\"\n \"http://www.w3.org/Graphics/SVG/1.1/DTD/svg11.dtd\">\n<!-- Generated by graphviz version 2.43.0 (0)\n -->\n<!-- Title: %3 Pages: 1 -->\n<svg width=\"1964pt\" height=\"4010pt\"\n viewBox=\"0.00 0.00 1964.00 4010.00\" xmlns=\"http://www.w3.org/2000/svg\" xmlns:xlink=\"http://www.w3.org/1999/xlink\">\n<g id=\"graph0\" class=\"graph\" transform=\"scale(1 1) rotate(0) translate(4 4006)\">\n<title>%3</title>\n<polygon fill=\"white\" stroke=\"transparent\" points=\"-4,4 -4,-4006 1960,-4006 1960,4 -4,4\"/>\n<!-- 135905822801456 -->\n<g id=\"node1\" class=\"node\">\n<title>135905822801456</title>\n<polygon fill=\"#caff70\" stroke=\"black\" points=\"1476,-31 1417,-31 1417,0 1476,0 1476,-31\"/>\n<text text-anchor=\"middle\" x=\"1446.5\" y=\"-7\" font-family=\"monospace\" font-size=\"10.00\"> (1, 3)</text>\n</g>\n<!-- 135905822763632 -->\n<g id=\"node2\" class=\"node\">\n<title>135905822763632</title>\n<polygon fill=\"lightgrey\" stroke=\"black\" points=\"1497,-86 1396,-86 1396,-67 1497,-67 1497,-86\"/>\n<text text-anchor=\"middle\" x=\"1446.5\" y=\"-74\" font-family=\"monospace\" font-size=\"10.00\">AddmmBackward0</text>\n</g>\n<!-- 135905822763632&#45;&gt;135905822801456 -->\n<g id=\"edge202\" class=\"edge\">\n<title>135905822763632&#45;&gt;135905822801456</title>\n<path fill=\"none\" stroke=\"black\" d=\"M1446.5,-66.79C1446.5,-60.07 1446.5,-50.4 1446.5,-41.34\"/>\n<polygon fill=\"black\" stroke=\"black\" points=\"1450,-41.19 1446.5,-31.19 1443,-41.19 1450,-41.19\"/>\n</g>\n<!-- 135905822763584 -->\n<g id=\"node3\" class=\"node\">\n<title>135905822763584</title>\n<polygon fill=\"lightgrey\" stroke=\"black\" points=\"1381,-141 1280,-141 1280,-122 1381,-122 1381,-141\"/>\n<text text-anchor=\"middle\" x=\"1330.5\" y=\"-129\" font-family=\"monospace\" font-size=\"10.00\">AccumulateGrad</text>\n</g>\n<!-- 135905822763584&#45;&gt;135905822763632 -->\n<g id=\"edge1\" class=\"edge\">\n<title>135905822763584&#45;&gt;135905822763632</title>\n<path fill=\"none\" stroke=\"black\" d=\"M1349.14,-121.98C1367.8,-113.46 1396.75,-100.23 1418.24,-90.41\"/>\n<polygon fill=\"black\" stroke=\"black\" points=\"1419.88,-93.51 1427.52,-86.17 1416.97,-87.14 1419.88,-93.51\"/>\n</g>\n<!-- 135905822797232 -->\n<g id=\"node4\" class=\"node\">\n<title>135905822797232</title>\n<polygon fill=\"lightblue\" stroke=\"black\" points=\"1360,-207 1301,-207 1301,-177 1360,-177 1360,-207\"/>\n<text text-anchor=\"middle\" x=\"1330.5\" y=\"-195\" font-family=\"monospace\" font-size=\"10.00\">fc.bias</text>\n<text text-anchor=\"middle\" x=\"1330.5\" y=\"-184\" font-family=\"monospace\" font-size=\"10.00\"> (3)</text>\n</g>\n<!-- 135905822797232&#45;&gt;135905822763584 -->\n<g id=\"edge2\" class=\"edge\">\n<title>135905822797232&#45;&gt;135905822763584</title>\n<path fill=\"none\" stroke=\"black\" d=\"M1330.5,-176.84C1330.5,-169.21 1330.5,-159.7 1330.5,-151.45\"/>\n<polygon fill=\"black\" stroke=\"black\" points=\"1334,-151.27 1330.5,-141.27 1327,-151.27 1334,-151.27\"/>\n</g>\n<!-- 135905822763440 -->\n<g id=\"node5\" class=\"node\">\n<title>135905822763440</title>\n<polygon fill=\"lightgrey\" stroke=\"black\" points=\"1494,-141 1399,-141 1399,-122 1494,-122 1494,-141\"/>\n<text text-anchor=\"middle\" x=\"1446.5\" y=\"-129\" font-family=\"monospace\" font-size=\"10.00\">ViewBackward0</text>\n</g>\n<!-- 135905822763440&#45;&gt;135905822763632 -->\n<g id=\"edge3\" class=\"edge\">\n<title>135905822763440&#45;&gt;135905822763632</title>\n<path fill=\"none\" stroke=\"black\" d=\"M1446.5,-121.75C1446.5,-114.8 1446.5,-104.85 1446.5,-96.13\"/>\n<polygon fill=\"black\" stroke=\"black\" points=\"1450,-96.09 1446.5,-86.09 1443,-96.09 1450,-96.09\"/>\n</g>\n<!-- 135905822765024 -->\n<g id=\"node6\" class=\"node\">\n<title>135905822765024</title>\n<polygon fill=\"lightgrey\" stroke=\"black\" points=\"1491,-201.5 1396,-201.5 1396,-182.5 1491,-182.5 1491,-201.5\"/>\n<text text-anchor=\"middle\" x=\"1443.5\" y=\"-189.5\" font-family=\"monospace\" font-size=\"10.00\">MeanBackward1</text>\n</g>\n<!-- 135905822765024&#45;&gt;135905822763440 -->\n<g id=\"edge4\" class=\"edge\">\n<title>135905822765024&#45;&gt;135905822763440</title>\n<path fill=\"none\" stroke=\"black\" d=\"M1443.94,-182.37C1444.36,-174.25 1445,-161.81 1445.53,-151.39\"/>\n<polygon fill=\"black\" stroke=\"black\" points=\"1449.04,-151.33 1446.06,-141.17 1442.05,-150.97 1449.04,-151.33\"/>\n</g>\n<!-- 135905822765600 -->\n<g id=\"node7\" class=\"node\">\n<title>135905822765600</title>\n<polygon fill=\"lightgrey\" stroke=\"black\" points=\"1491,-267.5 1396,-267.5 1396,-248.5 1491,-248.5 1491,-267.5\"/>\n<text text-anchor=\"middle\" x=\"1443.5\" y=\"-255.5\" font-family=\"monospace\" font-size=\"10.00\">ReluBackward0</text>\n</g>\n<!-- 135905822765600&#45;&gt;135905822765024 -->\n<g id=\"edge5\" class=\"edge\">\n<title>135905822765600&#45;&gt;135905822765024</title>\n<path fill=\"none\" stroke=\"black\" d=\"M1443.5,-248.37C1443.5,-239.16 1443.5,-224.29 1443.5,-212.27\"/>\n<polygon fill=\"black\" stroke=\"black\" points=\"1447,-211.91 1443.5,-201.91 1440,-211.91 1447,-211.91\"/>\n</g>\n<!-- 135905822765504 -->\n<g id=\"node8\" class=\"node\">\n<title>135905822765504</title>\n<polygon fill=\"lightgrey\" stroke=\"black\" points=\"1488,-328 1399,-328 1399,-309 1488,-309 1488,-328\"/>\n<text text-anchor=\"middle\" x=\"1443.5\" y=\"-316\" font-family=\"monospace\" font-size=\"10.00\">AddBackward0</text>\n</g>\n<!-- 135905822765504&#45;&gt;135905822765600 -->\n<g id=\"edge6\" class=\"edge\">\n<title>135905822765504&#45;&gt;135905822765600</title>\n<path fill=\"none\" stroke=\"black\" d=\"M1443.5,-308.87C1443.5,-300.75 1443.5,-288.31 1443.5,-277.89\"/>\n<polygon fill=\"black\" stroke=\"black\" points=\"1447,-277.67 1443.5,-267.67 1440,-277.67 1447,-277.67\"/>\n</g>\n<!-- 135905822765408 -->\n<g id=\"node9\" class=\"node\">\n<title>135905822765408</title>\n<polygon fill=\"lightgrey\" stroke=\"black\" points=\"1765,-383 1604,-383 1604,-364 1765,-364 1765,-383\"/>\n<text text-anchor=\"middle\" x=\"1684.5\" y=\"-371\" font-family=\"monospace\" font-size=\"10.00\">NativeBatchNormBackward0</text>\n</g>\n<!-- 135905822765408&#45;&gt;135905822765504 -->\n<g id=\"edge7\" class=\"edge\">\n<title>135905822765408&#45;&gt;135905822765504</title>\n<path fill=\"none\" stroke=\"black\" d=\"M1645.78,-363.98C1604.09,-354.82 1537.68,-340.21 1492.41,-330.26\"/>\n<polygon fill=\"black\" stroke=\"black\" points=\"1493.04,-326.81 1482.52,-328.08 1491.54,-333.65 1493.04,-326.81\"/>\n</g>\n<!-- 135905822765888 -->\n<g id=\"node10\" class=\"node\">\n<title>135905822765888</title>\n<polygon fill=\"lightgrey\" stroke=\"black\" points=\"1685,-438 1548,-438 1548,-419 1685,-419 1685,-438\"/>\n<text text-anchor=\"middle\" x=\"1616.5\" y=\"-426\" font-family=\"monospace\" font-size=\"10.00\">ConvolutionBackward0</text>\n</g>\n<!-- 135905822765888&#45;&gt;135905822765408 -->\n<g id=\"edge8\" class=\"edge\">\n<title>135905822765888&#45;&gt;135905822765408</title>\n<path fill=\"none\" stroke=\"black\" d=\"M1627.43,-418.98C1637.58,-411.07 1652.92,-399.11 1665.15,-389.58\"/>\n<polygon fill=\"black\" stroke=\"black\" points=\"1667.64,-392.08 1673.38,-383.17 1663.34,-386.56 1667.64,-392.08\"/>\n</g>\n<!-- 135905822766176 -->\n<g id=\"node11\" class=\"node\">\n<title>135905822766176</title>\n<polygon fill=\"lightgrey\" stroke=\"black\" points=\"1551,-498.5 1456,-498.5 1456,-479.5 1551,-479.5 1551,-498.5\"/>\n<text text-anchor=\"middle\" x=\"1503.5\" y=\"-486.5\" font-family=\"monospace\" font-size=\"10.00\">ReluBackward0</text>\n</g>\n<!-- 135905822766176&#45;&gt;135905822765888 -->\n<g id=\"edge9\" class=\"edge\">\n<title>135905822766176&#45;&gt;135905822765888</title>\n<path fill=\"none\" stroke=\"black\" d=\"M1520.17,-479.37C1538.78,-469.73 1569.12,-454.03 1590.78,-442.81\"/>\n<polygon fill=\"black\" stroke=\"black\" points=\"1592.49,-445.87 1599.76,-438.17 1589.27,-439.66 1592.49,-445.87\"/>\n</g>\n<!-- 135905822766320 -->\n<g id=\"node12\" class=\"node\">\n<title>135905822766320</title>\n<polygon fill=\"lightgrey\" stroke=\"black\" points=\"1584,-564.5 1423,-564.5 1423,-545.5 1584,-545.5 1584,-564.5\"/>\n<text text-anchor=\"middle\" x=\"1503.5\" y=\"-552.5\" font-family=\"monospace\" font-size=\"10.00\">NativeBatchNormBackward0</text>\n</g>\n<!-- 135905822766320&#45;&gt;135905822766176 -->\n<g id=\"edge10\" class=\"edge\">\n<title>135905822766320&#45;&gt;135905822766176</title>\n<path fill=\"none\" stroke=\"black\" d=\"M1503.5,-545.37C1503.5,-536.16 1503.5,-521.29 1503.5,-509.27\"/>\n<polygon fill=\"black\" stroke=\"black\" points=\"1507,-508.91 1503.5,-498.91 1500,-508.91 1507,-508.91\"/>\n</g>\n<!-- 135905822762768 -->\n<g id=\"node13\" class=\"node\">\n<title>135905822762768</title>\n<polygon fill=\"lightgrey\" stroke=\"black\" points=\"1506,-625 1369,-625 1369,-606 1506,-606 1506,-625\"/>\n<text text-anchor=\"middle\" x=\"1437.5\" y=\"-613\" font-family=\"monospace\" font-size=\"10.00\">ConvolutionBackward0</text>\n</g>\n<!-- 135905822762768&#45;&gt;135905822766320 -->\n<g id=\"edge11\" class=\"edge\">\n<title>135905822762768&#45;&gt;135905822766320</title>\n<path fill=\"none\" stroke=\"black\" d=\"M1447.24,-605.87C1457.47,-596.8 1473.79,-582.34 1486.22,-571.32\"/>\n<polygon fill=\"black\" stroke=\"black\" points=\"1488.56,-573.92 1493.72,-564.67 1483.92,-568.68 1488.56,-573.92\"/>\n</g>\n<!-- 135905822765456 -->\n<g id=\"node14\" class=\"node\">\n<title>135905822765456</title>\n<polygon fill=\"lightgrey\" stroke=\"black\" points=\"1372,-685.5 1277,-685.5 1277,-666.5 1372,-666.5 1372,-685.5\"/>\n<text text-anchor=\"middle\" x=\"1324.5\" y=\"-673.5\" font-family=\"monospace\" font-size=\"10.00\">ReluBackward0</text>\n</g>\n<!-- 135905822765456&#45;&gt;135905822765504 -->\n<g id=\"edge198\" class=\"edge\">\n<title>135905822765456&#45;&gt;135905822765504</title>\n<path fill=\"none\" stroke=\"black\" d=\"M1325.48,-666.35C1327.62,-646.75 1332.5,-597.41 1332.5,-556 1332.5,-556 1332.5,-556 1332.5,-427.5 1332.5,-381.98 1381.04,-349.44 1413.92,-332.61\"/>\n<polygon fill=\"black\" stroke=\"black\" points=\"1415.7,-335.64 1423.14,-328.09 1412.62,-329.35 1415.7,-335.64\"/>\n</g>\n<!-- 135905822765456&#45;&gt;135905822762768 -->\n<g id=\"edge12\" class=\"edge\">\n<title>135905822765456&#45;&gt;135905822762768</title>\n<path fill=\"none\" stroke=\"black\" d=\"M1341.17,-666.37C1359.78,-656.73 1390.12,-641.03 1411.78,-629.81\"/>\n<polygon fill=\"black\" stroke=\"black\" points=\"1413.49,-632.87 1420.76,-625.17 1410.27,-626.66 1413.49,-632.87\"/>\n</g>\n<!-- 135905822758208 -->\n<g id=\"node15\" class=\"node\">\n<title>135905822758208</title>\n<polygon fill=\"lightgrey\" stroke=\"black\" points=\"1360,-751.5 1271,-751.5 1271,-732.5 1360,-732.5 1360,-751.5\"/>\n<text text-anchor=\"middle\" x=\"1315.5\" y=\"-739.5\" font-family=\"monospace\" font-size=\"10.00\">AddBackward0</text>\n</g>\n<!-- 135905822758208&#45;&gt;135905822765456 -->\n<g id=\"edge13\" class=\"edge\">\n<title>135905822758208&#45;&gt;135905822765456</title>\n<path fill=\"none\" stroke=\"black\" d=\"M1316.71,-732.37C1318.02,-723.07 1320.14,-707.98 1321.84,-695.9\"/>\n<polygon fill=\"black\" stroke=\"black\" points=\"1325.32,-696.3 1323.25,-685.91 1318.39,-695.32 1325.32,-696.3\"/>\n</g>\n<!-- 135905822758112 -->\n<g id=\"node16\" class=\"node\">\n<title>135905822758112</title>\n<polygon fill=\"lightgrey\" stroke=\"black\" points=\"1635,-812 1474,-812 1474,-793 1635,-793 1635,-812\"/>\n<text text-anchor=\"middle\" x=\"1554.5\" y=\"-800\" font-family=\"monospace\" font-size=\"10.00\">NativeBatchNormBackward0</text>\n</g>\n<!-- 135905822758112&#45;&gt;135905822758208 -->\n<g id=\"edge14\" class=\"edge\">\n<title>135905822758112&#45;&gt;135905822758208</title>\n<path fill=\"none\" stroke=\"black\" d=\"M1517.73,-792.97C1480.17,-784.2 1420.18,-770.01 1368.5,-757 1364.87,-756.09 1361.11,-755.12 1357.34,-754.15\"/>\n<polygon fill=\"black\" stroke=\"black\" points=\"1357.98,-750.7 1347.42,-751.56 1356.21,-757.47 1357.98,-750.7\"/>\n</g>\n<!-- 135905822757968 -->\n<g id=\"node17\" class=\"node\">\n<title>135905822757968</title>\n<polygon fill=\"lightgrey\" stroke=\"black\" points=\"1555,-867 1418,-867 1418,-848 1555,-848 1555,-867\"/>\n<text text-anchor=\"middle\" x=\"1486.5\" y=\"-855\" font-family=\"monospace\" font-size=\"10.00\">ConvolutionBackward0</text>\n</g>\n<!-- 135905822757968&#45;&gt;135905822758112 -->\n<g id=\"edge15\" class=\"edge\">\n<title>135905822757968&#45;&gt;135905822758112</title>\n<path fill=\"none\" stroke=\"black\" d=\"M1497.43,-847.98C1507.58,-840.07 1522.92,-828.11 1535.15,-818.58\"/>\n<polygon fill=\"black\" stroke=\"black\" points=\"1537.64,-821.08 1543.38,-812.17 1533.34,-815.56 1537.64,-821.08\"/>\n</g>\n<!-- 135905822757776 -->\n<g id=\"node18\" class=\"node\">\n<title>135905822757776</title>\n<polygon fill=\"lightgrey\" stroke=\"black\" points=\"1421,-927.5 1326,-927.5 1326,-908.5 1421,-908.5 1421,-927.5\"/>\n<text text-anchor=\"middle\" x=\"1373.5\" y=\"-915.5\" font-family=\"monospace\" font-size=\"10.00\">ReluBackward0</text>\n</g>\n<!-- 135905822757776&#45;&gt;135905822757968 -->\n<g id=\"edge16\" class=\"edge\">\n<title>135905822757776&#45;&gt;135905822757968</title>\n<path fill=\"none\" stroke=\"black\" d=\"M1390.17,-908.37C1408.78,-898.73 1439.12,-883.03 1460.78,-871.81\"/>\n<polygon fill=\"black\" stroke=\"black\" points=\"1462.49,-874.87 1469.76,-867.17 1459.27,-868.66 1462.49,-874.87\"/>\n</g>\n<!-- 135905822757632 -->\n<g id=\"node19\" class=\"node\">\n<title>135905822757632</title>\n<polygon fill=\"lightgrey\" stroke=\"black\" points=\"1454,-993.5 1293,-993.5 1293,-974.5 1454,-974.5 1454,-993.5\"/>\n<text text-anchor=\"middle\" x=\"1373.5\" y=\"-981.5\" font-family=\"monospace\" font-size=\"10.00\">NativeBatchNormBackward0</text>\n</g>\n<!-- 135905822757632&#45;&gt;135905822757776 -->\n<g id=\"edge17\" class=\"edge\">\n<title>135905822757632&#45;&gt;135905822757776</title>\n<path fill=\"none\" stroke=\"black\" d=\"M1373.5,-974.37C1373.5,-965.16 1373.5,-950.29 1373.5,-938.27\"/>\n<polygon fill=\"black\" stroke=\"black\" points=\"1377,-937.91 1373.5,-927.91 1370,-937.91 1377,-937.91\"/>\n</g>\n<!-- 135905822757536 -->\n<g id=\"node20\" class=\"node\">\n<title>135905822757536</title>\n<polygon fill=\"lightgrey\" stroke=\"black\" points=\"1374,-1054 1237,-1054 1237,-1035 1374,-1035 1374,-1054\"/>\n<text text-anchor=\"middle\" x=\"1305.5\" y=\"-1042\" font-family=\"monospace\" font-size=\"10.00\">ConvolutionBackward0</text>\n</g>\n<!-- 135905822757536&#45;&gt;135905822757632 -->\n<g id=\"edge18\" class=\"edge\">\n<title>135905822757536&#45;&gt;135905822757632</title>\n<path fill=\"none\" stroke=\"black\" d=\"M1315.53,-1034.87C1326.08,-1025.8 1342.89,-1011.34 1355.69,-1000.32\"/>\n<polygon fill=\"black\" stroke=\"black\" points=\"1358.13,-1002.84 1363.43,-993.67 1353.56,-997.54 1358.13,-1002.84\"/>\n</g>\n<!-- 135905822757344 -->\n<g id=\"node21\" class=\"node\">\n<title>135905822757344</title>\n<polygon fill=\"lightgrey\" stroke=\"black\" points=\"1240,-1114.5 1145,-1114.5 1145,-1095.5 1240,-1095.5 1240,-1114.5\"/>\n<text text-anchor=\"middle\" x=\"1192.5\" y=\"-1102.5\" font-family=\"monospace\" font-size=\"10.00\">ReluBackward0</text>\n</g>\n<!-- 135905822757344&#45;&gt;135905822757536 -->\n<g id=\"edge19\" class=\"edge\">\n<title>135905822757344&#45;&gt;135905822757536</title>\n<path fill=\"none\" stroke=\"black\" d=\"M1209.17,-1095.37C1227.78,-1085.73 1258.12,-1070.03 1279.78,-1058.81\"/>\n<polygon fill=\"black\" stroke=\"black\" points=\"1281.49,-1061.87 1288.76,-1054.17 1278.27,-1055.66 1281.49,-1061.87\"/>\n</g>\n<!-- 135905822757440 -->\n<g id=\"node174\" class=\"node\">\n<title>135905822757440</title>\n<polygon fill=\"lightgrey\" stroke=\"black\" points=\"1145,-1054 1008,-1054 1008,-1035 1145,-1035 1145,-1054\"/>\n<text text-anchor=\"middle\" x=\"1076.5\" y=\"-1042\" font-family=\"monospace\" font-size=\"10.00\">ConvolutionBackward0</text>\n</g>\n<!-- 135905822757344&#45;&gt;135905822757440 -->\n<g id=\"edge179\" class=\"edge\">\n<title>135905822757344&#45;&gt;135905822757440</title>\n<path fill=\"none\" stroke=\"black\" d=\"M1175.38,-1095.37C1156.28,-1085.73 1125.13,-1070.03 1102.9,-1058.81\"/>\n<polygon fill=\"black\" stroke=\"black\" points=\"1104.19,-1055.55 1093.69,-1054.17 1101.04,-1061.8 1104.19,-1055.55\"/>\n</g>\n<!-- 135905822757200 -->\n<g id=\"node22\" class=\"node\">\n<title>135905822757200</title>\n<polygon fill=\"lightgrey\" stroke=\"black\" points=\"1237,-1180.5 1148,-1180.5 1148,-1161.5 1237,-1161.5 1237,-1180.5\"/>\n<text text-anchor=\"middle\" x=\"1192.5\" y=\"-1168.5\" font-family=\"monospace\" font-size=\"10.00\">AddBackward0</text>\n</g>\n<!-- 135905822757200&#45;&gt;135905822757344 -->\n<g id=\"edge20\" class=\"edge\">\n<title>135905822757200&#45;&gt;135905822757344</title>\n<path fill=\"none\" stroke=\"black\" d=\"M1192.5,-1161.37C1192.5,-1152.16 1192.5,-1137.29 1192.5,-1125.27\"/>\n<polygon fill=\"black\" stroke=\"black\" points=\"1196,-1124.91 1192.5,-1114.91 1189,-1124.91 1196,-1124.91\"/>\n</g>\n<!-- 135905822757104 -->\n<g id=\"node23\" class=\"node\">\n<title>135905822757104</title>\n<polygon fill=\"lightgrey\" stroke=\"black\" points=\"1449,-1241 1288,-1241 1288,-1222 1449,-1222 1449,-1241\"/>\n<text text-anchor=\"middle\" x=\"1368.5\" y=\"-1229\" font-family=\"monospace\" font-size=\"10.00\">NativeBatchNormBackward0</text>\n</g>\n<!-- 135905822757104&#45;&gt;135905822757200 -->\n<g id=\"edge21\" class=\"edge\">\n<title>135905822757104&#45;&gt;135905822757200</title>\n<path fill=\"none\" stroke=\"black\" d=\"M1342.91,-1221.99C1312.54,-1211.9 1261.74,-1195.01 1227.68,-1183.69\"/>\n<polygon fill=\"black\" stroke=\"black\" points=\"1228.72,-1180.35 1218.12,-1180.52 1226.51,-1186.99 1228.72,-1180.35\"/>\n</g>\n<!-- 135905822756960 -->\n<g id=\"node24\" class=\"node\">\n<title>135905822756960</title>\n<polygon fill=\"lightgrey\" stroke=\"black\" points=\"1369,-1296 1232,-1296 1232,-1277 1369,-1277 1369,-1296\"/>\n<text text-anchor=\"middle\" x=\"1300.5\" y=\"-1284\" font-family=\"monospace\" font-size=\"10.00\">ConvolutionBackward0</text>\n</g>\n<!-- 135905822756960&#45;&gt;135905822757104 -->\n<g id=\"edge22\" class=\"edge\">\n<title>135905822756960&#45;&gt;135905822757104</title>\n<path fill=\"none\" stroke=\"black\" d=\"M1311.43,-1276.98C1321.58,-1269.07 1336.92,-1257.11 1349.15,-1247.58\"/>\n<polygon fill=\"black\" stroke=\"black\" points=\"1351.64,-1250.08 1357.38,-1241.17 1347.34,-1244.56 1351.64,-1250.08\"/>\n</g>\n<!-- 135905822756768 -->\n<g id=\"node25\" class=\"node\">\n<title>135905822756768</title>\n<polygon fill=\"lightgrey\" stroke=\"black\" points=\"1235,-1356.5 1140,-1356.5 1140,-1337.5 1235,-1337.5 1235,-1356.5\"/>\n<text text-anchor=\"middle\" x=\"1187.5\" y=\"-1344.5\" font-family=\"monospace\" font-size=\"10.00\">ReluBackward0</text>\n</g>\n<!-- 135905822756768&#45;&gt;135905822756960 -->\n<g id=\"edge23\" class=\"edge\">\n<title>135905822756768&#45;&gt;135905822756960</title>\n<path fill=\"none\" stroke=\"black\" d=\"M1204.17,-1337.37C1222.78,-1327.73 1253.12,-1312.03 1274.78,-1300.81\"/>\n<polygon fill=\"black\" stroke=\"black\" points=\"1276.49,-1303.87 1283.76,-1296.17 1273.27,-1297.66 1276.49,-1303.87\"/>\n</g>\n<!-- 135905822756624 -->\n<g id=\"node26\" class=\"node\">\n<title>135905822756624</title>\n<polygon fill=\"lightgrey\" stroke=\"black\" points=\"1268,-1422.5 1107,-1422.5 1107,-1403.5 1268,-1403.5 1268,-1422.5\"/>\n<text text-anchor=\"middle\" x=\"1187.5\" y=\"-1410.5\" font-family=\"monospace\" font-size=\"10.00\">NativeBatchNormBackward0</text>\n</g>\n<!-- 135905822756624&#45;&gt;135905822756768 -->\n<g id=\"edge24\" class=\"edge\">\n<title>135905822756624&#45;&gt;135905822756768</title>\n<path fill=\"none\" stroke=\"black\" d=\"M1187.5,-1403.37C1187.5,-1394.16 1187.5,-1379.29 1187.5,-1367.27\"/>\n<polygon fill=\"black\" stroke=\"black\" points=\"1191,-1366.91 1187.5,-1356.91 1184,-1366.91 1191,-1366.91\"/>\n</g>\n<!-- 135905822756528 -->\n<g id=\"node27\" class=\"node\">\n<title>135905822756528</title>\n<polygon fill=\"lightgrey\" stroke=\"black\" points=\"1190,-1483 1053,-1483 1053,-1464 1190,-1464 1190,-1483\"/>\n<text text-anchor=\"middle\" x=\"1121.5\" y=\"-1471\" font-family=\"monospace\" font-size=\"10.00\">ConvolutionBackward0</text>\n</g>\n<!-- 135905822756528&#45;&gt;135905822756624 -->\n<g id=\"edge25\" class=\"edge\">\n<title>135905822756528&#45;&gt;135905822756624</title>\n<path fill=\"none\" stroke=\"black\" d=\"M1131.24,-1463.87C1141.47,-1454.8 1157.79,-1440.34 1170.22,-1429.32\"/>\n<polygon fill=\"black\" stroke=\"black\" points=\"1172.56,-1431.92 1177.72,-1422.67 1167.92,-1426.68 1172.56,-1431.92\"/>\n</g>\n<!-- 135905822757152 -->\n<g id=\"node28\" class=\"node\">\n<title>135905822757152</title>\n<polygon fill=\"lightgrey\" stroke=\"black\" points=\"1056,-1543.5 961,-1543.5 961,-1524.5 1056,-1524.5 1056,-1543.5\"/>\n<text text-anchor=\"middle\" x=\"1008.5\" y=\"-1531.5\" font-family=\"monospace\" font-size=\"10.00\">ReluBackward0</text>\n</g>\n<!-- 135905822757152&#45;&gt;135905822757200 -->\n<g id=\"edge164\" class=\"edge\">\n<title>135905822757152&#45;&gt;135905822757200</title>\n<path fill=\"none\" stroke=\"black\" d=\"M1009.48,-1524.35C1011.62,-1504.75 1016.5,-1455.41 1016.5,-1414 1016.5,-1414 1016.5,-1414 1016.5,-1285.5 1016.5,-1251.33 1111.39,-1206.15 1161.82,-1184.55\"/>\n<polygon fill=\"black\" stroke=\"black\" points=\"1163.42,-1187.67 1171.27,-1180.55 1160.7,-1181.22 1163.42,-1187.67\"/>\n</g>\n<!-- 135905822757152&#45;&gt;135905822756528 -->\n<g id=\"edge26\" class=\"edge\">\n<title>135905822757152&#45;&gt;135905822756528</title>\n<path fill=\"none\" stroke=\"black\" d=\"M1025.17,-1524.37C1043.78,-1514.73 1074.12,-1499.03 1095.78,-1487.81\"/>\n<polygon fill=\"black\" stroke=\"black\" points=\"1097.49,-1490.87 1104.76,-1483.17 1094.27,-1484.66 1097.49,-1490.87\"/>\n</g>\n<!-- 135905822756240 -->\n<g id=\"node29\" class=\"node\">\n<title>135905822756240</title>\n<polygon fill=\"lightgrey\" stroke=\"black\" points=\"1044,-1609.5 955,-1609.5 955,-1590.5 1044,-1590.5 1044,-1609.5\"/>\n<text text-anchor=\"middle\" x=\"999.5\" y=\"-1597.5\" font-family=\"monospace\" font-size=\"10.00\">AddBackward0</text>\n</g>\n<!-- 135905822756240&#45;&gt;135905822757152 -->\n<g id=\"edge27\" class=\"edge\">\n<title>135905822756240&#45;&gt;135905822757152</title>\n<path fill=\"none\" stroke=\"black\" d=\"M1000.71,-1590.37C1002.02,-1581.07 1004.14,-1565.98 1005.84,-1553.9\"/>\n<polygon fill=\"black\" stroke=\"black\" points=\"1009.32,-1554.3 1007.25,-1543.91 1002.39,-1553.32 1009.32,-1554.3\"/>\n</g>\n<!-- 135905822756144 -->\n<g id=\"node30\" class=\"node\">\n<title>135905822756144</title>\n<polygon fill=\"lightgrey\" stroke=\"black\" points=\"1319,-1670 1158,-1670 1158,-1651 1319,-1651 1319,-1670\"/>\n<text text-anchor=\"middle\" x=\"1238.5\" y=\"-1658\" font-family=\"monospace\" font-size=\"10.00\">NativeBatchNormBackward0</text>\n</g>\n<!-- 135905822756144&#45;&gt;135905822756240 -->\n<g id=\"edge28\" class=\"edge\">\n<title>135905822756144&#45;&gt;135905822756240</title>\n<path fill=\"none\" stroke=\"black\" d=\"M1201.73,-1650.97C1164.17,-1642.2 1104.18,-1628.01 1052.5,-1615 1048.87,-1614.09 1045.11,-1613.12 1041.34,-1612.15\"/>\n<polygon fill=\"black\" stroke=\"black\" points=\"1041.98,-1608.7 1031.42,-1609.56 1040.21,-1615.47 1041.98,-1608.7\"/>\n</g>\n<!-- 135905822754656 -->\n<g id=\"node31\" class=\"node\">\n<title>135905822754656</title>\n<polygon fill=\"lightgrey\" stroke=\"black\" points=\"1239,-1725 1102,-1725 1102,-1706 1239,-1706 1239,-1725\"/>\n<text text-anchor=\"middle\" x=\"1170.5\" y=\"-1713\" font-family=\"monospace\" font-size=\"10.00\">ConvolutionBackward0</text>\n</g>\n<!-- 135905822754656&#45;&gt;135905822756144 -->\n<g id=\"edge29\" class=\"edge\">\n<title>135905822754656&#45;&gt;135905822756144</title>\n<path fill=\"none\" stroke=\"black\" d=\"M1181.43,-1705.98C1191.58,-1698.07 1206.92,-1686.11 1219.15,-1676.58\"/>\n<polygon fill=\"black\" stroke=\"black\" points=\"1221.64,-1679.08 1227.38,-1670.17 1217.34,-1673.56 1221.64,-1679.08\"/>\n</g>\n<!-- 135905822754464 -->\n<g id=\"node32\" class=\"node\">\n<title>135905822754464</title>\n<polygon fill=\"lightgrey\" stroke=\"black\" points=\"1105,-1785.5 1010,-1785.5 1010,-1766.5 1105,-1766.5 1105,-1785.5\"/>\n<text text-anchor=\"middle\" x=\"1057.5\" y=\"-1773.5\" font-family=\"monospace\" font-size=\"10.00\">ReluBackward0</text>\n</g>\n<!-- 135905822754464&#45;&gt;135905822754656 -->\n<g id=\"edge30\" class=\"edge\">\n<title>135905822754464&#45;&gt;135905822754656</title>\n<path fill=\"none\" stroke=\"black\" d=\"M1074.17,-1766.37C1092.78,-1756.73 1123.12,-1741.03 1144.78,-1729.81\"/>\n<polygon fill=\"black\" stroke=\"black\" points=\"1146.49,-1732.87 1153.76,-1725.17 1143.27,-1726.66 1146.49,-1732.87\"/>\n</g>\n<!-- 135905822754320 -->\n<g id=\"node33\" class=\"node\">\n<title>135905822754320</title>\n<polygon fill=\"lightgrey\" stroke=\"black\" points=\"1138,-1851.5 977,-1851.5 977,-1832.5 1138,-1832.5 1138,-1851.5\"/>\n<text text-anchor=\"middle\" x=\"1057.5\" y=\"-1839.5\" font-family=\"monospace\" font-size=\"10.00\">NativeBatchNormBackward0</text>\n</g>\n<!-- 135905822754320&#45;&gt;135905822754464 -->\n<g id=\"edge31\" class=\"edge\">\n<title>135905822754320&#45;&gt;135905822754464</title>\n<path fill=\"none\" stroke=\"black\" d=\"M1057.5,-1832.37C1057.5,-1823.16 1057.5,-1808.29 1057.5,-1796.27\"/>\n<polygon fill=\"black\" stroke=\"black\" points=\"1061,-1795.91 1057.5,-1785.91 1054,-1795.91 1061,-1795.91\"/>\n</g>\n<!-- 135905822754224 -->\n<g id=\"node34\" class=\"node\">\n<title>135905822754224</title>\n<polygon fill=\"lightgrey\" stroke=\"black\" points=\"1058,-1912 921,-1912 921,-1893 1058,-1893 1058,-1912\"/>\n<text text-anchor=\"middle\" x=\"989.5\" y=\"-1900\" font-family=\"monospace\" font-size=\"10.00\">ConvolutionBackward0</text>\n</g>\n<!-- 135905822754224&#45;&gt;135905822754320 -->\n<g id=\"edge32\" class=\"edge\">\n<title>135905822754224&#45;&gt;135905822754320</title>\n<path fill=\"none\" stroke=\"black\" d=\"M999.53,-1892.87C1010.08,-1883.8 1026.89,-1869.34 1039.69,-1858.32\"/>\n<polygon fill=\"black\" stroke=\"black\" points=\"1042.13,-1860.84 1047.43,-1851.67 1037.56,-1855.54 1042.13,-1860.84\"/>\n</g>\n<!-- 135905822754032 -->\n<g id=\"node35\" class=\"node\">\n<title>135905822754032</title>\n<polygon fill=\"lightgrey\" stroke=\"black\" points=\"924,-1972.5 829,-1972.5 829,-1953.5 924,-1953.5 924,-1972.5\"/>\n<text text-anchor=\"middle\" x=\"876.5\" y=\"-1960.5\" font-family=\"monospace\" font-size=\"10.00\">ReluBackward0</text>\n</g>\n<!-- 135905822754032&#45;&gt;135905822754224 -->\n<g id=\"edge33\" class=\"edge\">\n<title>135905822754032&#45;&gt;135905822754224</title>\n<path fill=\"none\" stroke=\"black\" d=\"M893.17,-1953.37C911.78,-1943.73 942.12,-1928.03 963.78,-1916.81\"/>\n<polygon fill=\"black\" stroke=\"black\" points=\"965.49,-1919.87 972.76,-1912.17 962.27,-1913.66 965.49,-1919.87\"/>\n</g>\n<!-- 135905822754128 -->\n<g id=\"node142\" class=\"node\">\n<title>135905822754128</title>\n<polygon fill=\"lightgrey\" stroke=\"black\" points=\"829,-1912 692,-1912 692,-1893 829,-1893 829,-1912\"/>\n<text text-anchor=\"middle\" x=\"760.5\" y=\"-1900\" font-family=\"monospace\" font-size=\"10.00\">ConvolutionBackward0</text>\n</g>\n<!-- 135905822754032&#45;&gt;135905822754128 -->\n<g id=\"edge145\" class=\"edge\">\n<title>135905822754032&#45;&gt;135905822754128</title>\n<path fill=\"none\" stroke=\"black\" d=\"M859.38,-1953.37C840.28,-1943.73 809.13,-1928.03 786.9,-1916.81\"/>\n<polygon fill=\"black\" stroke=\"black\" points=\"788.19,-1913.55 777.69,-1912.17 785.04,-1919.8 788.19,-1913.55\"/>\n</g>\n<!-- 135905822753888 -->\n<g id=\"node36\" class=\"node\">\n<title>135905822753888</title>\n<polygon fill=\"lightgrey\" stroke=\"black\" points=\"921,-2038.5 832,-2038.5 832,-2019.5 921,-2019.5 921,-2038.5\"/>\n<text text-anchor=\"middle\" x=\"876.5\" y=\"-2026.5\" font-family=\"monospace\" font-size=\"10.00\">AddBackward0</text>\n</g>\n<!-- 135905822753888&#45;&gt;135905822754032 -->\n<g id=\"edge34\" class=\"edge\">\n<title>135905822753888&#45;&gt;135905822754032</title>\n<path fill=\"none\" stroke=\"black\" d=\"M876.5,-2019.37C876.5,-2010.16 876.5,-1995.29 876.5,-1983.27\"/>\n<polygon fill=\"black\" stroke=\"black\" points=\"880,-1982.91 876.5,-1972.91 873,-1982.91 880,-1982.91\"/>\n</g>\n<!-- 135905822753792 -->\n<g id=\"node37\" class=\"node\">\n<title>135905822753792</title>\n<polygon fill=\"lightgrey\" stroke=\"black\" points=\"1133,-2099 972,-2099 972,-2080 1133,-2080 1133,-2099\"/>\n<text text-anchor=\"middle\" x=\"1052.5\" y=\"-2087\" font-family=\"monospace\" font-size=\"10.00\">NativeBatchNormBackward0</text>\n</g>\n<!-- 135905822753792&#45;&gt;135905822753888 -->\n<g id=\"edge35\" class=\"edge\">\n<title>135905822753792&#45;&gt;135905822753888</title>\n<path fill=\"none\" stroke=\"black\" d=\"M1026.91,-2079.99C996.54,-2069.9 945.74,-2053.01 911.68,-2041.69\"/>\n<polygon fill=\"black\" stroke=\"black\" points=\"912.72,-2038.35 902.12,-2038.52 910.51,-2044.99 912.72,-2038.35\"/>\n</g>\n<!-- 135905822753648 -->\n<g id=\"node38\" class=\"node\">\n<title>135905822753648</title>\n<polygon fill=\"lightgrey\" stroke=\"black\" points=\"1053,-2154 916,-2154 916,-2135 1053,-2135 1053,-2154\"/>\n<text text-anchor=\"middle\" x=\"984.5\" y=\"-2142\" font-family=\"monospace\" font-size=\"10.00\">ConvolutionBackward0</text>\n</g>\n<!-- 135905822753648&#45;&gt;135905822753792 -->\n<g id=\"edge36\" class=\"edge\">\n<title>135905822753648&#45;&gt;135905822753792</title>\n<path fill=\"none\" stroke=\"black\" d=\"M995.43,-2134.98C1005.58,-2127.07 1020.92,-2115.11 1033.15,-2105.58\"/>\n<polygon fill=\"black\" stroke=\"black\" points=\"1035.64,-2108.08 1041.38,-2099.17 1031.34,-2102.56 1035.64,-2108.08\"/>\n</g>\n<!-- 135905822753456 -->\n<g id=\"node39\" class=\"node\">\n<title>135905822753456</title>\n<polygon fill=\"lightgrey\" stroke=\"black\" points=\"919,-2214.5 824,-2214.5 824,-2195.5 919,-2195.5 919,-2214.5\"/>\n<text text-anchor=\"middle\" x=\"871.5\" y=\"-2202.5\" font-family=\"monospace\" font-size=\"10.00\">ReluBackward0</text>\n</g>\n<!-- 135905822753456&#45;&gt;135905822753648 -->\n<g id=\"edge37\" class=\"edge\">\n<title>135905822753456&#45;&gt;135905822753648</title>\n<path fill=\"none\" stroke=\"black\" d=\"M888.17,-2195.37C906.78,-2185.73 937.12,-2170.03 958.78,-2158.81\"/>\n<polygon fill=\"black\" stroke=\"black\" points=\"960.49,-2161.87 967.76,-2154.17 957.27,-2155.66 960.49,-2161.87\"/>\n</g>\n<!-- 135905822753312 -->\n<g id=\"node40\" class=\"node\">\n<title>135905822753312</title>\n<polygon fill=\"lightgrey\" stroke=\"black\" points=\"952,-2280.5 791,-2280.5 791,-2261.5 952,-2261.5 952,-2280.5\"/>\n<text text-anchor=\"middle\" x=\"871.5\" y=\"-2268.5\" font-family=\"monospace\" font-size=\"10.00\">NativeBatchNormBackward0</text>\n</g>\n<!-- 135905822753312&#45;&gt;135905822753456 -->\n<g id=\"edge38\" class=\"edge\">\n<title>135905822753312&#45;&gt;135905822753456</title>\n<path fill=\"none\" stroke=\"black\" d=\"M871.5,-2261.37C871.5,-2252.16 871.5,-2237.29 871.5,-2225.27\"/>\n<polygon fill=\"black\" stroke=\"black\" points=\"875,-2224.91 871.5,-2214.91 868,-2224.91 875,-2224.91\"/>\n</g>\n<!-- 135905822753216 -->\n<g id=\"node41\" class=\"node\">\n<title>135905822753216</title>\n<polygon fill=\"lightgrey\" stroke=\"black\" points=\"874,-2341 737,-2341 737,-2322 874,-2322 874,-2341\"/>\n<text text-anchor=\"middle\" x=\"805.5\" y=\"-2329\" font-family=\"monospace\" font-size=\"10.00\">ConvolutionBackward0</text>\n</g>\n<!-- 135905822753216&#45;&gt;135905822753312 -->\n<g id=\"edge39\" class=\"edge\">\n<title>135905822753216&#45;&gt;135905822753312</title>\n<path fill=\"none\" stroke=\"black\" d=\"M815.24,-2321.87C825.47,-2312.8 841.79,-2298.34 854.22,-2287.32\"/>\n<polygon fill=\"black\" stroke=\"black\" points=\"856.56,-2289.92 861.72,-2280.67 851.92,-2284.68 856.56,-2289.92\"/>\n</g>\n<!-- 135905822753840 -->\n<g id=\"node42\" class=\"node\">\n<title>135905822753840</title>\n<polygon fill=\"lightgrey\" stroke=\"black\" points=\"740,-2401.5 645,-2401.5 645,-2382.5 740,-2382.5 740,-2401.5\"/>\n<text text-anchor=\"middle\" x=\"692.5\" y=\"-2389.5\" font-family=\"monospace\" font-size=\"10.00\">ReluBackward0</text>\n</g>\n<!-- 135905822753840&#45;&gt;135905822753888 -->\n<g id=\"edge130\" class=\"edge\">\n<title>135905822753840&#45;&gt;135905822753888</title>\n<path fill=\"none\" stroke=\"black\" d=\"M693.48,-2382.35C695.62,-2362.75 700.5,-2313.41 700.5,-2272 700.5,-2272 700.5,-2272 700.5,-2143.5 700.5,-2109.33 795.39,-2064.15 845.82,-2042.55\"/>\n<polygon fill=\"black\" stroke=\"black\" points=\"847.42,-2045.67 855.27,-2038.55 844.7,-2039.22 847.42,-2045.67\"/>\n</g>\n<!-- 135905822753840&#45;&gt;135905822753216 -->\n<g id=\"edge40\" class=\"edge\">\n<title>135905822753840&#45;&gt;135905822753216</title>\n<path fill=\"none\" stroke=\"black\" d=\"M709.17,-2382.37C727.78,-2372.73 758.12,-2357.03 779.78,-2345.81\"/>\n<polygon fill=\"black\" stroke=\"black\" points=\"781.49,-2348.87 788.76,-2341.17 778.27,-2342.66 781.49,-2348.87\"/>\n</g>\n<!-- 135905822752928 -->\n<g id=\"node43\" class=\"node\">\n<title>135905822752928</title>\n<polygon fill=\"lightgrey\" stroke=\"black\" points=\"728,-2467.5 639,-2467.5 639,-2448.5 728,-2448.5 728,-2467.5\"/>\n<text text-anchor=\"middle\" x=\"683.5\" y=\"-2455.5\" font-family=\"monospace\" font-size=\"10.00\">AddBackward0</text>\n</g>\n<!-- 135905822752928&#45;&gt;135905822753840 -->\n<g id=\"edge41\" class=\"edge\">\n<title>135905822752928&#45;&gt;135905822753840</title>\n<path fill=\"none\" stroke=\"black\" d=\"M684.71,-2448.37C686.02,-2439.07 688.14,-2423.98 689.84,-2411.9\"/>\n<polygon fill=\"black\" stroke=\"black\" points=\"693.32,-2412.3 691.25,-2401.91 686.39,-2411.32 693.32,-2412.3\"/>\n</g>\n<!-- 135905822752832 -->\n<g id=\"node44\" class=\"node\">\n<title>135905822752832</title>\n<polygon fill=\"lightgrey\" stroke=\"black\" points=\"1003,-2528 842,-2528 842,-2509 1003,-2509 1003,-2528\"/>\n<text text-anchor=\"middle\" x=\"922.5\" y=\"-2516\" font-family=\"monospace\" font-size=\"10.00\">NativeBatchNormBackward0</text>\n</g>\n<!-- 135905822752832&#45;&gt;135905822752928 -->\n<g id=\"edge42\" class=\"edge\">\n<title>135905822752832&#45;&gt;135905822752928</title>\n<path fill=\"none\" stroke=\"black\" d=\"M885.73,-2508.97C848.17,-2500.2 788.18,-2486.01 736.5,-2473 732.87,-2472.09 729.11,-2471.12 725.34,-2470.15\"/>\n<polygon fill=\"black\" stroke=\"black\" points=\"725.98,-2466.7 715.42,-2467.56 724.21,-2473.47 725.98,-2466.7\"/>\n</g>\n<!-- 135905822758544 -->\n<g id=\"node45\" class=\"node\">\n<title>135905822758544</title>\n<polygon fill=\"lightgrey\" stroke=\"black\" points=\"923,-2583 786,-2583 786,-2564 923,-2564 923,-2583\"/>\n<text text-anchor=\"middle\" x=\"854.5\" y=\"-2571\" font-family=\"monospace\" font-size=\"10.00\">ConvolutionBackward0</text>\n</g>\n<!-- 135905822758544&#45;&gt;135905822752832 -->\n<g id=\"edge43\" class=\"edge\">\n<title>135905822758544&#45;&gt;135905822752832</title>\n<path fill=\"none\" stroke=\"black\" d=\"M865.43,-2563.98C875.58,-2556.07 890.92,-2544.11 903.15,-2534.58\"/>\n<polygon fill=\"black\" stroke=\"black\" points=\"905.64,-2537.08 911.38,-2528.17 901.34,-2531.56 905.64,-2537.08\"/>\n</g>\n<!-- 135905822758736 -->\n<g id=\"node46\" class=\"node\">\n<title>135905822758736</title>\n<polygon fill=\"lightgrey\" stroke=\"black\" points=\"789,-2643.5 694,-2643.5 694,-2624.5 789,-2624.5 789,-2643.5\"/>\n<text text-anchor=\"middle\" x=\"741.5\" y=\"-2631.5\" font-family=\"monospace\" font-size=\"10.00\">ReluBackward0</text>\n</g>\n<!-- 135905822758736&#45;&gt;135905822758544 -->\n<g id=\"edge44\" class=\"edge\">\n<title>135905822758736&#45;&gt;135905822758544</title>\n<path fill=\"none\" stroke=\"black\" d=\"M758.17,-2624.37C776.78,-2614.73 807.12,-2599.03 828.78,-2587.81\"/>\n<polygon fill=\"black\" stroke=\"black\" points=\"830.49,-2590.87 837.76,-2583.17 827.27,-2584.66 830.49,-2590.87\"/>\n</g>\n<!-- 135905822758880 -->\n<g id=\"node47\" class=\"node\">\n<title>135905822758880</title>\n<polygon fill=\"lightgrey\" stroke=\"black\" points=\"822,-2709.5 661,-2709.5 661,-2690.5 822,-2690.5 822,-2709.5\"/>\n<text text-anchor=\"middle\" x=\"741.5\" y=\"-2697.5\" font-family=\"monospace\" font-size=\"10.00\">NativeBatchNormBackward0</text>\n</g>\n<!-- 135905822758880&#45;&gt;135905822758736 -->\n<g id=\"edge45\" class=\"edge\">\n<title>135905822758880&#45;&gt;135905822758736</title>\n<path fill=\"none\" stroke=\"black\" d=\"M741.5,-2690.37C741.5,-2681.16 741.5,-2666.29 741.5,-2654.27\"/>\n<polygon fill=\"black\" stroke=\"black\" points=\"745,-2653.91 741.5,-2643.91 738,-2653.91 745,-2653.91\"/>\n</g>\n<!-- 135905822758976 -->\n<g id=\"node48\" class=\"node\">\n<title>135905822758976</title>\n<polygon fill=\"lightgrey\" stroke=\"black\" points=\"742,-2770 605,-2770 605,-2751 742,-2751 742,-2770\"/>\n<text text-anchor=\"middle\" x=\"673.5\" y=\"-2758\" font-family=\"monospace\" font-size=\"10.00\">ConvolutionBackward0</text>\n</g>\n<!-- 135905822758976&#45;&gt;135905822758880 -->\n<g id=\"edge46\" class=\"edge\">\n<title>135905822758976&#45;&gt;135905822758880</title>\n<path fill=\"none\" stroke=\"black\" d=\"M683.53,-2750.87C694.08,-2741.8 710.89,-2727.34 723.69,-2716.32\"/>\n<polygon fill=\"black\" stroke=\"black\" points=\"726.13,-2718.84 731.43,-2709.67 721.56,-2713.54 726.13,-2718.84\"/>\n</g>\n<!-- 135905822759168 -->\n<g id=\"node49\" class=\"node\">\n<title>135905822759168</title>\n<polygon fill=\"lightgrey\" stroke=\"black\" points=\"608,-2830.5 513,-2830.5 513,-2811.5 608,-2811.5 608,-2830.5\"/>\n<text text-anchor=\"middle\" x=\"560.5\" y=\"-2818.5\" font-family=\"monospace\" font-size=\"10.00\">ReluBackward0</text>\n</g>\n<!-- 135905822759168&#45;&gt;135905822758976 -->\n<g id=\"edge47\" class=\"edge\">\n<title>135905822759168&#45;&gt;135905822758976</title>\n<path fill=\"none\" stroke=\"black\" d=\"M577.17,-2811.37C595.78,-2801.73 626.12,-2786.03 647.78,-2774.81\"/>\n<polygon fill=\"black\" stroke=\"black\" points=\"649.49,-2777.87 656.76,-2770.17 646.27,-2771.66 649.49,-2777.87\"/>\n</g>\n<!-- 135905822759072 -->\n<g id=\"node110\" class=\"node\">\n<title>135905822759072</title>\n<polygon fill=\"lightgrey\" stroke=\"black\" points=\"513,-2770 376,-2770 376,-2751 513,-2751 513,-2770\"/>\n<text text-anchor=\"middle\" x=\"444.5\" y=\"-2758\" font-family=\"monospace\" font-size=\"10.00\">ConvolutionBackward0</text>\n</g>\n<!-- 135905822759168&#45;&gt;135905822759072 -->\n<g id=\"edge111\" class=\"edge\">\n<title>135905822759168&#45;&gt;135905822759072</title>\n<path fill=\"none\" stroke=\"black\" d=\"M543.38,-2811.37C524.28,-2801.73 493.13,-2786.03 470.9,-2774.81\"/>\n<polygon fill=\"black\" stroke=\"black\" points=\"472.19,-2771.55 461.69,-2770.17 469.04,-2777.8 472.19,-2771.55\"/>\n</g>\n<!-- 135905822759312 -->\n<g id=\"node50\" class=\"node\">\n<title>135905822759312</title>\n<polygon fill=\"lightgrey\" stroke=\"black\" points=\"605,-2896.5 516,-2896.5 516,-2877.5 605,-2877.5 605,-2896.5\"/>\n<text text-anchor=\"middle\" x=\"560.5\" y=\"-2884.5\" font-family=\"monospace\" font-size=\"10.00\">AddBackward0</text>\n</g>\n<!-- 135905822759312&#45;&gt;135905822759168 -->\n<g id=\"edge48\" class=\"edge\">\n<title>135905822759312&#45;&gt;135905822759168</title>\n<path fill=\"none\" stroke=\"black\" d=\"M560.5,-2877.37C560.5,-2868.16 560.5,-2853.29 560.5,-2841.27\"/>\n<polygon fill=\"black\" stroke=\"black\" points=\"564,-2840.91 560.5,-2830.91 557,-2840.91 564,-2840.91\"/>\n</g>\n<!-- 135905822759408 -->\n<g id=\"node51\" class=\"node\">\n<title>135905822759408</title>\n<polygon fill=\"lightgrey\" stroke=\"black\" points=\"817,-2957 656,-2957 656,-2938 817,-2938 817,-2957\"/>\n<text text-anchor=\"middle\" x=\"736.5\" y=\"-2945\" font-family=\"monospace\" font-size=\"10.00\">NativeBatchNormBackward0</text>\n</g>\n<!-- 135905822759408&#45;&gt;135905822759312 -->\n<g id=\"edge49\" class=\"edge\">\n<title>135905822759408&#45;&gt;135905822759312</title>\n<path fill=\"none\" stroke=\"black\" d=\"M710.91,-2937.99C680.54,-2927.9 629.74,-2911.01 595.68,-2899.69\"/>\n<polygon fill=\"black\" stroke=\"black\" points=\"596.72,-2896.35 586.12,-2896.52 594.51,-2902.99 596.72,-2896.35\"/>\n</g>\n<!-- 135905822762912 -->\n<g id=\"node52\" class=\"node\">\n<title>135905822762912</title>\n<polygon fill=\"lightgrey\" stroke=\"black\" points=\"737,-3012 600,-3012 600,-2993 737,-2993 737,-3012\"/>\n<text text-anchor=\"middle\" x=\"668.5\" y=\"-3000\" font-family=\"monospace\" font-size=\"10.00\">ConvolutionBackward0</text>\n</g>\n<!-- 135905822762912&#45;&gt;135905822759408 -->\n<g id=\"edge50\" class=\"edge\">\n<title>135905822762912&#45;&gt;135905822759408</title>\n<path fill=\"none\" stroke=\"black\" d=\"M679.43,-2992.98C689.58,-2985.07 704.92,-2973.11 717.15,-2963.58\"/>\n<polygon fill=\"black\" stroke=\"black\" points=\"719.64,-2966.08 725.38,-2957.17 715.34,-2960.56 719.64,-2966.08\"/>\n</g>\n<!-- 135905822767088 -->\n<g id=\"node53\" class=\"node\">\n<title>135905822767088</title>\n<polygon fill=\"lightgrey\" stroke=\"black\" points=\"603,-3072.5 508,-3072.5 508,-3053.5 603,-3053.5 603,-3072.5\"/>\n<text text-anchor=\"middle\" x=\"555.5\" y=\"-3060.5\" font-family=\"monospace\" font-size=\"10.00\">ReluBackward0</text>\n</g>\n<!-- 135905822767088&#45;&gt;135905822762912 -->\n<g id=\"edge51\" class=\"edge\">\n<title>135905822767088&#45;&gt;135905822762912</title>\n<path fill=\"none\" stroke=\"black\" d=\"M572.17,-3053.37C590.78,-3043.73 621.12,-3028.03 642.78,-3016.81\"/>\n<polygon fill=\"black\" stroke=\"black\" points=\"644.49,-3019.87 651.76,-3012.17 641.27,-3013.66 644.49,-3019.87\"/>\n</g>\n<!-- 135905822767232 -->\n<g id=\"node54\" class=\"node\">\n<title>135905822767232</title>\n<polygon fill=\"lightgrey\" stroke=\"black\" points=\"636,-3138.5 475,-3138.5 475,-3119.5 636,-3119.5 636,-3138.5\"/>\n<text text-anchor=\"middle\" x=\"555.5\" y=\"-3126.5\" font-family=\"monospace\" font-size=\"10.00\">NativeBatchNormBackward0</text>\n</g>\n<!-- 135905822767232&#45;&gt;135905822767088 -->\n<g id=\"edge52\" class=\"edge\">\n<title>135905822767232&#45;&gt;135905822767088</title>\n<path fill=\"none\" stroke=\"black\" d=\"M555.5,-3119.37C555.5,-3110.16 555.5,-3095.29 555.5,-3083.27\"/>\n<polygon fill=\"black\" stroke=\"black\" points=\"559,-3082.91 555.5,-3072.91 552,-3082.91 559,-3082.91\"/>\n</g>\n<!-- 135905822767328 -->\n<g id=\"node55\" class=\"node\">\n<title>135905822767328</title>\n<polygon fill=\"lightgrey\" stroke=\"black\" points=\"558,-3199 421,-3199 421,-3180 558,-3180 558,-3199\"/>\n<text text-anchor=\"middle\" x=\"489.5\" y=\"-3187\" font-family=\"monospace\" font-size=\"10.00\">ConvolutionBackward0</text>\n</g>\n<!-- 135905822767328&#45;&gt;135905822767232 -->\n<g id=\"edge53\" class=\"edge\">\n<title>135905822767328&#45;&gt;135905822767232</title>\n<path fill=\"none\" stroke=\"black\" d=\"M499.24,-3179.87C509.47,-3170.8 525.79,-3156.34 538.22,-3145.32\"/>\n<polygon fill=\"black\" stroke=\"black\" points=\"540.56,-3147.92 545.72,-3138.67 535.92,-3142.68 540.56,-3147.92\"/>\n</g>\n<!-- 135905822759360 -->\n<g id=\"node56\" class=\"node\">\n<title>135905822759360</title>\n<polygon fill=\"lightgrey\" stroke=\"black\" points=\"424,-3259.5 329,-3259.5 329,-3240.5 424,-3240.5 424,-3259.5\"/>\n<text text-anchor=\"middle\" x=\"376.5\" y=\"-3247.5\" font-family=\"monospace\" font-size=\"10.00\">ReluBackward0</text>\n</g>\n<!-- 135905822759360&#45;&gt;135905822759312 -->\n<g id=\"edge96\" class=\"edge\">\n<title>135905822759360&#45;&gt;135905822759312</title>\n<path fill=\"none\" stroke=\"black\" d=\"M377.48,-3240.35C379.62,-3220.75 384.5,-3171.41 384.5,-3130 384.5,-3130 384.5,-3130 384.5,-3001.5 384.5,-2967.33 479.39,-2922.15 529.82,-2900.55\"/>\n<polygon fill=\"black\" stroke=\"black\" points=\"531.42,-2903.67 539.27,-2896.55 528.7,-2897.22 531.42,-2903.67\"/>\n</g>\n<!-- 135905822759360&#45;&gt;135905822767328 -->\n<g id=\"edge54\" class=\"edge\">\n<title>135905822759360&#45;&gt;135905822767328</title>\n<path fill=\"none\" stroke=\"black\" d=\"M393.17,-3240.37C411.78,-3230.73 442.12,-3215.03 463.78,-3203.81\"/>\n<polygon fill=\"black\" stroke=\"black\" points=\"465.49,-3206.87 472.76,-3199.17 462.27,-3200.66 465.49,-3206.87\"/>\n</g>\n<!-- 135905822761904 -->\n<g id=\"node57\" class=\"node\">\n<title>135905822761904</title>\n<polygon fill=\"lightgrey\" stroke=\"black\" points=\"412,-3325.5 323,-3325.5 323,-3306.5 412,-3306.5 412,-3325.5\"/>\n<text text-anchor=\"middle\" x=\"367.5\" y=\"-3313.5\" font-family=\"monospace\" font-size=\"10.00\">AddBackward0</text>\n</g>\n<!-- 135905822761904&#45;&gt;135905822759360 -->\n<g id=\"edge55\" class=\"edge\">\n<title>135905822761904&#45;&gt;135905822759360</title>\n<path fill=\"none\" stroke=\"black\" d=\"M368.71,-3306.37C370.02,-3297.07 372.14,-3281.98 373.84,-3269.9\"/>\n<polygon fill=\"black\" stroke=\"black\" points=\"377.32,-3270.3 375.25,-3259.91 370.39,-3269.32 377.32,-3270.3\"/>\n</g>\n<!-- 135905822762336 -->\n<g id=\"node58\" class=\"node\">\n<title>135905822762336</title>\n<polygon fill=\"lightgrey\" stroke=\"black\" points=\"689,-3386 528,-3386 528,-3367 689,-3367 689,-3386\"/>\n<text text-anchor=\"middle\" x=\"608.5\" y=\"-3374\" font-family=\"monospace\" font-size=\"10.00\">NativeBatchNormBackward0</text>\n</g>\n<!-- 135905822762336&#45;&gt;135905822761904 -->\n<g id=\"edge56\" class=\"edge\">\n<title>135905822762336&#45;&gt;135905822761904</title>\n<path fill=\"none\" stroke=\"black\" d=\"M570.98,-3366.92C532.98,-3358.16 472.56,-3344.03 420.5,-3331 416.87,-3330.09 413.11,-3329.13 409.33,-3328.16\"/>\n<polygon fill=\"black\" stroke=\"black\" points=\"409.98,-3324.71 399.42,-3325.57 408.21,-3331.48 409.98,-3324.71\"/>\n</g>\n<!-- 135905822760752 -->\n<g id=\"node59\" class=\"node\">\n<title>135905822760752</title>\n<polygon fill=\"lightgrey\" stroke=\"black\" points=\"609,-3441 472,-3441 472,-3422 609,-3422 609,-3441\"/>\n<text text-anchor=\"middle\" x=\"540.5\" y=\"-3429\" font-family=\"monospace\" font-size=\"10.00\">ConvolutionBackward0</text>\n</g>\n<!-- 135905822760752&#45;&gt;135905822762336 -->\n<g id=\"edge57\" class=\"edge\">\n<title>135905822760752&#45;&gt;135905822762336</title>\n<path fill=\"none\" stroke=\"black\" d=\"M551.43,-3421.98C561.58,-3414.07 576.92,-3402.11 589.15,-3392.58\"/>\n<polygon fill=\"black\" stroke=\"black\" points=\"591.64,-3395.08 597.38,-3386.17 587.34,-3389.56 591.64,-3395.08\"/>\n</g>\n<!-- 135905822760128 -->\n<g id=\"node60\" class=\"node\">\n<title>135905822760128</title>\n<polygon fill=\"lightgrey\" stroke=\"black\" points=\"475,-3501.5 380,-3501.5 380,-3482.5 475,-3482.5 475,-3501.5\"/>\n<text text-anchor=\"middle\" x=\"427.5\" y=\"-3489.5\" font-family=\"monospace\" font-size=\"10.00\">ReluBackward0</text>\n</g>\n<!-- 135905822760128&#45;&gt;135905822760752 -->\n<g id=\"edge58\" class=\"edge\">\n<title>135905822760128&#45;&gt;135905822760752</title>\n<path fill=\"none\" stroke=\"black\" d=\"M444.17,-3482.37C462.78,-3472.73 493.12,-3457.03 514.78,-3445.81\"/>\n<polygon fill=\"black\" stroke=\"black\" points=\"516.49,-3448.87 523.76,-3441.17 513.27,-3442.66 516.49,-3448.87\"/>\n</g>\n<!-- 135905822766800 -->\n<g id=\"node61\" class=\"node\">\n<title>135905822766800</title>\n<polygon fill=\"lightgrey\" stroke=\"black\" points=\"508,-3567.5 347,-3567.5 347,-3548.5 508,-3548.5 508,-3567.5\"/>\n<text text-anchor=\"middle\" x=\"427.5\" y=\"-3555.5\" font-family=\"monospace\" font-size=\"10.00\">NativeBatchNormBackward0</text>\n</g>\n<!-- 135905822766800&#45;&gt;135905822760128 -->\n<g id=\"edge59\" class=\"edge\">\n<title>135905822766800&#45;&gt;135905822760128</title>\n<path fill=\"none\" stroke=\"black\" d=\"M427.5,-3548.37C427.5,-3539.16 427.5,-3524.29 427.5,-3512.27\"/>\n<polygon fill=\"black\" stroke=\"black\" points=\"431,-3511.91 427.5,-3501.91 424,-3511.91 431,-3511.91\"/>\n</g>\n<!-- 135905822764784 -->\n<g id=\"node62\" class=\"node\">\n<title>135905822764784</title>\n<polygon fill=\"lightgrey\" stroke=\"black\" points=\"454,-3628 317,-3628 317,-3609 454,-3609 454,-3628\"/>\n<text text-anchor=\"middle\" x=\"385.5\" y=\"-3616\" font-family=\"monospace\" font-size=\"10.00\">ConvolutionBackward0</text>\n</g>\n<!-- 135905822764784&#45;&gt;135905822766800 -->\n<g id=\"edge60\" class=\"edge\">\n<title>135905822764784&#45;&gt;135905822766800</title>\n<path fill=\"none\" stroke=\"black\" d=\"M391.7,-3608.87C397.9,-3600.23 407.61,-3586.7 415.36,-3575.92\"/>\n<polygon fill=\"black\" stroke=\"black\" points=\"418.29,-3577.83 421.28,-3567.67 412.6,-3573.75 418.29,-3577.83\"/>\n</g>\n<!-- 135905822762288 -->\n<g id=\"node63\" class=\"node\">\n<title>135905822762288</title>\n<polygon fill=\"lightgrey\" stroke=\"black\" points=\"320,-3688.5 129,-3688.5 129,-3669.5 320,-3669.5 320,-3688.5\"/>\n<text text-anchor=\"middle\" x=\"224.5\" y=\"-3676.5\" font-family=\"monospace\" font-size=\"10.00\">MaxPool2DWithIndicesBackward0</text>\n</g>\n<!-- 135905822762288&#45;&gt;135905822761904 -->\n<g id=\"edge83\" class=\"edge\">\n<title>135905822762288&#45;&gt;135905822761904</title>\n<path fill=\"none\" stroke=\"black\" d=\"M228.55,-3669.26C237.16,-3649.87 256.5,-3601.57 256.5,-3559 256.5,-3559 256.5,-3559 256.5,-3430.5 256.5,-3383.09 306.62,-3348.15 339.5,-3330.32\"/>\n<polygon fill=\"black\" stroke=\"black\" points=\"341.42,-3333.27 348.67,-3325.55 338.18,-3327.06 341.42,-3333.27\"/>\n</g>\n<!-- 135905822762288&#45;&gt;135905822764784 -->\n<g id=\"edge61\" class=\"edge\">\n<title>135905822762288&#45;&gt;135905822764784</title>\n<path fill=\"none\" stroke=\"black\" d=\"M247.91,-3669.49C275.45,-3659.49 321.37,-3642.8 352.51,-3631.49\"/>\n<polygon fill=\"black\" stroke=\"black\" points=\"353.86,-3634.72 362.06,-3628.02 351.47,-3628.14 353.86,-3634.72\"/>\n</g>\n<!-- 135905822761760 -->\n<g id=\"node64\" class=\"node\">\n<title>135905822761760</title>\n<polygon fill=\"lightgrey\" stroke=\"black\" points=\"272,-3754.5 177,-3754.5 177,-3735.5 272,-3735.5 272,-3754.5\"/>\n<text text-anchor=\"middle\" x=\"224.5\" y=\"-3742.5\" font-family=\"monospace\" font-size=\"10.00\">ReluBackward0</text>\n</g>\n<!-- 135905822761760&#45;&gt;135905822762288 -->\n<g id=\"edge62\" class=\"edge\">\n<title>135905822761760&#45;&gt;135905822762288</title>\n<path fill=\"none\" stroke=\"black\" d=\"M224.5,-3735.37C224.5,-3726.16 224.5,-3711.29 224.5,-3699.27\"/>\n<polygon fill=\"black\" stroke=\"black\" points=\"228,-3698.91 224.5,-3688.91 221,-3698.91 228,-3698.91\"/>\n</g>\n<!-- 135905822754800 -->\n<g id=\"node65\" class=\"node\">\n<title>135905822754800</title>\n<polygon fill=\"lightgrey\" stroke=\"black\" points=\"305,-3815 144,-3815 144,-3796 305,-3796 305,-3815\"/>\n<text text-anchor=\"middle\" x=\"224.5\" y=\"-3803\" font-family=\"monospace\" font-size=\"10.00\">NativeBatchNormBackward0</text>\n</g>\n<!-- 135905822754800&#45;&gt;135905822761760 -->\n<g id=\"edge63\" class=\"edge\">\n<title>135905822754800&#45;&gt;135905822761760</title>\n<path fill=\"none\" stroke=\"black\" d=\"M224.5,-3795.87C224.5,-3787.75 224.5,-3775.31 224.5,-3764.89\"/>\n<polygon fill=\"black\" stroke=\"black\" points=\"228,-3764.67 224.5,-3754.67 221,-3764.67 228,-3764.67\"/>\n</g>\n<!-- 135905822754896 -->\n<g id=\"node66\" class=\"node\">\n<title>135905822754896</title>\n<polygon fill=\"lightgrey\" stroke=\"black\" points=\"156,-3870 19,-3870 19,-3851 156,-3851 156,-3870\"/>\n<text text-anchor=\"middle\" x=\"87.5\" y=\"-3858\" font-family=\"monospace\" font-size=\"10.00\">ConvolutionBackward0</text>\n</g>\n<!-- 135905822754896&#45;&gt;135905822754800 -->\n<g id=\"edge64\" class=\"edge\">\n<title>135905822754896&#45;&gt;135905822754800</title>\n<path fill=\"none\" stroke=\"black\" d=\"M109.51,-3850.98C131.95,-3842.3 166.98,-3828.75 192.49,-3818.88\"/>\n<polygon fill=\"black\" stroke=\"black\" points=\"194.02,-3822.04 202.09,-3815.17 191.5,-3815.51 194.02,-3822.04\"/>\n</g>\n<!-- 135905822755088 -->\n<g id=\"node67\" class=\"node\">\n<title>135905822755088</title>\n<polygon fill=\"lightgrey\" stroke=\"black\" points=\"138,-3930.5 37,-3930.5 37,-3911.5 138,-3911.5 138,-3930.5\"/>\n<text text-anchor=\"middle\" x=\"87.5\" y=\"-3918.5\" font-family=\"monospace\" font-size=\"10.00\">AccumulateGrad</text>\n</g>\n<!-- 135905822755088&#45;&gt;135905822754896 -->\n<g id=\"edge65\" class=\"edge\">\n<title>135905822755088&#45;&gt;135905822754896</title>\n<path fill=\"none\" stroke=\"black\" d=\"M87.5,-3911.37C87.5,-3903.25 87.5,-3890.81 87.5,-3880.39\"/>\n<polygon fill=\"black\" stroke=\"black\" points=\"91,-3880.17 87.5,-3870.17 84,-3880.17 91,-3880.17\"/>\n</g>\n<!-- 135905822785712 -->\n<g id=\"node68\" class=\"node\">\n<title>135905822785712</title>\n<polygon fill=\"lightblue\" stroke=\"black\" points=\"138,-4002 37,-4002 37,-3972 138,-3972 138,-4002\"/>\n<text text-anchor=\"middle\" x=\"87.5\" y=\"-3990\" font-family=\"monospace\" font-size=\"10.00\">conv1.weight</text>\n<text text-anchor=\"middle\" x=\"87.5\" y=\"-3979\" font-family=\"monospace\" font-size=\"10.00\"> (64, 3, 7, 7)</text>\n</g>\n<!-- 135905822785712&#45;&gt;135905822755088 -->\n<g id=\"edge66\" class=\"edge\">\n<title>135905822785712&#45;&gt;135905822755088</title>\n<path fill=\"none\" stroke=\"black\" d=\"M87.5,-3971.8C87.5,-3962.7 87.5,-3950.79 87.5,-3940.9\"/>\n<polygon fill=\"black\" stroke=\"black\" points=\"91,-3940.84 87.5,-3930.84 84,-3940.84 91,-3940.84\"/>\n</g>\n<!-- 135905822754848 -->\n<g id=\"node69\" class=\"node\">\n<title>135905822754848</title>\n<polygon fill=\"lightgrey\" stroke=\"black\" points=\"275,-3870 174,-3870 174,-3851 275,-3851 275,-3870\"/>\n<text text-anchor=\"middle\" x=\"224.5\" y=\"-3858\" font-family=\"monospace\" font-size=\"10.00\">AccumulateGrad</text>\n</g>\n<!-- 135905822754848&#45;&gt;135905822754800 -->\n<g id=\"edge67\" class=\"edge\">\n<title>135905822754848&#45;&gt;135905822754800</title>\n<path fill=\"none\" stroke=\"black\" d=\"M224.5,-3850.75C224.5,-3843.8 224.5,-3833.85 224.5,-3825.13\"/>\n<polygon fill=\"black\" stroke=\"black\" points=\"228,-3825.09 224.5,-3815.09 221,-3825.09 228,-3825.09\"/>\n</g>\n<!-- 135905822785808 -->\n<g id=\"node70\" class=\"node\">\n<title>135905822785808</title>\n<polygon fill=\"lightblue\" stroke=\"black\" points=\"263,-3936 186,-3936 186,-3906 263,-3906 263,-3936\"/>\n<text text-anchor=\"middle\" x=\"224.5\" y=\"-3924\" font-family=\"monospace\" font-size=\"10.00\">bn1.weight</text>\n<text text-anchor=\"middle\" x=\"224.5\" y=\"-3913\" font-family=\"monospace\" font-size=\"10.00\"> (64)</text>\n</g>\n<!-- 135905822785808&#45;&gt;135905822754848 -->\n<g id=\"edge68\" class=\"edge\">\n<title>135905822785808&#45;&gt;135905822754848</title>\n<path fill=\"none\" stroke=\"black\" d=\"M224.5,-3905.84C224.5,-3898.21 224.5,-3888.7 224.5,-3880.45\"/>\n<polygon fill=\"black\" stroke=\"black\" points=\"228,-3880.27 224.5,-3870.27 221,-3880.27 228,-3880.27\"/>\n</g>\n<!-- 135905822763248 -->\n<g id=\"node71\" class=\"node\">\n<title>135905822763248</title>\n<polygon fill=\"lightgrey\" stroke=\"black\" points=\"394,-3870 293,-3870 293,-3851 394,-3851 394,-3870\"/>\n<text text-anchor=\"middle\" x=\"343.5\" y=\"-3858\" font-family=\"monospace\" font-size=\"10.00\">AccumulateGrad</text>\n</g>\n<!-- 135905822763248&#45;&gt;135905822754800 -->\n<g id=\"edge69\" class=\"edge\">\n<title>135905822763248&#45;&gt;135905822754800</title>\n<path fill=\"none\" stroke=\"black\" d=\"M324.38,-3850.98C305.15,-3842.42 275.27,-3829.11 253.19,-3819.28\"/>\n<polygon fill=\"black\" stroke=\"black\" points=\"254.53,-3816.04 243.97,-3815.17 251.68,-3822.44 254.53,-3816.04\"/>\n</g>\n<!-- 135905822785904 -->\n<g id=\"node72\" class=\"node\">\n<title>135905822785904</title>\n<polygon fill=\"lightblue\" stroke=\"black\" points=\"376,-3936 311,-3936 311,-3906 376,-3906 376,-3936\"/>\n<text text-anchor=\"middle\" x=\"343.5\" y=\"-3924\" font-family=\"monospace\" font-size=\"10.00\">bn1.bias</text>\n<text text-anchor=\"middle\" x=\"343.5\" y=\"-3913\" font-family=\"monospace\" font-size=\"10.00\"> (64)</text>\n</g>\n<!-- 135905822785904&#45;&gt;135905822763248 -->\n<g id=\"edge70\" class=\"edge\">\n<title>135905822785904&#45;&gt;135905822763248</title>\n<path fill=\"none\" stroke=\"black\" d=\"M343.5,-3905.84C343.5,-3898.21 343.5,-3888.7 343.5,-3880.45\"/>\n<polygon fill=\"black\" stroke=\"black\" points=\"347,-3880.27 343.5,-3870.27 340,-3880.27 347,-3880.27\"/>\n</g>\n<!-- 135905822763680 -->\n<g id=\"node73\" class=\"node\">\n<title>135905822763680</title>\n<polygon fill=\"lightgrey\" stroke=\"black\" points=\"439,-3688.5 338,-3688.5 338,-3669.5 439,-3669.5 439,-3688.5\"/>\n<text text-anchor=\"middle\" x=\"388.5\" y=\"-3676.5\" font-family=\"monospace\" font-size=\"10.00\">AccumulateGrad</text>\n</g>\n<!-- 135905822763680&#45;&gt;135905822764784 -->\n<g id=\"edge71\" class=\"edge\">\n<title>135905822763680&#45;&gt;135905822764784</title>\n<path fill=\"none\" stroke=\"black\" d=\"M388.06,-3669.37C387.64,-3661.25 387,-3648.81 386.47,-3638.39\"/>\n<polygon fill=\"black\" stroke=\"black\" points=\"389.95,-3637.97 385.94,-3628.17 382.96,-3638.33 389.95,-3637.97\"/>\n</g>\n<!-- 135905822786192 -->\n<g id=\"node74\" class=\"node\">\n<title>135905822786192</title>\n<polygon fill=\"lightblue\" stroke=\"black\" points=\"460,-3760 317,-3760 317,-3730 460,-3730 460,-3760\"/>\n<text text-anchor=\"middle\" x=\"388.5\" y=\"-3748\" font-family=\"monospace\" font-size=\"10.00\">layer1.0.conv1.weight</text>\n<text text-anchor=\"middle\" x=\"388.5\" y=\"-3737\" font-family=\"monospace\" font-size=\"10.00\"> (64, 64, 3, 3)</text>\n</g>\n<!-- 135905822786192&#45;&gt;135905822763680 -->\n<g id=\"edge72\" class=\"edge\">\n<title>135905822786192&#45;&gt;135905822763680</title>\n<path fill=\"none\" stroke=\"black\" d=\"M388.5,-3729.8C388.5,-3720.7 388.5,-3708.79 388.5,-3698.9\"/>\n<polygon fill=\"black\" stroke=\"black\" points=\"392,-3698.84 388.5,-3688.84 385,-3698.84 392,-3698.84\"/>\n</g>\n<!-- 135905822766752 -->\n<g id=\"node75\" class=\"node\">\n<title>135905822766752</title>\n<polygon fill=\"lightgrey\" stroke=\"black\" points=\"573,-3628 472,-3628 472,-3609 573,-3609 573,-3628\"/>\n<text text-anchor=\"middle\" x=\"522.5\" y=\"-3616\" font-family=\"monospace\" font-size=\"10.00\">AccumulateGrad</text>\n</g>\n<!-- 135905822766752&#45;&gt;135905822766800 -->\n<g id=\"edge73\" class=\"edge\">\n<title>135905822766752&#45;&gt;135905822766800</title>\n<path fill=\"none\" stroke=\"black\" d=\"M508.48,-3608.87C493.19,-3599.45 468.47,-3584.23 450.36,-3573.08\"/>\n<polygon fill=\"black\" stroke=\"black\" points=\"451.93,-3569.93 441.58,-3567.67 448.25,-3575.89 451.93,-3569.93\"/>\n</g>\n<!-- 135905822786288 -->\n<g id=\"node76\" class=\"node\">\n<title>135905822786288</title>\n<polygon fill=\"lightblue\" stroke=\"black\" points=\"588,-3694 457,-3694 457,-3664 588,-3664 588,-3694\"/>\n<text text-anchor=\"middle\" x=\"522.5\" y=\"-3682\" font-family=\"monospace\" font-size=\"10.00\">layer1.0.bn1.weight</text>\n<text text-anchor=\"middle\" x=\"522.5\" y=\"-3671\" font-family=\"monospace\" font-size=\"10.00\"> (64)</text>\n</g>\n<!-- 135905822786288&#45;&gt;135905822766752 -->\n<g id=\"edge74\" class=\"edge\">\n<title>135905822786288&#45;&gt;135905822766752</title>\n<path fill=\"none\" stroke=\"black\" d=\"M522.5,-3663.84C522.5,-3656.21 522.5,-3646.7 522.5,-3638.45\"/>\n<polygon fill=\"black\" stroke=\"black\" points=\"526,-3638.27 522.5,-3628.27 519,-3638.27 526,-3638.27\"/>\n</g>\n<!-- 135905822760176 -->\n<g id=\"node77\" class=\"node\">\n<title>135905822760176</title>\n<polygon fill=\"lightgrey\" stroke=\"black\" points=\"704,-3628 603,-3628 603,-3609 704,-3609 704,-3628\"/>\n<text text-anchor=\"middle\" x=\"653.5\" y=\"-3616\" font-family=\"monospace\" font-size=\"10.00\">AccumulateGrad</text>\n</g>\n<!-- 135905822760176&#45;&gt;135905822766800 -->\n<g id=\"edge75\" class=\"edge\">\n<title>135905822760176&#45;&gt;135905822766800</title>\n<path fill=\"none\" stroke=\"black\" d=\"M620.64,-3608.99C580.89,-3598.7 513.87,-3581.36 470.17,-3570.04\"/>\n<polygon fill=\"black\" stroke=\"black\" points=\"470.96,-3566.63 460.4,-3567.52 469.21,-3573.41 470.96,-3566.63\"/>\n</g>\n<!-- 135905822786384 -->\n<g id=\"node78\" class=\"node\">\n<title>135905822786384</title>\n<polygon fill=\"lightblue\" stroke=\"black\" points=\"725,-3694 606,-3694 606,-3664 725,-3664 725,-3694\"/>\n<text text-anchor=\"middle\" x=\"665.5\" y=\"-3682\" font-family=\"monospace\" font-size=\"10.00\">layer1.0.bn1.bias</text>\n<text text-anchor=\"middle\" x=\"665.5\" y=\"-3671\" font-family=\"monospace\" font-size=\"10.00\"> (64)</text>\n</g>\n<!-- 135905822786384&#45;&gt;135905822760176 -->\n<g id=\"edge76\" class=\"edge\">\n<title>135905822786384&#45;&gt;135905822760176</title>\n<path fill=\"none\" stroke=\"black\" d=\"M662.6,-3663.84C661.01,-3656.13 659.04,-3646.49 657.33,-3638.17\"/>\n<polygon fill=\"black\" stroke=\"black\" points=\"660.74,-3637.36 655.3,-3628.27 653.88,-3638.77 660.74,-3637.36\"/>\n</g>\n<!-- 135905822760608 -->\n<g id=\"node79\" class=\"node\">\n<title>135905822760608</title>\n<polygon fill=\"lightgrey\" stroke=\"black\" points=\"594,-3501.5 493,-3501.5 493,-3482.5 594,-3482.5 594,-3501.5\"/>\n<text text-anchor=\"middle\" x=\"543.5\" y=\"-3489.5\" font-family=\"monospace\" font-size=\"10.00\">AccumulateGrad</text>\n</g>\n<!-- 135905822760608&#45;&gt;135905822760752 -->\n<g id=\"edge77\" class=\"edge\">\n<title>135905822760608&#45;&gt;135905822760752</title>\n<path fill=\"none\" stroke=\"black\" d=\"M543.06,-3482.37C542.64,-3474.25 542,-3461.81 541.47,-3451.39\"/>\n<polygon fill=\"black\" stroke=\"black\" points=\"544.95,-3450.97 540.94,-3441.17 537.96,-3451.33 544.95,-3450.97\"/>\n</g>\n<!-- 135905822786768 -->\n<g id=\"node80\" class=\"node\">\n<title>135905822786768</title>\n<polygon fill=\"lightblue\" stroke=\"black\" points=\"669,-3573 526,-3573 526,-3543 669,-3543 669,-3573\"/>\n<text text-anchor=\"middle\" x=\"597.5\" y=\"-3561\" font-family=\"monospace\" font-size=\"10.00\">layer1.0.conv2.weight</text>\n<text text-anchor=\"middle\" x=\"597.5\" y=\"-3550\" font-family=\"monospace\" font-size=\"10.00\"> (64, 64, 3, 3)</text>\n</g>\n<!-- 135905822786768&#45;&gt;135905822760608 -->\n<g id=\"edge78\" class=\"edge\">\n<title>135905822786768&#45;&gt;135905822760608</title>\n<path fill=\"none\" stroke=\"black\" d=\"M585.52,-3542.8C577.26,-3533.01 566.26,-3519.98 557.59,-3509.7\"/>\n<polygon fill=\"black\" stroke=\"black\" points=\"560.09,-3507.23 550.96,-3501.84 554.74,-3511.74 560.09,-3507.23\"/>\n</g>\n<!-- 135905822760800 -->\n<g id=\"node81\" class=\"node\">\n<title>135905822760800</title>\n<polygon fill=\"lightgrey\" stroke=\"black\" points=\"728,-3441 627,-3441 627,-3422 728,-3422 728,-3441\"/>\n<text text-anchor=\"middle\" x=\"677.5\" y=\"-3429\" font-family=\"monospace\" font-size=\"10.00\">AccumulateGrad</text>\n</g>\n<!-- 135905822760800&#45;&gt;135905822762336 -->\n<g id=\"edge79\" class=\"edge\">\n<title>135905822760800&#45;&gt;135905822762336</title>\n<path fill=\"none\" stroke=\"black\" d=\"M666.41,-3421.98C656.01,-3414 640.24,-3401.88 627.78,-3392.31\"/>\n<polygon fill=\"black\" stroke=\"black\" points=\"629.85,-3389.49 619.79,-3386.17 625.59,-3395.04 629.85,-3389.49\"/>\n</g>\n<!-- 135905822786864 -->\n<g id=\"node82\" class=\"node\">\n<title>135905822786864</title>\n<polygon fill=\"lightblue\" stroke=\"black\" points=\"743,-3507 612,-3507 612,-3477 743,-3477 743,-3507\"/>\n<text text-anchor=\"middle\" x=\"677.5\" y=\"-3495\" font-family=\"monospace\" font-size=\"10.00\">layer1.0.bn2.weight</text>\n<text text-anchor=\"middle\" x=\"677.5\" y=\"-3484\" font-family=\"monospace\" font-size=\"10.00\"> (64)</text>\n</g>\n<!-- 135905822786864&#45;&gt;135905822760800 -->\n<g id=\"edge80\" class=\"edge\">\n<title>135905822786864&#45;&gt;135905822760800</title>\n<path fill=\"none\" stroke=\"black\" d=\"M677.5,-3476.84C677.5,-3469.21 677.5,-3459.7 677.5,-3451.45\"/>\n<polygon fill=\"black\" stroke=\"black\" points=\"681,-3451.27 677.5,-3441.27 674,-3451.27 681,-3451.27\"/>\n</g>\n<!-- 135905822760848 -->\n<g id=\"node83\" class=\"node\">\n<title>135905822760848</title>\n<polygon fill=\"lightgrey\" stroke=\"black\" points=\"859,-3441 758,-3441 758,-3422 859,-3422 859,-3441\"/>\n<text text-anchor=\"middle\" x=\"808.5\" y=\"-3429\" font-family=\"monospace\" font-size=\"10.00\">AccumulateGrad</text>\n</g>\n<!-- 135905822760848&#45;&gt;135905822762336 -->\n<g id=\"edge81\" class=\"edge\">\n<title>135905822760848&#45;&gt;135905822762336</title>\n<path fill=\"none\" stroke=\"black\" d=\"M776.37,-3421.98C742.35,-3412.97 688.5,-3398.7 651,-3388.76\"/>\n<polygon fill=\"black\" stroke=\"black\" points=\"651.45,-3385.26 640.89,-3386.08 649.66,-3392.03 651.45,-3385.26\"/>\n</g>\n<!-- 135905822786960 -->\n<g id=\"node84\" class=\"node\">\n<title>135905822786960</title>\n<polygon fill=\"lightblue\" stroke=\"black\" points=\"880,-3507 761,-3507 761,-3477 880,-3477 880,-3507\"/>\n<text text-anchor=\"middle\" x=\"820.5\" y=\"-3495\" font-family=\"monospace\" font-size=\"10.00\">layer1.0.bn2.bias</text>\n<text text-anchor=\"middle\" x=\"820.5\" y=\"-3484\" font-family=\"monospace\" font-size=\"10.00\"> (64)</text>\n</g>\n<!-- 135905822786960&#45;&gt;135905822760848 -->\n<g id=\"edge82\" class=\"edge\">\n<title>135905822786960&#45;&gt;135905822760848</title>\n<path fill=\"none\" stroke=\"black\" d=\"M817.6,-3476.84C816.01,-3469.13 814.04,-3459.49 812.33,-3451.17\"/>\n<polygon fill=\"black\" stroke=\"black\" points=\"815.74,-3450.36 810.3,-3441.27 808.88,-3451.77 815.74,-3450.36\"/>\n</g>\n<!-- 135905822767520 -->\n<g id=\"node85\" class=\"node\">\n<title>135905822767520</title>\n<polygon fill=\"lightgrey\" stroke=\"black\" points=\"543,-3259.5 442,-3259.5 442,-3240.5 543,-3240.5 543,-3259.5\"/>\n<text text-anchor=\"middle\" x=\"492.5\" y=\"-3247.5\" font-family=\"monospace\" font-size=\"10.00\">AccumulateGrad</text>\n</g>\n<!-- 135905822767520&#45;&gt;135905822767328 -->\n<g id=\"edge84\" class=\"edge\">\n<title>135905822767520&#45;&gt;135905822767328</title>\n<path fill=\"none\" stroke=\"black\" d=\"M492.06,-3240.37C491.64,-3232.25 491,-3219.81 490.47,-3209.39\"/>\n<polygon fill=\"black\" stroke=\"black\" points=\"493.95,-3208.97 489.94,-3199.17 486.96,-3209.33 493.95,-3208.97\"/>\n</g>\n<!-- 135905822787344 -->\n<g id=\"node86\" class=\"node\">\n<title>135905822787344</title>\n<polygon fill=\"lightblue\" stroke=\"black\" points=\"573,-3331 430,-3331 430,-3301 573,-3301 573,-3331\"/>\n<text text-anchor=\"middle\" x=\"501.5\" y=\"-3319\" font-family=\"monospace\" font-size=\"10.00\">layer1.1.conv1.weight</text>\n<text text-anchor=\"middle\" x=\"501.5\" y=\"-3308\" font-family=\"monospace\" font-size=\"10.00\"> (64, 64, 3, 3)</text>\n</g>\n<!-- 135905822787344&#45;&gt;135905822767520 -->\n<g id=\"edge85\" class=\"edge\">\n<title>135905822787344&#45;&gt;135905822767520</title>\n<path fill=\"none\" stroke=\"black\" d=\"M499.5,-3300.8C498.22,-3291.7 496.55,-3279.79 495.16,-3269.9\"/>\n<polygon fill=\"black\" stroke=\"black\" points=\"498.6,-3269.26 493.74,-3259.84 491.67,-3270.23 498.6,-3269.26\"/>\n</g>\n<!-- 135905822767280 -->\n<g id=\"node87\" class=\"node\">\n<title>135905822767280</title>\n<polygon fill=\"lightgrey\" stroke=\"black\" points=\"677,-3199 576,-3199 576,-3180 677,-3180 677,-3199\"/>\n<text text-anchor=\"middle\" x=\"626.5\" y=\"-3187\" font-family=\"monospace\" font-size=\"10.00\">AccumulateGrad</text>\n</g>\n<!-- 135905822767280&#45;&gt;135905822767232 -->\n<g id=\"edge86\" class=\"edge\">\n<title>135905822767280&#45;&gt;135905822767232</title>\n<path fill=\"none\" stroke=\"black\" d=\"M616.02,-3179.87C605.01,-3170.8 587.46,-3156.34 574.09,-3145.32\"/>\n<polygon fill=\"black\" stroke=\"black\" points=\"575.96,-3142.33 566.02,-3138.67 571.51,-3147.73 575.96,-3142.33\"/>\n</g>\n<!-- 135905822787440 -->\n<g id=\"node88\" class=\"node\">\n<title>135905822787440</title>\n<polygon fill=\"lightblue\" stroke=\"black\" points=\"692,-3265 561,-3265 561,-3235 692,-3235 692,-3265\"/>\n<text text-anchor=\"middle\" x=\"626.5\" y=\"-3253\" font-family=\"monospace\" font-size=\"10.00\">layer1.1.bn1.weight</text>\n<text text-anchor=\"middle\" x=\"626.5\" y=\"-3242\" font-family=\"monospace\" font-size=\"10.00\"> (64)</text>\n</g>\n<!-- 135905822787440&#45;&gt;135905822767280 -->\n<g id=\"edge87\" class=\"edge\">\n<title>135905822787440&#45;&gt;135905822767280</title>\n<path fill=\"none\" stroke=\"black\" d=\"M626.5,-3234.84C626.5,-3227.21 626.5,-3217.7 626.5,-3209.45\"/>\n<polygon fill=\"black\" stroke=\"black\" points=\"630,-3209.27 626.5,-3199.27 623,-3209.27 630,-3209.27\"/>\n</g>\n<!-- 135905822767136 -->\n<g id=\"node89\" class=\"node\">\n<title>135905822767136</title>\n<polygon fill=\"lightgrey\" stroke=\"black\" points=\"808,-3199 707,-3199 707,-3180 808,-3180 808,-3199\"/>\n<text text-anchor=\"middle\" x=\"757.5\" y=\"-3187\" font-family=\"monospace\" font-size=\"10.00\">AccumulateGrad</text>\n</g>\n<!-- 135905822767136&#45;&gt;135905822767232 -->\n<g id=\"edge88\" class=\"edge\">\n<title>135905822767136&#45;&gt;135905822767232</title>\n<path fill=\"none\" stroke=\"black\" d=\"M728.13,-3179.99C692.9,-3169.79 633.71,-3152.65 594.63,-3141.33\"/>\n<polygon fill=\"black\" stroke=\"black\" points=\"595.49,-3137.94 584.91,-3138.52 593.54,-3144.66 595.49,-3137.94\"/>\n</g>\n<!-- 135905822787536 -->\n<g id=\"node90\" class=\"node\">\n<title>135905822787536</title>\n<polygon fill=\"lightblue\" stroke=\"black\" points=\"829,-3265 710,-3265 710,-3235 829,-3235 829,-3265\"/>\n<text text-anchor=\"middle\" x=\"769.5\" y=\"-3253\" font-family=\"monospace\" font-size=\"10.00\">layer1.1.bn1.bias</text>\n<text text-anchor=\"middle\" x=\"769.5\" y=\"-3242\" font-family=\"monospace\" font-size=\"10.00\"> (64)</text>\n</g>\n<!-- 135905822787536&#45;&gt;135905822767136 -->\n<g id=\"edge89\" class=\"edge\">\n<title>135905822787536&#45;&gt;135905822767136</title>\n<path fill=\"none\" stroke=\"black\" d=\"M766.6,-3234.84C765.01,-3227.13 763.04,-3217.49 761.33,-3209.17\"/>\n<polygon fill=\"black\" stroke=\"black\" points=\"764.74,-3208.36 759.3,-3199.27 757.88,-3209.77 764.74,-3208.36\"/>\n</g>\n<!-- 135905822767040 -->\n<g id=\"node91\" class=\"node\">\n<title>135905822767040</title>\n<polygon fill=\"lightgrey\" stroke=\"black\" points=\"722,-3072.5 621,-3072.5 621,-3053.5 722,-3053.5 722,-3072.5\"/>\n<text text-anchor=\"middle\" x=\"671.5\" y=\"-3060.5\" font-family=\"monospace\" font-size=\"10.00\">AccumulateGrad</text>\n</g>\n<!-- 135905822767040&#45;&gt;135905822762912 -->\n<g id=\"edge90\" class=\"edge\">\n<title>135905822767040&#45;&gt;135905822762912</title>\n<path fill=\"none\" stroke=\"black\" d=\"M671.06,-3053.37C670.64,-3045.25 670,-3032.81 669.47,-3022.39\"/>\n<polygon fill=\"black\" stroke=\"black\" points=\"672.95,-3021.97 668.94,-3012.17 665.96,-3022.33 672.95,-3021.97\"/>\n</g>\n<!-- 135905822787920 -->\n<g id=\"node92\" class=\"node\">\n<title>135905822787920</title>\n<polygon fill=\"lightblue\" stroke=\"black\" points=\"797,-3144 654,-3144 654,-3114 797,-3114 797,-3144\"/>\n<text text-anchor=\"middle\" x=\"725.5\" y=\"-3132\" font-family=\"monospace\" font-size=\"10.00\">layer1.1.conv2.weight</text>\n<text text-anchor=\"middle\" x=\"725.5\" y=\"-3121\" font-family=\"monospace\" font-size=\"10.00\"> (64, 64, 3, 3)</text>\n</g>\n<!-- 135905822787920&#45;&gt;135905822767040 -->\n<g id=\"edge91\" class=\"edge\">\n<title>135905822787920&#45;&gt;135905822767040</title>\n<path fill=\"none\" stroke=\"black\" d=\"M713.52,-3113.8C705.26,-3104.01 694.26,-3090.98 685.59,-3080.7\"/>\n<polygon fill=\"black\" stroke=\"black\" points=\"688.09,-3078.23 678.96,-3072.84 682.74,-3082.74 688.09,-3078.23\"/>\n</g>\n<!-- 135905822759504 -->\n<g id=\"node93\" class=\"node\">\n<title>135905822759504</title>\n<polygon fill=\"lightgrey\" stroke=\"black\" points=\"856,-3012 755,-3012 755,-2993 856,-2993 856,-3012\"/>\n<text text-anchor=\"middle\" x=\"805.5\" y=\"-3000\" font-family=\"monospace\" font-size=\"10.00\">AccumulateGrad</text>\n</g>\n<!-- 135905822759504&#45;&gt;135905822759408 -->\n<g id=\"edge92\" class=\"edge\">\n<title>135905822759504&#45;&gt;135905822759408</title>\n<path fill=\"none\" stroke=\"black\" d=\"M794.41,-2992.98C784.01,-2985 768.24,-2972.88 755.78,-2963.31\"/>\n<polygon fill=\"black\" stroke=\"black\" points=\"757.85,-2960.49 747.79,-2957.17 753.59,-2966.04 757.85,-2960.49\"/>\n</g>\n<!-- 135905822788016 -->\n<g id=\"node94\" class=\"node\">\n<title>135905822788016</title>\n<polygon fill=\"lightblue\" stroke=\"black\" points=\"871,-3078 740,-3078 740,-3048 871,-3048 871,-3078\"/>\n<text text-anchor=\"middle\" x=\"805.5\" y=\"-3066\" font-family=\"monospace\" font-size=\"10.00\">layer1.1.bn2.weight</text>\n<text text-anchor=\"middle\" x=\"805.5\" y=\"-3055\" font-family=\"monospace\" font-size=\"10.00\"> (64)</text>\n</g>\n<!-- 135905822788016&#45;&gt;135905822759504 -->\n<g id=\"edge93\" class=\"edge\">\n<title>135905822788016&#45;&gt;135905822759504</title>\n<path fill=\"none\" stroke=\"black\" d=\"M805.5,-3047.84C805.5,-3040.21 805.5,-3030.7 805.5,-3022.45\"/>\n<polygon fill=\"black\" stroke=\"black\" points=\"809,-3022.27 805.5,-3012.27 802,-3022.27 809,-3022.27\"/>\n</g>\n<!-- 135905822759456 -->\n<g id=\"node95\" class=\"node\">\n<title>135905822759456</title>\n<polygon fill=\"lightgrey\" stroke=\"black\" points=\"987,-3012 886,-3012 886,-2993 987,-2993 987,-3012\"/>\n<text text-anchor=\"middle\" x=\"936.5\" y=\"-3000\" font-family=\"monospace\" font-size=\"10.00\">AccumulateGrad</text>\n</g>\n<!-- 135905822759456&#45;&gt;135905822759408 -->\n<g id=\"edge94\" class=\"edge\">\n<title>135905822759456&#45;&gt;135905822759408</title>\n<path fill=\"none\" stroke=\"black\" d=\"M904.37,-2992.98C870.35,-2983.97 816.5,-2969.7 779,-2959.76\"/>\n<polygon fill=\"black\" stroke=\"black\" points=\"779.45,-2956.26 768.89,-2957.08 777.66,-2963.03 779.45,-2956.26\"/>\n</g>\n<!-- 135905822788112 -->\n<g id=\"node96\" class=\"node\">\n<title>135905822788112</title>\n<polygon fill=\"lightblue\" stroke=\"black\" points=\"1008,-3078 889,-3078 889,-3048 1008,-3048 1008,-3078\"/>\n<text text-anchor=\"middle\" x=\"948.5\" y=\"-3066\" font-family=\"monospace\" font-size=\"10.00\">layer1.1.bn2.bias</text>\n<text text-anchor=\"middle\" x=\"948.5\" y=\"-3055\" font-family=\"monospace\" font-size=\"10.00\"> (64)</text>\n</g>\n<!-- 135905822788112&#45;&gt;135905822759456 -->\n<g id=\"edge95\" class=\"edge\">\n<title>135905822788112&#45;&gt;135905822759456</title>\n<path fill=\"none\" stroke=\"black\" d=\"M945.6,-3047.84C944.01,-3040.13 942.04,-3030.49 940.33,-3022.17\"/>\n<polygon fill=\"black\" stroke=\"black\" points=\"943.74,-3021.36 938.3,-3012.27 936.88,-3022.77 943.74,-3021.36\"/>\n</g>\n<!-- 135905822759120 -->\n<g id=\"node97\" class=\"node\">\n<title>135905822759120</title>\n<polygon fill=\"lightgrey\" stroke=\"black\" points=\"727,-2830.5 626,-2830.5 626,-2811.5 727,-2811.5 727,-2830.5\"/>\n<text text-anchor=\"middle\" x=\"676.5\" y=\"-2818.5\" font-family=\"monospace\" font-size=\"10.00\">AccumulateGrad</text>\n</g>\n<!-- 135905822759120&#45;&gt;135905822758976 -->\n<g id=\"edge97\" class=\"edge\">\n<title>135905822759120&#45;&gt;135905822758976</title>\n<path fill=\"none\" stroke=\"black\" d=\"M676.06,-2811.37C675.64,-2803.25 675,-2790.81 674.47,-2780.39\"/>\n<polygon fill=\"black\" stroke=\"black\" points=\"677.95,-2779.97 673.94,-2770.17 670.96,-2780.33 677.95,-2779.97\"/>\n</g>\n<!-- 135905822789072 -->\n<g id=\"node98\" class=\"node\">\n<title>135905822789072</title>\n<polygon fill=\"lightblue\" stroke=\"black\" points=\"766,-2902 623,-2902 623,-2872 766,-2872 766,-2902\"/>\n<text text-anchor=\"middle\" x=\"694.5\" y=\"-2890\" font-family=\"monospace\" font-size=\"10.00\">layer2.0.conv1.weight</text>\n<text text-anchor=\"middle\" x=\"694.5\" y=\"-2879\" font-family=\"monospace\" font-size=\"10.00\"> (128, 64, 3, 3)</text>\n</g>\n<!-- 135905822789072&#45;&gt;135905822759120 -->\n<g id=\"edge98\" class=\"edge\">\n<title>135905822789072&#45;&gt;135905822759120</title>\n<path fill=\"none\" stroke=\"black\" d=\"M690.51,-2871.8C687.92,-2862.6 684.52,-2850.53 681.73,-2840.58\"/>\n<polygon fill=\"black\" stroke=\"black\" points=\"685.06,-2839.52 678.99,-2830.84 678.33,-2841.42 685.06,-2839.52\"/>\n</g>\n<!-- 135905822758928 -->\n<g id=\"node99\" class=\"node\">\n<title>135905822758928</title>\n<polygon fill=\"lightgrey\" stroke=\"black\" points=\"861,-2770 760,-2770 760,-2751 861,-2751 861,-2770\"/>\n<text text-anchor=\"middle\" x=\"810.5\" y=\"-2758\" font-family=\"monospace\" font-size=\"10.00\">AccumulateGrad</text>\n</g>\n<!-- 135905822758928&#45;&gt;135905822758880 -->\n<g id=\"edge99\" class=\"edge\">\n<title>135905822758928&#45;&gt;135905822758880</title>\n<path fill=\"none\" stroke=\"black\" d=\"M800.32,-2750.87C789.62,-2741.8 772.56,-2727.34 759.57,-2716.32\"/>\n<polygon fill=\"black\" stroke=\"black\" points=\"761.61,-2713.46 751.72,-2709.67 757.09,-2718.8 761.61,-2713.46\"/>\n</g>\n<!-- 135905822789168 -->\n<g id=\"node100\" class=\"node\">\n<title>135905822789168</title>\n<polygon fill=\"lightblue\" stroke=\"black\" points=\"876,-2836 745,-2836 745,-2806 876,-2806 876,-2836\"/>\n<text text-anchor=\"middle\" x=\"810.5\" y=\"-2824\" font-family=\"monospace\" font-size=\"10.00\">layer2.0.bn1.weight</text>\n<text text-anchor=\"middle\" x=\"810.5\" y=\"-2813\" font-family=\"monospace\" font-size=\"10.00\"> (128)</text>\n</g>\n<!-- 135905822789168&#45;&gt;135905822758928 -->\n<g id=\"edge100\" class=\"edge\">\n<title>135905822789168&#45;&gt;135905822758928</title>\n<path fill=\"none\" stroke=\"black\" d=\"M810.5,-2805.84C810.5,-2798.21 810.5,-2788.7 810.5,-2780.45\"/>\n<polygon fill=\"black\" stroke=\"black\" points=\"814,-2780.27 810.5,-2770.27 807,-2780.27 814,-2780.27\"/>\n</g>\n<!-- 135905822758784 -->\n<g id=\"node101\" class=\"node\">\n<title>135905822758784</title>\n<polygon fill=\"lightgrey\" stroke=\"black\" points=\"992,-2770 891,-2770 891,-2751 992,-2751 992,-2770\"/>\n<text text-anchor=\"middle\" x=\"941.5\" y=\"-2758\" font-family=\"monospace\" font-size=\"10.00\">AccumulateGrad</text>\n</g>\n<!-- 135905822758784&#45;&gt;135905822758880 -->\n<g id=\"edge101\" class=\"edge\">\n<title>135905822758784&#45;&gt;135905822758880</title>\n<path fill=\"none\" stroke=\"black\" d=\"M912.42,-2750.99C877.61,-2740.81 819.18,-2723.72 780.49,-2712.4\"/>\n<polygon fill=\"black\" stroke=\"black\" points=\"781.2,-2708.96 770.62,-2709.52 779.23,-2715.68 781.2,-2708.96\"/>\n</g>\n<!-- 135905822789264 -->\n<g id=\"node102\" class=\"node\">\n<title>135905822789264</title>\n<polygon fill=\"lightblue\" stroke=\"black\" points=\"1013,-2836 894,-2836 894,-2806 1013,-2806 1013,-2836\"/>\n<text text-anchor=\"middle\" x=\"953.5\" y=\"-2824\" font-family=\"monospace\" font-size=\"10.00\">layer2.0.bn1.bias</text>\n<text text-anchor=\"middle\" x=\"953.5\" y=\"-2813\" font-family=\"monospace\" font-size=\"10.00\"> (128)</text>\n</g>\n<!-- 135905822789264&#45;&gt;135905822758784 -->\n<g id=\"edge102\" class=\"edge\">\n<title>135905822789264&#45;&gt;135905822758784</title>\n<path fill=\"none\" stroke=\"black\" d=\"M950.6,-2805.84C949.01,-2798.13 947.04,-2788.49 945.33,-2780.17\"/>\n<polygon fill=\"black\" stroke=\"black\" points=\"948.74,-2779.36 943.3,-2770.27 941.88,-2780.77 948.74,-2779.36\"/>\n</g>\n<!-- 135905822758688 -->\n<g id=\"node103\" class=\"node\">\n<title>135905822758688</title>\n<polygon fill=\"lightgrey\" stroke=\"black\" points=\"908,-2643.5 807,-2643.5 807,-2624.5 908,-2624.5 908,-2643.5\"/>\n<text text-anchor=\"middle\" x=\"857.5\" y=\"-2631.5\" font-family=\"monospace\" font-size=\"10.00\">AccumulateGrad</text>\n</g>\n<!-- 135905822758688&#45;&gt;135905822758544 -->\n<g id=\"edge103\" class=\"edge\">\n<title>135905822758688&#45;&gt;135905822758544</title>\n<path fill=\"none\" stroke=\"black\" d=\"M857.06,-2624.37C856.64,-2616.25 856,-2603.81 855.47,-2593.39\"/>\n<polygon fill=\"black\" stroke=\"black\" points=\"858.95,-2592.97 854.94,-2583.17 851.96,-2593.33 858.95,-2592.97\"/>\n</g>\n<!-- 135905822789648 -->\n<g id=\"node104\" class=\"node\">\n<title>135905822789648</title>\n<polygon fill=\"lightblue\" stroke=\"black\" points=\"983,-2715 840,-2715 840,-2685 983,-2685 983,-2715\"/>\n<text text-anchor=\"middle\" x=\"911.5\" y=\"-2703\" font-family=\"monospace\" font-size=\"10.00\">layer2.0.conv2.weight</text>\n<text text-anchor=\"middle\" x=\"911.5\" y=\"-2692\" font-family=\"monospace\" font-size=\"10.00\"> (128, 128, 3, 3)</text>\n</g>\n<!-- 135905822789648&#45;&gt;135905822758688 -->\n<g id=\"edge104\" class=\"edge\">\n<title>135905822789648&#45;&gt;135905822758688</title>\n<path fill=\"none\" stroke=\"black\" d=\"M899.52,-2684.8C891.26,-2675.01 880.26,-2661.98 871.59,-2651.7\"/>\n<polygon fill=\"black\" stroke=\"black\" points=\"874.09,-2649.23 864.96,-2643.84 868.74,-2653.74 874.09,-2649.23\"/>\n</g>\n<!-- 135905822758496 -->\n<g id=\"node105\" class=\"node\">\n<title>135905822758496</title>\n<polygon fill=\"lightgrey\" stroke=\"black\" points=\"1042,-2583 941,-2583 941,-2564 1042,-2564 1042,-2583\"/>\n<text text-anchor=\"middle\" x=\"991.5\" y=\"-2571\" font-family=\"monospace\" font-size=\"10.00\">AccumulateGrad</text>\n</g>\n<!-- 135905822758496&#45;&gt;135905822752832 -->\n<g id=\"edge105\" class=\"edge\">\n<title>135905822758496&#45;&gt;135905822752832</title>\n<path fill=\"none\" stroke=\"black\" d=\"M980.41,-2563.98C970.01,-2556 954.24,-2543.88 941.78,-2534.31\"/>\n<polygon fill=\"black\" stroke=\"black\" points=\"943.85,-2531.49 933.79,-2528.17 939.59,-2537.04 943.85,-2531.49\"/>\n</g>\n<!-- 135905822789744 -->\n<g id=\"node106\" class=\"node\">\n<title>135905822789744</title>\n<polygon fill=\"lightblue\" stroke=\"black\" points=\"1057,-2649 926,-2649 926,-2619 1057,-2619 1057,-2649\"/>\n<text text-anchor=\"middle\" x=\"991.5\" y=\"-2637\" font-family=\"monospace\" font-size=\"10.00\">layer2.0.bn2.weight</text>\n<text text-anchor=\"middle\" x=\"991.5\" y=\"-2626\" font-family=\"monospace\" font-size=\"10.00\"> (128)</text>\n</g>\n<!-- 135905822789744&#45;&gt;135905822758496 -->\n<g id=\"edge106\" class=\"edge\">\n<title>135905822789744&#45;&gt;135905822758496</title>\n<path fill=\"none\" stroke=\"black\" d=\"M991.5,-2618.84C991.5,-2611.21 991.5,-2601.7 991.5,-2593.45\"/>\n<polygon fill=\"black\" stroke=\"black\" points=\"995,-2593.27 991.5,-2583.27 988,-2593.27 995,-2593.27\"/>\n</g>\n<!-- 135905822758448 -->\n<g id=\"node107\" class=\"node\">\n<title>135905822758448</title>\n<polygon fill=\"lightgrey\" stroke=\"black\" points=\"1173,-2583 1072,-2583 1072,-2564 1173,-2564 1173,-2583\"/>\n<text text-anchor=\"middle\" x=\"1122.5\" y=\"-2571\" font-family=\"monospace\" font-size=\"10.00\">AccumulateGrad</text>\n</g>\n<!-- 135905822758448&#45;&gt;135905822752832 -->\n<g id=\"edge107\" class=\"edge\">\n<title>135905822758448&#45;&gt;135905822752832</title>\n<path fill=\"none\" stroke=\"black\" d=\"M1090.37,-2563.98C1056.35,-2554.97 1002.5,-2540.7 965,-2530.76\"/>\n<polygon fill=\"black\" stroke=\"black\" points=\"965.45,-2527.26 954.89,-2528.08 963.66,-2534.03 965.45,-2527.26\"/>\n</g>\n<!-- 135905822789840 -->\n<g id=\"node108\" class=\"node\">\n<title>135905822789840</title>\n<polygon fill=\"lightblue\" stroke=\"black\" points=\"1194,-2649 1075,-2649 1075,-2619 1194,-2619 1194,-2649\"/>\n<text text-anchor=\"middle\" x=\"1134.5\" y=\"-2637\" font-family=\"monospace\" font-size=\"10.00\">layer2.0.bn2.bias</text>\n<text text-anchor=\"middle\" x=\"1134.5\" y=\"-2626\" font-family=\"monospace\" font-size=\"10.00\"> (128)</text>\n</g>\n<!-- 135905822789840&#45;&gt;135905822758448 -->\n<g id=\"edge108\" class=\"edge\">\n<title>135905822789840&#45;&gt;135905822758448</title>\n<path fill=\"none\" stroke=\"black\" d=\"M1131.6,-2618.84C1130.01,-2611.13 1128.04,-2601.49 1126.33,-2593.17\"/>\n<polygon fill=\"black\" stroke=\"black\" points=\"1129.74,-2592.36 1124.3,-2583.27 1122.88,-2593.77 1129.74,-2592.36\"/>\n</g>\n<!-- 135905822752880 -->\n<g id=\"node109\" class=\"node\">\n<title>135905822752880</title>\n<polygon fill=\"lightgrey\" stroke=\"black\" points=\"448,-2709.5 287,-2709.5 287,-2690.5 448,-2690.5 448,-2709.5\"/>\n<text text-anchor=\"middle\" x=\"367.5\" y=\"-2697.5\" font-family=\"monospace\" font-size=\"10.00\">NativeBatchNormBackward0</text>\n</g>\n<!-- 135905822752880&#45;&gt;135905822752928 -->\n<g id=\"edge109\" class=\"edge\">\n<title>135905822752880&#45;&gt;135905822752928</title>\n<path fill=\"none\" stroke=\"black\" d=\"M378.75,-2690.46C425.39,-2655.03 603.96,-2519.41 663.81,-2473.95\"/>\n<polygon fill=\"black\" stroke=\"black\" points=\"666.21,-2476.53 672.06,-2467.69 661.98,-2470.95 666.21,-2476.53\"/>\n</g>\n<!-- 135905822759072&#45;&gt;135905822752880 -->\n<g id=\"edge110\" class=\"edge\">\n<title>135905822759072&#45;&gt;135905822752880</title>\n<path fill=\"none\" stroke=\"black\" d=\"M433.14,-2750.87C421.08,-2741.71 401.8,-2727.06 387.25,-2716.01\"/>\n<polygon fill=\"black\" stroke=\"black\" points=\"388.99,-2712.93 378.91,-2709.67 384.75,-2718.5 388.99,-2712.93\"/>\n</g>\n<!-- 135905822759216 -->\n<g id=\"node111\" class=\"node\">\n<title>135905822759216</title>\n<polygon fill=\"lightgrey\" stroke=\"black\" points=\"495,-2830.5 394,-2830.5 394,-2811.5 495,-2811.5 495,-2830.5\"/>\n<text text-anchor=\"middle\" x=\"444.5\" y=\"-2818.5\" font-family=\"monospace\" font-size=\"10.00\">AccumulateGrad</text>\n</g>\n<!-- 135905822759216&#45;&gt;135905822759072 -->\n<g id=\"edge112\" class=\"edge\">\n<title>135905822759216&#45;&gt;135905822759072</title>\n<path fill=\"none\" stroke=\"black\" d=\"M444.5,-2811.37C444.5,-2803.25 444.5,-2790.81 444.5,-2780.39\"/>\n<polygon fill=\"black\" stroke=\"black\" points=\"448,-2780.17 444.5,-2770.17 441,-2780.17 448,-2780.17\"/>\n</g>\n<!-- 135905822788496 -->\n<g id=\"node112\" class=\"node\">\n<title>135905822788496</title>\n<polygon fill=\"lightblue\" stroke=\"black\" points=\"498,-2902 313,-2902 313,-2872 498,-2872 498,-2902\"/>\n<text text-anchor=\"middle\" x=\"405.5\" y=\"-2890\" font-family=\"monospace\" font-size=\"10.00\">layer2.0.downsample.0.weight</text>\n<text text-anchor=\"middle\" x=\"405.5\" y=\"-2879\" font-family=\"monospace\" font-size=\"10.00\"> (128, 64, 1, 1)</text>\n</g>\n<!-- 135905822788496&#45;&gt;135905822759216 -->\n<g id=\"edge113\" class=\"edge\">\n<title>135905822788496&#45;&gt;135905822759216</title>\n<path fill=\"none\" stroke=\"black\" d=\"M414.16,-2871.8C419.94,-2862.31 427.58,-2849.76 433.76,-2839.63\"/>\n<polygon fill=\"black\" stroke=\"black\" points=\"436.9,-2841.21 439.11,-2830.84 430.92,-2837.56 436.9,-2841.21\"/>\n</g>\n<!-- 135905822758640 -->\n<g id=\"node113\" class=\"node\">\n<title>135905822758640</title>\n<polygon fill=\"lightgrey\" stroke=\"black\" points=\"191,-2770 90,-2770 90,-2751 191,-2751 191,-2770\"/>\n<text text-anchor=\"middle\" x=\"140.5\" y=\"-2758\" font-family=\"monospace\" font-size=\"10.00\">AccumulateGrad</text>\n</g>\n<!-- 135905822758640&#45;&gt;135905822752880 -->\n<g id=\"edge114\" class=\"edge\">\n<title>135905822758640&#45;&gt;135905822752880</title>\n<path fill=\"none\" stroke=\"black\" d=\"M173.51,-2750.99C213.44,-2740.7 280.74,-2723.36 324.64,-2712.04\"/>\n<polygon fill=\"black\" stroke=\"black\" points=\"325.64,-2715.4 334.45,-2709.52 323.9,-2708.62 325.64,-2715.4\"/>\n</g>\n<!-- 135905822788592 -->\n<g id=\"node114\" class=\"node\">\n<title>135905822788592</title>\n<polygon fill=\"lightblue\" stroke=\"black\" points=\"185,-2836 0,-2836 0,-2806 185,-2806 185,-2836\"/>\n<text text-anchor=\"middle\" x=\"92.5\" y=\"-2824\" font-family=\"monospace\" font-size=\"10.00\">layer2.0.downsample.1.weight</text>\n<text text-anchor=\"middle\" x=\"92.5\" y=\"-2813\" font-family=\"monospace\" font-size=\"10.00\"> (128)</text>\n</g>\n<!-- 135905822788592&#45;&gt;135905822758640 -->\n<g id=\"edge115\" class=\"edge\">\n<title>135905822788592&#45;&gt;135905822758640</title>\n<path fill=\"none\" stroke=\"black\" d=\"M104.12,-2805.84C110.94,-2797.52 119.61,-2786.96 126.77,-2778.23\"/>\n<polygon fill=\"black\" stroke=\"black\" points=\"129.67,-2780.22 133.31,-2770.27 124.26,-2775.78 129.67,-2780.22\"/>\n</g>\n<!-- 135905822758592 -->\n<g id=\"node115\" class=\"node\">\n<title>135905822758592</title>\n<polygon fill=\"lightgrey\" stroke=\"black\" points=\"349,-2770 248,-2770 248,-2751 349,-2751 349,-2770\"/>\n<text text-anchor=\"middle\" x=\"298.5\" y=\"-2758\" font-family=\"monospace\" font-size=\"10.00\">AccumulateGrad</text>\n</g>\n<!-- 135905822758592&#45;&gt;135905822752880 -->\n<g id=\"edge116\" class=\"edge\">\n<title>135905822758592&#45;&gt;135905822752880</title>\n<path fill=\"none\" stroke=\"black\" d=\"M308.68,-2750.87C319.38,-2741.8 336.44,-2727.34 349.43,-2716.32\"/>\n<polygon fill=\"black\" stroke=\"black\" points=\"351.91,-2718.8 357.28,-2709.67 347.39,-2713.46 351.91,-2718.8\"/>\n</g>\n<!-- 135905822788688 -->\n<g id=\"node116\" class=\"node\">\n<title>135905822788688</title>\n<polygon fill=\"lightblue\" stroke=\"black\" points=\"376,-2836 203,-2836 203,-2806 376,-2806 376,-2836\"/>\n<text text-anchor=\"middle\" x=\"289.5\" y=\"-2824\" font-family=\"monospace\" font-size=\"10.00\">layer2.0.downsample.1.bias</text>\n<text text-anchor=\"middle\" x=\"289.5\" y=\"-2813\" font-family=\"monospace\" font-size=\"10.00\"> (128)</text>\n</g>\n<!-- 135905822788688&#45;&gt;135905822758592 -->\n<g id=\"edge117\" class=\"edge\">\n<title>135905822788688&#45;&gt;135905822758592</title>\n<path fill=\"none\" stroke=\"black\" d=\"M291.68,-2805.84C292.87,-2798.13 294.35,-2788.49 295.63,-2780.17\"/>\n<polygon fill=\"black\" stroke=\"black\" points=\"299.09,-2780.68 297.15,-2770.27 292.17,-2779.62 299.09,-2780.68\"/>\n</g>\n<!-- 135905822753024 -->\n<g id=\"node117\" class=\"node\">\n<title>135905822753024</title>\n<polygon fill=\"lightgrey\" stroke=\"black\" points=\"859,-2401.5 758,-2401.5 758,-2382.5 859,-2382.5 859,-2401.5\"/>\n<text text-anchor=\"middle\" x=\"808.5\" y=\"-2389.5\" font-family=\"monospace\" font-size=\"10.00\">AccumulateGrad</text>\n</g>\n<!-- 135905822753024&#45;&gt;135905822753216 -->\n<g id=\"edge118\" class=\"edge\">\n<title>135905822753024&#45;&gt;135905822753216</title>\n<path fill=\"none\" stroke=\"black\" d=\"M808.06,-2382.37C807.64,-2374.25 807,-2361.81 806.47,-2351.39\"/>\n<polygon fill=\"black\" stroke=\"black\" points=\"809.95,-2350.97 805.94,-2341.17 802.96,-2351.33 809.95,-2350.97\"/>\n</g>\n<!-- 135905822790224 -->\n<g id=\"node118\" class=\"node\">\n<title>135905822790224</title>\n<polygon fill=\"lightblue\" stroke=\"black\" points=\"889,-2473 746,-2473 746,-2443 889,-2443 889,-2473\"/>\n<text text-anchor=\"middle\" x=\"817.5\" y=\"-2461\" font-family=\"monospace\" font-size=\"10.00\">layer2.1.conv1.weight</text>\n<text text-anchor=\"middle\" x=\"817.5\" y=\"-2450\" font-family=\"monospace\" font-size=\"10.00\"> (128, 128, 3, 3)</text>\n</g>\n<!-- 135905822790224&#45;&gt;135905822753024 -->\n<g id=\"edge119\" class=\"edge\">\n<title>135905822790224&#45;&gt;135905822753024</title>\n<path fill=\"none\" stroke=\"black\" d=\"M815.5,-2442.8C814.22,-2433.7 812.55,-2421.79 811.16,-2411.9\"/>\n<polygon fill=\"black\" stroke=\"black\" points=\"814.6,-2411.26 809.74,-2401.84 807.67,-2412.23 814.6,-2411.26\"/>\n</g>\n<!-- 135905822753264 -->\n<g id=\"node119\" class=\"node\">\n<title>135905822753264</title>\n<polygon fill=\"lightgrey\" stroke=\"black\" points=\"993,-2341 892,-2341 892,-2322 993,-2322 993,-2341\"/>\n<text text-anchor=\"middle\" x=\"942.5\" y=\"-2329\" font-family=\"monospace\" font-size=\"10.00\">AccumulateGrad</text>\n</g>\n<!-- 135905822753264&#45;&gt;135905822753312 -->\n<g id=\"edge120\" class=\"edge\">\n<title>135905822753264&#45;&gt;135905822753312</title>\n<path fill=\"none\" stroke=\"black\" d=\"M932.02,-2321.87C921.01,-2312.8 903.46,-2298.34 890.09,-2287.32\"/>\n<polygon fill=\"black\" stroke=\"black\" points=\"891.96,-2284.33 882.02,-2280.67 887.51,-2289.73 891.96,-2284.33\"/>\n</g>\n<!-- 135905822790320 -->\n<g id=\"node120\" class=\"node\">\n<title>135905822790320</title>\n<polygon fill=\"lightblue\" stroke=\"black\" points=\"1008,-2407 877,-2407 877,-2377 1008,-2377 1008,-2407\"/>\n<text text-anchor=\"middle\" x=\"942.5\" y=\"-2395\" font-family=\"monospace\" font-size=\"10.00\">layer2.1.bn1.weight</text>\n<text text-anchor=\"middle\" x=\"942.5\" y=\"-2384\" font-family=\"monospace\" font-size=\"10.00\"> (128)</text>\n</g>\n<!-- 135905822790320&#45;&gt;135905822753264 -->\n<g id=\"edge121\" class=\"edge\">\n<title>135905822790320&#45;&gt;135905822753264</title>\n<path fill=\"none\" stroke=\"black\" d=\"M942.5,-2376.84C942.5,-2369.21 942.5,-2359.7 942.5,-2351.45\"/>\n<polygon fill=\"black\" stroke=\"black\" points=\"946,-2351.27 942.5,-2341.27 939,-2351.27 946,-2351.27\"/>\n</g>\n<!-- 135905822753408 -->\n<g id=\"node121\" class=\"node\">\n<title>135905822753408</title>\n<polygon fill=\"lightgrey\" stroke=\"black\" points=\"1124,-2341 1023,-2341 1023,-2322 1124,-2322 1124,-2341\"/>\n<text text-anchor=\"middle\" x=\"1073.5\" y=\"-2329\" font-family=\"monospace\" font-size=\"10.00\">AccumulateGrad</text>\n</g>\n<!-- 135905822753408&#45;&gt;135905822753312 -->\n<g id=\"edge122\" class=\"edge\">\n<title>135905822753408&#45;&gt;135905822753312</title>\n<path fill=\"none\" stroke=\"black\" d=\"M1044.13,-2321.99C1008.9,-2311.79 949.71,-2294.65 910.63,-2283.33\"/>\n<polygon fill=\"black\" stroke=\"black\" points=\"911.49,-2279.94 900.91,-2280.52 909.54,-2286.66 911.49,-2279.94\"/>\n</g>\n<!-- 135905822790416 -->\n<g id=\"node122\" class=\"node\">\n<title>135905822790416</title>\n<polygon fill=\"lightblue\" stroke=\"black\" points=\"1145,-2407 1026,-2407 1026,-2377 1145,-2377 1145,-2407\"/>\n<text text-anchor=\"middle\" x=\"1085.5\" y=\"-2395\" font-family=\"monospace\" font-size=\"10.00\">layer2.1.bn1.bias</text>\n<text text-anchor=\"middle\" x=\"1085.5\" y=\"-2384\" font-family=\"monospace\" font-size=\"10.00\"> (128)</text>\n</g>\n<!-- 135905822790416&#45;&gt;135905822753408 -->\n<g id=\"edge123\" class=\"edge\">\n<title>135905822790416&#45;&gt;135905822753408</title>\n<path fill=\"none\" stroke=\"black\" d=\"M1082.6,-2376.84C1081.01,-2369.13 1079.04,-2359.49 1077.33,-2351.17\"/>\n<polygon fill=\"black\" stroke=\"black\" points=\"1080.74,-2350.36 1075.3,-2341.27 1073.88,-2351.77 1080.74,-2350.36\"/>\n</g>\n<!-- 135905822753504 -->\n<g id=\"node123\" class=\"node\">\n<title>135905822753504</title>\n<polygon fill=\"lightgrey\" stroke=\"black\" points=\"1038,-2214.5 937,-2214.5 937,-2195.5 1038,-2195.5 1038,-2214.5\"/>\n<text text-anchor=\"middle\" x=\"987.5\" y=\"-2202.5\" font-family=\"monospace\" font-size=\"10.00\">AccumulateGrad</text>\n</g>\n<!-- 135905822753504&#45;&gt;135905822753648 -->\n<g id=\"edge124\" class=\"edge\">\n<title>135905822753504&#45;&gt;135905822753648</title>\n<path fill=\"none\" stroke=\"black\" d=\"M987.06,-2195.37C986.64,-2187.25 986,-2174.81 985.47,-2164.39\"/>\n<polygon fill=\"black\" stroke=\"black\" points=\"988.95,-2163.97 984.94,-2154.17 981.96,-2164.33 988.95,-2163.97\"/>\n</g>\n<!-- 135905822790800 -->\n<g id=\"node124\" class=\"node\">\n<title>135905822790800</title>\n<polygon fill=\"lightblue\" stroke=\"black\" points=\"1113,-2286 970,-2286 970,-2256 1113,-2256 1113,-2286\"/>\n<text text-anchor=\"middle\" x=\"1041.5\" y=\"-2274\" font-family=\"monospace\" font-size=\"10.00\">layer2.1.conv2.weight</text>\n<text text-anchor=\"middle\" x=\"1041.5\" y=\"-2263\" font-family=\"monospace\" font-size=\"10.00\"> (128, 128, 3, 3)</text>\n</g>\n<!-- 135905822790800&#45;&gt;135905822753504 -->\n<g id=\"edge125\" class=\"edge\">\n<title>135905822790800&#45;&gt;135905822753504</title>\n<path fill=\"none\" stroke=\"black\" d=\"M1029.52,-2255.8C1021.26,-2246.01 1010.26,-2232.98 1001.59,-2222.7\"/>\n<polygon fill=\"black\" stroke=\"black\" points=\"1004.09,-2220.23 994.96,-2214.84 998.74,-2224.74 1004.09,-2220.23\"/>\n</g>\n<!-- 135905822753696 -->\n<g id=\"node125\" class=\"node\">\n<title>135905822753696</title>\n<polygon fill=\"lightgrey\" stroke=\"black\" points=\"1172,-2154 1071,-2154 1071,-2135 1172,-2135 1172,-2154\"/>\n<text text-anchor=\"middle\" x=\"1121.5\" y=\"-2142\" font-family=\"monospace\" font-size=\"10.00\">AccumulateGrad</text>\n</g>\n<!-- 135905822753696&#45;&gt;135905822753792 -->\n<g id=\"edge126\" class=\"edge\">\n<title>135905822753696&#45;&gt;135905822753792</title>\n<path fill=\"none\" stroke=\"black\" d=\"M1110.41,-2134.98C1100.01,-2127 1084.24,-2114.88 1071.78,-2105.31\"/>\n<polygon fill=\"black\" stroke=\"black\" points=\"1073.85,-2102.49 1063.79,-2099.17 1069.59,-2108.04 1073.85,-2102.49\"/>\n</g>\n<!-- 135905822790896 -->\n<g id=\"node126\" class=\"node\">\n<title>135905822790896</title>\n<polygon fill=\"lightblue\" stroke=\"black\" points=\"1187,-2220 1056,-2220 1056,-2190 1187,-2190 1187,-2220\"/>\n<text text-anchor=\"middle\" x=\"1121.5\" y=\"-2208\" font-family=\"monospace\" font-size=\"10.00\">layer2.1.bn2.weight</text>\n<text text-anchor=\"middle\" x=\"1121.5\" y=\"-2197\" font-family=\"monospace\" font-size=\"10.00\"> (128)</text>\n</g>\n<!-- 135905822790896&#45;&gt;135905822753696 -->\n<g id=\"edge127\" class=\"edge\">\n<title>135905822790896&#45;&gt;135905822753696</title>\n<path fill=\"none\" stroke=\"black\" d=\"M1121.5,-2189.84C1121.5,-2182.21 1121.5,-2172.7 1121.5,-2164.45\"/>\n<polygon fill=\"black\" stroke=\"black\" points=\"1125,-2164.27 1121.5,-2154.27 1118,-2164.27 1125,-2164.27\"/>\n</g>\n<!-- 135905822753744 -->\n<g id=\"node127\" class=\"node\">\n<title>135905822753744</title>\n<polygon fill=\"lightgrey\" stroke=\"black\" points=\"1303,-2154 1202,-2154 1202,-2135 1303,-2135 1303,-2154\"/>\n<text text-anchor=\"middle\" x=\"1252.5\" y=\"-2142\" font-family=\"monospace\" font-size=\"10.00\">AccumulateGrad</text>\n</g>\n<!-- 135905822753744&#45;&gt;135905822753792 -->\n<g id=\"edge128\" class=\"edge\">\n<title>135905822753744&#45;&gt;135905822753792</title>\n<path fill=\"none\" stroke=\"black\" d=\"M1220.37,-2134.98C1186.35,-2125.97 1132.5,-2111.7 1095,-2101.76\"/>\n<polygon fill=\"black\" stroke=\"black\" points=\"1095.45,-2098.26 1084.89,-2099.08 1093.66,-2105.03 1095.45,-2098.26\"/>\n</g>\n<!-- 135905822790992 -->\n<g id=\"node128\" class=\"node\">\n<title>135905822790992</title>\n<polygon fill=\"lightblue\" stroke=\"black\" points=\"1324,-2220 1205,-2220 1205,-2190 1324,-2190 1324,-2220\"/>\n<text text-anchor=\"middle\" x=\"1264.5\" y=\"-2208\" font-family=\"monospace\" font-size=\"10.00\">layer2.1.bn2.bias</text>\n<text text-anchor=\"middle\" x=\"1264.5\" y=\"-2197\" font-family=\"monospace\" font-size=\"10.00\"> (128)</text>\n</g>\n<!-- 135905822790992&#45;&gt;135905822753744 -->\n<g id=\"edge129\" class=\"edge\">\n<title>135905822790992&#45;&gt;135905822753744</title>\n<path fill=\"none\" stroke=\"black\" d=\"M1261.6,-2189.84C1260.01,-2182.13 1258.04,-2172.49 1256.33,-2164.17\"/>\n<polygon fill=\"black\" stroke=\"black\" points=\"1259.74,-2163.36 1254.3,-2154.27 1252.88,-2164.77 1259.74,-2163.36\"/>\n</g>\n<!-- 135905822754080 -->\n<g id=\"node129\" class=\"node\">\n<title>135905822754080</title>\n<polygon fill=\"lightgrey\" stroke=\"black\" points=\"1043,-1972.5 942,-1972.5 942,-1953.5 1043,-1953.5 1043,-1972.5\"/>\n<text text-anchor=\"middle\" x=\"992.5\" y=\"-1960.5\" font-family=\"monospace\" font-size=\"10.00\">AccumulateGrad</text>\n</g>\n<!-- 135905822754080&#45;&gt;135905822754224 -->\n<g id=\"edge131\" class=\"edge\">\n<title>135905822754080&#45;&gt;135905822754224</title>\n<path fill=\"none\" stroke=\"black\" d=\"M992.06,-1953.37C991.64,-1945.25 991,-1932.81 990.47,-1922.39\"/>\n<polygon fill=\"black\" stroke=\"black\" points=\"993.95,-1921.97 989.94,-1912.17 986.96,-1922.33 993.95,-1921.97\"/>\n</g>\n<!-- 135905822791952 -->\n<g id=\"node130\" class=\"node\">\n<title>135905822791952</title>\n<polygon fill=\"lightblue\" stroke=\"black\" points=\"1082,-2044 939,-2044 939,-2014 1082,-2014 1082,-2044\"/>\n<text text-anchor=\"middle\" x=\"1010.5\" y=\"-2032\" font-family=\"monospace\" font-size=\"10.00\">layer3.0.conv1.weight</text>\n<text text-anchor=\"middle\" x=\"1010.5\" y=\"-2021\" font-family=\"monospace\" font-size=\"10.00\"> (256, 128, 3, 3)</text>\n</g>\n<!-- 135905822791952&#45;&gt;135905822754080 -->\n<g id=\"edge132\" class=\"edge\">\n<title>135905822791952&#45;&gt;135905822754080</title>\n<path fill=\"none\" stroke=\"black\" d=\"M1006.51,-2013.8C1003.92,-2004.6 1000.52,-1992.53 997.73,-1982.58\"/>\n<polygon fill=\"black\" stroke=\"black\" points=\"1001.06,-1981.52 994.99,-1972.84 994.33,-1983.42 1001.06,-1981.52\"/>\n</g>\n<!-- 135905822754272 -->\n<g id=\"node131\" class=\"node\">\n<title>135905822754272</title>\n<polygon fill=\"lightgrey\" stroke=\"black\" points=\"1177,-1912 1076,-1912 1076,-1893 1177,-1893 1177,-1912\"/>\n<text text-anchor=\"middle\" x=\"1126.5\" y=\"-1900\" font-family=\"monospace\" font-size=\"10.00\">AccumulateGrad</text>\n</g>\n<!-- 135905822754272&#45;&gt;135905822754320 -->\n<g id=\"edge133\" class=\"edge\">\n<title>135905822754272&#45;&gt;135905822754320</title>\n<path fill=\"none\" stroke=\"black\" d=\"M1116.32,-1892.87C1105.62,-1883.8 1088.56,-1869.34 1075.57,-1858.32\"/>\n<polygon fill=\"black\" stroke=\"black\" points=\"1077.61,-1855.46 1067.72,-1851.67 1073.09,-1860.8 1077.61,-1855.46\"/>\n</g>\n<!-- 135905822792048 -->\n<g id=\"node132\" class=\"node\">\n<title>135905822792048</title>\n<polygon fill=\"lightblue\" stroke=\"black\" points=\"1192,-1978 1061,-1978 1061,-1948 1192,-1948 1192,-1978\"/>\n<text text-anchor=\"middle\" x=\"1126.5\" y=\"-1966\" font-family=\"monospace\" font-size=\"10.00\">layer3.0.bn1.weight</text>\n<text text-anchor=\"middle\" x=\"1126.5\" y=\"-1955\" font-family=\"monospace\" font-size=\"10.00\"> (256)</text>\n</g>\n<!-- 135905822792048&#45;&gt;135905822754272 -->\n<g id=\"edge134\" class=\"edge\">\n<title>135905822792048&#45;&gt;135905822754272</title>\n<path fill=\"none\" stroke=\"black\" d=\"M1126.5,-1947.84C1126.5,-1940.21 1126.5,-1930.7 1126.5,-1922.45\"/>\n<polygon fill=\"black\" stroke=\"black\" points=\"1130,-1922.27 1126.5,-1912.27 1123,-1922.27 1130,-1922.27\"/>\n</g>\n<!-- 135905822754416 -->\n<g id=\"node133\" class=\"node\">\n<title>135905822754416</title>\n<polygon fill=\"lightgrey\" stroke=\"black\" points=\"1308,-1912 1207,-1912 1207,-1893 1308,-1893 1308,-1912\"/>\n<text text-anchor=\"middle\" x=\"1257.5\" y=\"-1900\" font-family=\"monospace\" font-size=\"10.00\">AccumulateGrad</text>\n</g>\n<!-- 135905822754416&#45;&gt;135905822754320 -->\n<g id=\"edge135\" class=\"edge\">\n<title>135905822754416&#45;&gt;135905822754320</title>\n<path fill=\"none\" stroke=\"black\" d=\"M1228.42,-1892.99C1193.61,-1882.81 1135.18,-1865.72 1096.49,-1854.4\"/>\n<polygon fill=\"black\" stroke=\"black\" points=\"1097.2,-1850.96 1086.62,-1851.52 1095.23,-1857.68 1097.2,-1850.96\"/>\n</g>\n<!-- 135905822792144 -->\n<g id=\"node134\" class=\"node\">\n<title>135905822792144</title>\n<polygon fill=\"lightblue\" stroke=\"black\" points=\"1329,-1978 1210,-1978 1210,-1948 1329,-1948 1329,-1978\"/>\n<text text-anchor=\"middle\" x=\"1269.5\" y=\"-1966\" font-family=\"monospace\" font-size=\"10.00\">layer3.0.bn1.bias</text>\n<text text-anchor=\"middle\" x=\"1269.5\" y=\"-1955\" font-family=\"monospace\" font-size=\"10.00\"> (256)</text>\n</g>\n<!-- 135905822792144&#45;&gt;135905822754416 -->\n<g id=\"edge136\" class=\"edge\">\n<title>135905822792144&#45;&gt;135905822754416</title>\n<path fill=\"none\" stroke=\"black\" d=\"M1266.6,-1947.84C1265.01,-1940.13 1263.04,-1930.49 1261.33,-1922.17\"/>\n<polygon fill=\"black\" stroke=\"black\" points=\"1264.74,-1921.36 1259.3,-1912.27 1257.88,-1922.77 1264.74,-1921.36\"/>\n</g>\n<!-- 135905822754512 -->\n<g id=\"node135\" class=\"node\">\n<title>135905822754512</title>\n<polygon fill=\"lightgrey\" stroke=\"black\" points=\"1224,-1785.5 1123,-1785.5 1123,-1766.5 1224,-1766.5 1224,-1785.5\"/>\n<text text-anchor=\"middle\" x=\"1173.5\" y=\"-1773.5\" font-family=\"monospace\" font-size=\"10.00\">AccumulateGrad</text>\n</g>\n<!-- 135905822754512&#45;&gt;135905822754656 -->\n<g id=\"edge137\" class=\"edge\">\n<title>135905822754512&#45;&gt;135905822754656</title>\n<path fill=\"none\" stroke=\"black\" d=\"M1173.06,-1766.37C1172.64,-1758.25 1172,-1745.81 1171.47,-1735.39\"/>\n<polygon fill=\"black\" stroke=\"black\" points=\"1174.95,-1734.97 1170.94,-1725.17 1167.96,-1735.33 1174.95,-1734.97\"/>\n</g>\n<!-- 135905822792528 -->\n<g id=\"node136\" class=\"node\">\n<title>135905822792528</title>\n<polygon fill=\"lightblue\" stroke=\"black\" points=\"1299,-1857 1156,-1857 1156,-1827 1299,-1827 1299,-1857\"/>\n<text text-anchor=\"middle\" x=\"1227.5\" y=\"-1845\" font-family=\"monospace\" font-size=\"10.00\">layer3.0.conv2.weight</text>\n<text text-anchor=\"middle\" x=\"1227.5\" y=\"-1834\" font-family=\"monospace\" font-size=\"10.00\"> (256, 256, 3, 3)</text>\n</g>\n<!-- 135905822792528&#45;&gt;135905822754512 -->\n<g id=\"edge138\" class=\"edge\">\n<title>135905822792528&#45;&gt;135905822754512</title>\n<path fill=\"none\" stroke=\"black\" d=\"M1215.52,-1826.8C1207.26,-1817.01 1196.26,-1803.98 1187.59,-1793.7\"/>\n<polygon fill=\"black\" stroke=\"black\" points=\"1190.09,-1791.23 1180.96,-1785.84 1184.74,-1795.74 1190.09,-1791.23\"/>\n</g>\n<!-- 135905822754704 -->\n<g id=\"node137\" class=\"node\">\n<title>135905822754704</title>\n<polygon fill=\"lightgrey\" stroke=\"black\" points=\"1358,-1725 1257,-1725 1257,-1706 1358,-1706 1358,-1725\"/>\n<text text-anchor=\"middle\" x=\"1307.5\" y=\"-1713\" font-family=\"monospace\" font-size=\"10.00\">AccumulateGrad</text>\n</g>\n<!-- 135905822754704&#45;&gt;135905822756144 -->\n<g id=\"edge139\" class=\"edge\">\n<title>135905822754704&#45;&gt;135905822756144</title>\n<path fill=\"none\" stroke=\"black\" d=\"M1296.41,-1705.98C1286.01,-1698 1270.24,-1685.88 1257.78,-1676.31\"/>\n<polygon fill=\"black\" stroke=\"black\" points=\"1259.85,-1673.49 1249.79,-1670.17 1255.59,-1679.04 1259.85,-1673.49\"/>\n</g>\n<!-- 135905822792624 -->\n<g id=\"node138\" class=\"node\">\n<title>135905822792624</title>\n<polygon fill=\"lightblue\" stroke=\"black\" points=\"1373,-1791 1242,-1791 1242,-1761 1373,-1761 1373,-1791\"/>\n<text text-anchor=\"middle\" x=\"1307.5\" y=\"-1779\" font-family=\"monospace\" font-size=\"10.00\">layer3.0.bn2.weight</text>\n<text text-anchor=\"middle\" x=\"1307.5\" y=\"-1768\" font-family=\"monospace\" font-size=\"10.00\"> (256)</text>\n</g>\n<!-- 135905822792624&#45;&gt;135905822754704 -->\n<g id=\"edge140\" class=\"edge\">\n<title>135905822792624&#45;&gt;135905822754704</title>\n<path fill=\"none\" stroke=\"black\" d=\"M1307.5,-1760.84C1307.5,-1753.21 1307.5,-1743.7 1307.5,-1735.45\"/>\n<polygon fill=\"black\" stroke=\"black\" points=\"1311,-1735.27 1307.5,-1725.27 1304,-1735.27 1311,-1735.27\"/>\n</g>\n<!-- 135905822756096 -->\n<g id=\"node139\" class=\"node\">\n<title>135905822756096</title>\n<polygon fill=\"lightgrey\" stroke=\"black\" points=\"1489,-1725 1388,-1725 1388,-1706 1489,-1706 1489,-1725\"/>\n<text text-anchor=\"middle\" x=\"1438.5\" y=\"-1713\" font-family=\"monospace\" font-size=\"10.00\">AccumulateGrad</text>\n</g>\n<!-- 135905822756096&#45;&gt;135905822756144 -->\n<g id=\"edge141\" class=\"edge\">\n<title>135905822756096&#45;&gt;135905822756144</title>\n<path fill=\"none\" stroke=\"black\" d=\"M1406.37,-1705.98C1372.35,-1696.97 1318.5,-1682.7 1281,-1672.76\"/>\n<polygon fill=\"black\" stroke=\"black\" points=\"1281.45,-1669.26 1270.89,-1670.08 1279.66,-1676.03 1281.45,-1669.26\"/>\n</g>\n<!-- 135905822792720 -->\n<g id=\"node140\" class=\"node\">\n<title>135905822792720</title>\n<polygon fill=\"lightblue\" stroke=\"black\" points=\"1510,-1791 1391,-1791 1391,-1761 1510,-1761 1510,-1791\"/>\n<text text-anchor=\"middle\" x=\"1450.5\" y=\"-1779\" font-family=\"monospace\" font-size=\"10.00\">layer3.0.bn2.bias</text>\n<text text-anchor=\"middle\" x=\"1450.5\" y=\"-1768\" font-family=\"monospace\" font-size=\"10.00\"> (256)</text>\n</g>\n<!-- 135905822792720&#45;&gt;135905822756096 -->\n<g id=\"edge142\" class=\"edge\">\n<title>135905822792720&#45;&gt;135905822756096</title>\n<path fill=\"none\" stroke=\"black\" d=\"M1447.6,-1760.84C1446.01,-1753.13 1444.04,-1743.49 1442.33,-1735.17\"/>\n<polygon fill=\"black\" stroke=\"black\" points=\"1445.74,-1734.36 1440.3,-1725.27 1438.88,-1735.77 1445.74,-1734.36\"/>\n</g>\n<!-- 135905822756192 -->\n<g id=\"node141\" class=\"node\">\n<title>135905822756192</title>\n<polygon fill=\"lightgrey\" stroke=\"black\" points=\"764,-1851.5 603,-1851.5 603,-1832.5 764,-1832.5 764,-1851.5\"/>\n<text text-anchor=\"middle\" x=\"683.5\" y=\"-1839.5\" font-family=\"monospace\" font-size=\"10.00\">NativeBatchNormBackward0</text>\n</g>\n<!-- 135905822756192&#45;&gt;135905822756240 -->\n<g id=\"edge143\" class=\"edge\">\n<title>135905822756192&#45;&gt;135905822756240</title>\n<path fill=\"none\" stroke=\"black\" d=\"M694.75,-1832.46C741.39,-1797.03 919.96,-1661.41 979.81,-1615.95\"/>\n<polygon fill=\"black\" stroke=\"black\" points=\"982.21,-1618.53 988.06,-1609.69 977.98,-1612.95 982.21,-1618.53\"/>\n</g>\n<!-- 135905822754128&#45;&gt;135905822756192 -->\n<g id=\"edge144\" class=\"edge\">\n<title>135905822754128&#45;&gt;135905822756192</title>\n<path fill=\"none\" stroke=\"black\" d=\"M749.14,-1892.87C737.08,-1883.71 717.8,-1869.06 703.25,-1858.01\"/>\n<polygon fill=\"black\" stroke=\"black\" points=\"704.99,-1854.93 694.91,-1851.67 700.75,-1860.5 704.99,-1854.93\"/>\n</g>\n<!-- 135905822753984 -->\n<g id=\"node143\" class=\"node\">\n<title>135905822753984</title>\n<polygon fill=\"lightgrey\" stroke=\"black\" points=\"811,-1972.5 710,-1972.5 710,-1953.5 811,-1953.5 811,-1972.5\"/>\n<text text-anchor=\"middle\" x=\"760.5\" y=\"-1960.5\" font-family=\"monospace\" font-size=\"10.00\">AccumulateGrad</text>\n</g>\n<!-- 135905822753984&#45;&gt;135905822754128 -->\n<g id=\"edge146\" class=\"edge\">\n<title>135905822753984&#45;&gt;135905822754128</title>\n<path fill=\"none\" stroke=\"black\" d=\"M760.5,-1953.37C760.5,-1945.25 760.5,-1932.81 760.5,-1922.39\"/>\n<polygon fill=\"black\" stroke=\"black\" points=\"764,-1922.17 760.5,-1912.17 757,-1922.17 764,-1922.17\"/>\n</g>\n<!-- 135905822791376 -->\n<g id=\"node144\" class=\"node\">\n<title>135905822791376</title>\n<polygon fill=\"lightblue\" stroke=\"black\" points=\"814,-2044 629,-2044 629,-2014 814,-2014 814,-2044\"/>\n<text text-anchor=\"middle\" x=\"721.5\" y=\"-2032\" font-family=\"monospace\" font-size=\"10.00\">layer3.0.downsample.0.weight</text>\n<text text-anchor=\"middle\" x=\"721.5\" y=\"-2021\" font-family=\"monospace\" font-size=\"10.00\"> (256, 128, 1, 1)</text>\n</g>\n<!-- 135905822791376&#45;&gt;135905822753984 -->\n<g id=\"edge147\" class=\"edge\">\n<title>135905822791376&#45;&gt;135905822753984</title>\n<path fill=\"none\" stroke=\"black\" d=\"M730.16,-2013.8C735.94,-2004.31 743.58,-1991.76 749.76,-1981.63\"/>\n<polygon fill=\"black\" stroke=\"black\" points=\"752.9,-1983.21 755.11,-1972.84 746.92,-1979.56 752.9,-1983.21\"/>\n</g>\n<!-- 135905822754560 -->\n<g id=\"node145\" class=\"node\">\n<title>135905822754560</title>\n<polygon fill=\"lightgrey\" stroke=\"black\" points=\"507,-1912 406,-1912 406,-1893 507,-1893 507,-1912\"/>\n<text text-anchor=\"middle\" x=\"456.5\" y=\"-1900\" font-family=\"monospace\" font-size=\"10.00\">AccumulateGrad</text>\n</g>\n<!-- 135905822754560&#45;&gt;135905822756192 -->\n<g id=\"edge148\" class=\"edge\">\n<title>135905822754560&#45;&gt;135905822756192</title>\n<path fill=\"none\" stroke=\"black\" d=\"M489.51,-1892.99C529.44,-1882.7 596.74,-1865.36 640.64,-1854.04\"/>\n<polygon fill=\"black\" stroke=\"black\" points=\"641.64,-1857.4 650.45,-1851.52 639.9,-1850.62 641.64,-1857.4\"/>\n</g>\n<!-- 135905822791472 -->\n<g id=\"node146\" class=\"node\">\n<title>135905822791472</title>\n<polygon fill=\"lightblue\" stroke=\"black\" points=\"501,-1978 316,-1978 316,-1948 501,-1948 501,-1978\"/>\n<text text-anchor=\"middle\" x=\"408.5\" y=\"-1966\" font-family=\"monospace\" font-size=\"10.00\">layer3.0.downsample.1.weight</text>\n<text text-anchor=\"middle\" x=\"408.5\" y=\"-1955\" font-family=\"monospace\" font-size=\"10.00\"> (256)</text>\n</g>\n<!-- 135905822791472&#45;&gt;135905822754560 -->\n<g id=\"edge149\" class=\"edge\">\n<title>135905822791472&#45;&gt;135905822754560</title>\n<path fill=\"none\" stroke=\"black\" d=\"M420.12,-1947.84C426.94,-1939.52 435.61,-1928.96 442.77,-1920.23\"/>\n<polygon fill=\"black\" stroke=\"black\" points=\"445.67,-1922.22 449.31,-1912.27 440.26,-1917.78 445.67,-1922.22\"/>\n</g>\n<!-- 135905822754608 -->\n<g id=\"node147\" class=\"node\">\n<title>135905822754608</title>\n<polygon fill=\"lightgrey\" stroke=\"black\" points=\"665,-1912 564,-1912 564,-1893 665,-1893 665,-1912\"/>\n<text text-anchor=\"middle\" x=\"614.5\" y=\"-1900\" font-family=\"monospace\" font-size=\"10.00\">AccumulateGrad</text>\n</g>\n<!-- 135905822754608&#45;&gt;135905822756192 -->\n<g id=\"edge150\" class=\"edge\">\n<title>135905822754608&#45;&gt;135905822756192</title>\n<path fill=\"none\" stroke=\"black\" d=\"M624.68,-1892.87C635.38,-1883.8 652.44,-1869.34 665.43,-1858.32\"/>\n<polygon fill=\"black\" stroke=\"black\" points=\"667.91,-1860.8 673.28,-1851.67 663.39,-1855.46 667.91,-1860.8\"/>\n</g>\n<!-- 135905822791568 -->\n<g id=\"node148\" class=\"node\">\n<title>135905822791568</title>\n<polygon fill=\"lightblue\" stroke=\"black\" points=\"692,-1978 519,-1978 519,-1948 692,-1948 692,-1978\"/>\n<text text-anchor=\"middle\" x=\"605.5\" y=\"-1966\" font-family=\"monospace\" font-size=\"10.00\">layer3.0.downsample.1.bias</text>\n<text text-anchor=\"middle\" x=\"605.5\" y=\"-1955\" font-family=\"monospace\" font-size=\"10.00\"> (256)</text>\n</g>\n<!-- 135905822791568&#45;&gt;135905822754608 -->\n<g id=\"edge151\" class=\"edge\">\n<title>135905822791568&#45;&gt;135905822754608</title>\n<path fill=\"none\" stroke=\"black\" d=\"M607.68,-1947.84C608.87,-1940.13 610.35,-1930.49 611.63,-1922.17\"/>\n<polygon fill=\"black\" stroke=\"black\" points=\"615.09,-1922.68 613.15,-1912.27 608.17,-1921.62 615.09,-1922.68\"/>\n</g>\n<!-- 135905822756336 -->\n<g id=\"node149\" class=\"node\">\n<title>135905822756336</title>\n<polygon fill=\"lightgrey\" stroke=\"black\" points=\"1175,-1543.5 1074,-1543.5 1074,-1524.5 1175,-1524.5 1175,-1543.5\"/>\n<text text-anchor=\"middle\" x=\"1124.5\" y=\"-1531.5\" font-family=\"monospace\" font-size=\"10.00\">AccumulateGrad</text>\n</g>\n<!-- 135905822756336&#45;&gt;135905822756528 -->\n<g id=\"edge152\" class=\"edge\">\n<title>135905822756336&#45;&gt;135905822756528</title>\n<path fill=\"none\" stroke=\"black\" d=\"M1124.06,-1524.37C1123.64,-1516.25 1123,-1503.81 1122.47,-1493.39\"/>\n<polygon fill=\"black\" stroke=\"black\" points=\"1125.95,-1492.97 1121.94,-1483.17 1118.96,-1493.33 1125.95,-1492.97\"/>\n</g>\n<!-- 135905822793104 -->\n<g id=\"node150\" class=\"node\">\n<title>135905822793104</title>\n<polygon fill=\"lightblue\" stroke=\"black\" points=\"1205,-1615 1062,-1615 1062,-1585 1205,-1585 1205,-1615\"/>\n<text text-anchor=\"middle\" x=\"1133.5\" y=\"-1603\" font-family=\"monospace\" font-size=\"10.00\">layer3.1.conv1.weight</text>\n<text text-anchor=\"middle\" x=\"1133.5\" y=\"-1592\" font-family=\"monospace\" font-size=\"10.00\"> (256, 256, 3, 3)</text>\n</g>\n<!-- 135905822793104&#45;&gt;135905822756336 -->\n<g id=\"edge153\" class=\"edge\">\n<title>135905822793104&#45;&gt;135905822756336</title>\n<path fill=\"none\" stroke=\"black\" d=\"M1131.5,-1584.8C1130.22,-1575.7 1128.55,-1563.79 1127.16,-1553.9\"/>\n<polygon fill=\"black\" stroke=\"black\" points=\"1130.6,-1553.26 1125.74,-1543.84 1123.67,-1554.23 1130.6,-1553.26\"/>\n</g>\n<!-- 135905822756576 -->\n<g id=\"node151\" class=\"node\">\n<title>135905822756576</title>\n<polygon fill=\"lightgrey\" stroke=\"black\" points=\"1309,-1483 1208,-1483 1208,-1464 1309,-1464 1309,-1483\"/>\n<text text-anchor=\"middle\" x=\"1258.5\" y=\"-1471\" font-family=\"monospace\" font-size=\"10.00\">AccumulateGrad</text>\n</g>\n<!-- 135905822756576&#45;&gt;135905822756624 -->\n<g id=\"edge154\" class=\"edge\">\n<title>135905822756576&#45;&gt;135905822756624</title>\n<path fill=\"none\" stroke=\"black\" d=\"M1248.02,-1463.87C1237.01,-1454.8 1219.46,-1440.34 1206.09,-1429.32\"/>\n<polygon fill=\"black\" stroke=\"black\" points=\"1207.96,-1426.33 1198.02,-1422.67 1203.51,-1431.73 1207.96,-1426.33\"/>\n</g>\n<!-- 135905822793200 -->\n<g id=\"node152\" class=\"node\">\n<title>135905822793200</title>\n<polygon fill=\"lightblue\" stroke=\"black\" points=\"1324,-1549 1193,-1549 1193,-1519 1324,-1519 1324,-1549\"/>\n<text text-anchor=\"middle\" x=\"1258.5\" y=\"-1537\" font-family=\"monospace\" font-size=\"10.00\">layer3.1.bn1.weight</text>\n<text text-anchor=\"middle\" x=\"1258.5\" y=\"-1526\" font-family=\"monospace\" font-size=\"10.00\"> (256)</text>\n</g>\n<!-- 135905822793200&#45;&gt;135905822756576 -->\n<g id=\"edge155\" class=\"edge\">\n<title>135905822793200&#45;&gt;135905822756576</title>\n<path fill=\"none\" stroke=\"black\" d=\"M1258.5,-1518.84C1258.5,-1511.21 1258.5,-1501.7 1258.5,-1493.45\"/>\n<polygon fill=\"black\" stroke=\"black\" points=\"1262,-1493.27 1258.5,-1483.27 1255,-1493.27 1262,-1493.27\"/>\n</g>\n<!-- 135905822756720 -->\n<g id=\"node153\" class=\"node\">\n<title>135905822756720</title>\n<polygon fill=\"lightgrey\" stroke=\"black\" points=\"1440,-1483 1339,-1483 1339,-1464 1440,-1464 1440,-1483\"/>\n<text text-anchor=\"middle\" x=\"1389.5\" y=\"-1471\" font-family=\"monospace\" font-size=\"10.00\">AccumulateGrad</text>\n</g>\n<!-- 135905822756720&#45;&gt;135905822756624 -->\n<g id=\"edge156\" class=\"edge\">\n<title>135905822756720&#45;&gt;135905822756624</title>\n<path fill=\"none\" stroke=\"black\" d=\"M1360.13,-1463.99C1324.9,-1453.79 1265.71,-1436.65 1226.63,-1425.33\"/>\n<polygon fill=\"black\" stroke=\"black\" points=\"1227.49,-1421.94 1216.91,-1422.52 1225.54,-1428.66 1227.49,-1421.94\"/>\n</g>\n<!-- 135905822793296 -->\n<g id=\"node154\" class=\"node\">\n<title>135905822793296</title>\n<polygon fill=\"lightblue\" stroke=\"black\" points=\"1461,-1549 1342,-1549 1342,-1519 1461,-1519 1461,-1549\"/>\n<text text-anchor=\"middle\" x=\"1401.5\" y=\"-1537\" font-family=\"monospace\" font-size=\"10.00\">layer3.1.bn1.bias</text>\n<text text-anchor=\"middle\" x=\"1401.5\" y=\"-1526\" font-family=\"monospace\" font-size=\"10.00\"> (256)</text>\n</g>\n<!-- 135905822793296&#45;&gt;135905822756720 -->\n<g id=\"edge157\" class=\"edge\">\n<title>135905822793296&#45;&gt;135905822756720</title>\n<path fill=\"none\" stroke=\"black\" d=\"M1398.6,-1518.84C1397.01,-1511.13 1395.04,-1501.49 1393.33,-1493.17\"/>\n<polygon fill=\"black\" stroke=\"black\" points=\"1396.74,-1492.36 1391.3,-1483.27 1389.88,-1493.77 1396.74,-1492.36\"/>\n</g>\n<!-- 135905822756816 -->\n<g id=\"node155\" class=\"node\">\n<title>135905822756816</title>\n<polygon fill=\"lightgrey\" stroke=\"black\" points=\"1354,-1356.5 1253,-1356.5 1253,-1337.5 1354,-1337.5 1354,-1356.5\"/>\n<text text-anchor=\"middle\" x=\"1303.5\" y=\"-1344.5\" font-family=\"monospace\" font-size=\"10.00\">AccumulateGrad</text>\n</g>\n<!-- 135905822756816&#45;&gt;135905822756960 -->\n<g id=\"edge158\" class=\"edge\">\n<title>135905822756816&#45;&gt;135905822756960</title>\n<path fill=\"none\" stroke=\"black\" d=\"M1303.06,-1337.37C1302.64,-1329.25 1302,-1316.81 1301.47,-1306.39\"/>\n<polygon fill=\"black\" stroke=\"black\" points=\"1304.95,-1305.97 1300.94,-1296.17 1297.96,-1306.33 1304.95,-1305.97\"/>\n</g>\n<!-- 135905822793680 -->\n<g id=\"node156\" class=\"node\">\n<title>135905822793680</title>\n<polygon fill=\"lightblue\" stroke=\"black\" points=\"1429,-1428 1286,-1428 1286,-1398 1429,-1398 1429,-1428\"/>\n<text text-anchor=\"middle\" x=\"1357.5\" y=\"-1416\" font-family=\"monospace\" font-size=\"10.00\">layer3.1.conv2.weight</text>\n<text text-anchor=\"middle\" x=\"1357.5\" y=\"-1405\" font-family=\"monospace\" font-size=\"10.00\"> (256, 256, 3, 3)</text>\n</g>\n<!-- 135905822793680&#45;&gt;135905822756816 -->\n<g id=\"edge159\" class=\"edge\">\n<title>135905822793680&#45;&gt;135905822756816</title>\n<path fill=\"none\" stroke=\"black\" d=\"M1345.52,-1397.8C1337.26,-1388.01 1326.26,-1374.98 1317.59,-1364.7\"/>\n<polygon fill=\"black\" stroke=\"black\" points=\"1320.09,-1362.23 1310.96,-1356.84 1314.74,-1366.74 1320.09,-1362.23\"/>\n</g>\n<!-- 135905822757008 -->\n<g id=\"node157\" class=\"node\">\n<title>135905822757008</title>\n<polygon fill=\"lightgrey\" stroke=\"black\" points=\"1488,-1296 1387,-1296 1387,-1277 1488,-1277 1488,-1296\"/>\n<text text-anchor=\"middle\" x=\"1437.5\" y=\"-1284\" font-family=\"monospace\" font-size=\"10.00\">AccumulateGrad</text>\n</g>\n<!-- 135905822757008&#45;&gt;135905822757104 -->\n<g id=\"edge160\" class=\"edge\">\n<title>135905822757008&#45;&gt;135905822757104</title>\n<path fill=\"none\" stroke=\"black\" d=\"M1426.41,-1276.98C1416.01,-1269 1400.24,-1256.88 1387.78,-1247.31\"/>\n<polygon fill=\"black\" stroke=\"black\" points=\"1389.85,-1244.49 1379.79,-1241.17 1385.59,-1250.04 1389.85,-1244.49\"/>\n</g>\n<!-- 135905822793776 -->\n<g id=\"node158\" class=\"node\">\n<title>135905822793776</title>\n<polygon fill=\"lightblue\" stroke=\"black\" points=\"1503,-1362 1372,-1362 1372,-1332 1503,-1332 1503,-1362\"/>\n<text text-anchor=\"middle\" x=\"1437.5\" y=\"-1350\" font-family=\"monospace\" font-size=\"10.00\">layer3.1.bn2.weight</text>\n<text text-anchor=\"middle\" x=\"1437.5\" y=\"-1339\" font-family=\"monospace\" font-size=\"10.00\"> (256)</text>\n</g>\n<!-- 135905822793776&#45;&gt;135905822757008 -->\n<g id=\"edge161\" class=\"edge\">\n<title>135905822793776&#45;&gt;135905822757008</title>\n<path fill=\"none\" stroke=\"black\" d=\"M1437.5,-1331.84C1437.5,-1324.21 1437.5,-1314.7 1437.5,-1306.45\"/>\n<polygon fill=\"black\" stroke=\"black\" points=\"1441,-1306.27 1437.5,-1296.27 1434,-1306.27 1441,-1306.27\"/>\n</g>\n<!-- 135905822757056 -->\n<g id=\"node159\" class=\"node\">\n<title>135905822757056</title>\n<polygon fill=\"lightgrey\" stroke=\"black\" points=\"1619,-1296 1518,-1296 1518,-1277 1619,-1277 1619,-1296\"/>\n<text text-anchor=\"middle\" x=\"1568.5\" y=\"-1284\" font-family=\"monospace\" font-size=\"10.00\">AccumulateGrad</text>\n</g>\n<!-- 135905822757056&#45;&gt;135905822757104 -->\n<g id=\"edge162\" class=\"edge\">\n<title>135905822757056&#45;&gt;135905822757104</title>\n<path fill=\"none\" stroke=\"black\" d=\"M1536.37,-1276.98C1502.35,-1267.97 1448.5,-1253.7 1411,-1243.76\"/>\n<polygon fill=\"black\" stroke=\"black\" points=\"1411.45,-1240.26 1400.89,-1241.08 1409.66,-1247.03 1411.45,-1240.26\"/>\n</g>\n<!-- 135905822793872 -->\n<g id=\"node160\" class=\"node\">\n<title>135905822793872</title>\n<polygon fill=\"lightblue\" stroke=\"black\" points=\"1640,-1362 1521,-1362 1521,-1332 1640,-1332 1640,-1362\"/>\n<text text-anchor=\"middle\" x=\"1580.5\" y=\"-1350\" font-family=\"monospace\" font-size=\"10.00\">layer3.1.bn2.bias</text>\n<text text-anchor=\"middle\" x=\"1580.5\" y=\"-1339\" font-family=\"monospace\" font-size=\"10.00\"> (256)</text>\n</g>\n<!-- 135905822793872&#45;&gt;135905822757056 -->\n<g id=\"edge163\" class=\"edge\">\n<title>135905822793872&#45;&gt;135905822757056</title>\n<path fill=\"none\" stroke=\"black\" d=\"M1577.6,-1331.84C1576.01,-1324.13 1574.04,-1314.49 1572.33,-1306.17\"/>\n<polygon fill=\"black\" stroke=\"black\" points=\"1575.74,-1305.36 1570.3,-1296.27 1568.88,-1306.77 1575.74,-1305.36\"/>\n</g>\n<!-- 135905822757392 -->\n<g id=\"node161\" class=\"node\">\n<title>135905822757392</title>\n<polygon fill=\"lightgrey\" stroke=\"black\" points=\"1359,-1114.5 1258,-1114.5 1258,-1095.5 1359,-1095.5 1359,-1114.5\"/>\n<text text-anchor=\"middle\" x=\"1308.5\" y=\"-1102.5\" font-family=\"monospace\" font-size=\"10.00\">AccumulateGrad</text>\n</g>\n<!-- 135905822757392&#45;&gt;135905822757536 -->\n<g id=\"edge165\" class=\"edge\">\n<title>135905822757392&#45;&gt;135905822757536</title>\n<path fill=\"none\" stroke=\"black\" d=\"M1308.06,-1095.37C1307.64,-1087.25 1307,-1074.81 1306.47,-1064.39\"/>\n<polygon fill=\"black\" stroke=\"black\" points=\"1309.95,-1063.97 1305.94,-1054.17 1302.96,-1064.33 1309.95,-1063.97\"/>\n</g>\n<!-- 135905822794832 -->\n<g id=\"node162\" class=\"node\">\n<title>135905822794832</title>\n<polygon fill=\"lightblue\" stroke=\"black\" points=\"1398,-1186 1255,-1186 1255,-1156 1398,-1156 1398,-1186\"/>\n<text text-anchor=\"middle\" x=\"1326.5\" y=\"-1174\" font-family=\"monospace\" font-size=\"10.00\">layer4.0.conv1.weight</text>\n<text text-anchor=\"middle\" x=\"1326.5\" y=\"-1163\" font-family=\"monospace\" font-size=\"10.00\"> (512, 256, 3, 3)</text>\n</g>\n<!-- 135905822794832&#45;&gt;135905822757392 -->\n<g id=\"edge166\" class=\"edge\">\n<title>135905822794832&#45;&gt;135905822757392</title>\n<path fill=\"none\" stroke=\"black\" d=\"M1322.51,-1155.8C1319.92,-1146.6 1316.52,-1134.53 1313.73,-1124.58\"/>\n<polygon fill=\"black\" stroke=\"black\" points=\"1317.06,-1123.52 1310.99,-1114.84 1310.33,-1125.42 1317.06,-1123.52\"/>\n</g>\n<!-- 135905822757584 -->\n<g id=\"node163\" class=\"node\">\n<title>135905822757584</title>\n<polygon fill=\"lightgrey\" stroke=\"black\" points=\"1493,-1054 1392,-1054 1392,-1035 1493,-1035 1493,-1054\"/>\n<text text-anchor=\"middle\" x=\"1442.5\" y=\"-1042\" font-family=\"monospace\" font-size=\"10.00\">AccumulateGrad</text>\n</g>\n<!-- 135905822757584&#45;&gt;135905822757632 -->\n<g id=\"edge167\" class=\"edge\">\n<title>135905822757584&#45;&gt;135905822757632</title>\n<path fill=\"none\" stroke=\"black\" d=\"M1432.32,-1034.87C1421.62,-1025.8 1404.56,-1011.34 1391.57,-1000.32\"/>\n<polygon fill=\"black\" stroke=\"black\" points=\"1393.61,-997.46 1383.72,-993.67 1389.09,-1002.8 1393.61,-997.46\"/>\n</g>\n<!-- 135905822794928 -->\n<g id=\"node164\" class=\"node\">\n<title>135905822794928</title>\n<polygon fill=\"lightblue\" stroke=\"black\" points=\"1508,-1120 1377,-1120 1377,-1090 1508,-1090 1508,-1120\"/>\n<text text-anchor=\"middle\" x=\"1442.5\" y=\"-1108\" font-family=\"monospace\" font-size=\"10.00\">layer4.0.bn1.weight</text>\n<text text-anchor=\"middle\" x=\"1442.5\" y=\"-1097\" font-family=\"monospace\" font-size=\"10.00\"> (512)</text>\n</g>\n<!-- 135905822794928&#45;&gt;135905822757584 -->\n<g id=\"edge168\" class=\"edge\">\n<title>135905822794928&#45;&gt;135905822757584</title>\n<path fill=\"none\" stroke=\"black\" d=\"M1442.5,-1089.84C1442.5,-1082.21 1442.5,-1072.7 1442.5,-1064.45\"/>\n<polygon fill=\"black\" stroke=\"black\" points=\"1446,-1064.27 1442.5,-1054.27 1439,-1064.27 1446,-1064.27\"/>\n</g>\n<!-- 135905822757728 -->\n<g id=\"node165\" class=\"node\">\n<title>135905822757728</title>\n<polygon fill=\"lightgrey\" stroke=\"black\" points=\"1624,-1054 1523,-1054 1523,-1035 1624,-1035 1624,-1054\"/>\n<text text-anchor=\"middle\" x=\"1573.5\" y=\"-1042\" font-family=\"monospace\" font-size=\"10.00\">AccumulateGrad</text>\n</g>\n<!-- 135905822757728&#45;&gt;135905822757632 -->\n<g id=\"edge169\" class=\"edge\">\n<title>135905822757728&#45;&gt;135905822757632</title>\n<path fill=\"none\" stroke=\"black\" d=\"M1544.42,-1034.99C1509.61,-1024.81 1451.18,-1007.72 1412.49,-996.4\"/>\n<polygon fill=\"black\" stroke=\"black\" points=\"1413.2,-992.96 1402.62,-993.52 1411.23,-999.68 1413.2,-992.96\"/>\n</g>\n<!-- 135905822795024 -->\n<g id=\"node166\" class=\"node\">\n<title>135905822795024</title>\n<polygon fill=\"lightblue\" stroke=\"black\" points=\"1645,-1120 1526,-1120 1526,-1090 1645,-1090 1645,-1120\"/>\n<text text-anchor=\"middle\" x=\"1585.5\" y=\"-1108\" font-family=\"monospace\" font-size=\"10.00\">layer4.0.bn1.bias</text>\n<text text-anchor=\"middle\" x=\"1585.5\" y=\"-1097\" font-family=\"monospace\" font-size=\"10.00\"> (512)</text>\n</g>\n<!-- 135905822795024&#45;&gt;135905822757728 -->\n<g id=\"edge170\" class=\"edge\">\n<title>135905822795024&#45;&gt;135905822757728</title>\n<path fill=\"none\" stroke=\"black\" d=\"M1582.6,-1089.84C1581.01,-1082.13 1579.04,-1072.49 1577.33,-1064.17\"/>\n<polygon fill=\"black\" stroke=\"black\" points=\"1580.74,-1063.36 1575.3,-1054.27 1573.88,-1064.77 1580.74,-1063.36\"/>\n</g>\n<!-- 135905822757824 -->\n<g id=\"node167\" class=\"node\">\n<title>135905822757824</title>\n<polygon fill=\"lightgrey\" stroke=\"black\" points=\"1540,-927.5 1439,-927.5 1439,-908.5 1540,-908.5 1540,-927.5\"/>\n<text text-anchor=\"middle\" x=\"1489.5\" y=\"-915.5\" font-family=\"monospace\" font-size=\"10.00\">AccumulateGrad</text>\n</g>\n<!-- 135905822757824&#45;&gt;135905822757968 -->\n<g id=\"edge171\" class=\"edge\">\n<title>135905822757824&#45;&gt;135905822757968</title>\n<path fill=\"none\" stroke=\"black\" d=\"M1489.06,-908.37C1488.64,-900.25 1488,-887.81 1487.47,-877.39\"/>\n<polygon fill=\"black\" stroke=\"black\" points=\"1490.95,-876.97 1486.94,-867.17 1483.96,-877.33 1490.95,-876.97\"/>\n</g>\n<!-- 135905822795408 -->\n<g id=\"node168\" class=\"node\">\n<title>135905822795408</title>\n<polygon fill=\"lightblue\" stroke=\"black\" points=\"1615,-999 1472,-999 1472,-969 1615,-969 1615,-999\"/>\n<text text-anchor=\"middle\" x=\"1543.5\" y=\"-987\" font-family=\"monospace\" font-size=\"10.00\">layer4.0.conv2.weight</text>\n<text text-anchor=\"middle\" x=\"1543.5\" y=\"-976\" font-family=\"monospace\" font-size=\"10.00\"> (512, 512, 3, 3)</text>\n</g>\n<!-- 135905822795408&#45;&gt;135905822757824 -->\n<g id=\"edge172\" class=\"edge\">\n<title>135905822795408&#45;&gt;135905822757824</title>\n<path fill=\"none\" stroke=\"black\" d=\"M1531.52,-968.8C1523.26,-959.01 1512.26,-945.98 1503.59,-935.7\"/>\n<polygon fill=\"black\" stroke=\"black\" points=\"1506.09,-933.23 1496.96,-927.84 1500.74,-937.74 1506.09,-933.23\"/>\n</g>\n<!-- 135905822758016 -->\n<g id=\"node169\" class=\"node\">\n<title>135905822758016</title>\n<polygon fill=\"lightgrey\" stroke=\"black\" points=\"1674,-867 1573,-867 1573,-848 1674,-848 1674,-867\"/>\n<text text-anchor=\"middle\" x=\"1623.5\" y=\"-855\" font-family=\"monospace\" font-size=\"10.00\">AccumulateGrad</text>\n</g>\n<!-- 135905822758016&#45;&gt;135905822758112 -->\n<g id=\"edge173\" class=\"edge\">\n<title>135905822758016&#45;&gt;135905822758112</title>\n<path fill=\"none\" stroke=\"black\" d=\"M1612.41,-847.98C1602.01,-840 1586.24,-827.88 1573.78,-818.31\"/>\n<polygon fill=\"black\" stroke=\"black\" points=\"1575.85,-815.49 1565.79,-812.17 1571.59,-821.04 1575.85,-815.49\"/>\n</g>\n<!-- 135905822795312 -->\n<g id=\"node170\" class=\"node\">\n<title>135905822795312</title>\n<polygon fill=\"lightblue\" stroke=\"black\" points=\"1689,-933 1558,-933 1558,-903 1689,-903 1689,-933\"/>\n<text text-anchor=\"middle\" x=\"1623.5\" y=\"-921\" font-family=\"monospace\" font-size=\"10.00\">layer4.0.bn2.weight</text>\n<text text-anchor=\"middle\" x=\"1623.5\" y=\"-910\" font-family=\"monospace\" font-size=\"10.00\"> (512)</text>\n</g>\n<!-- 135905822795312&#45;&gt;135905822758016 -->\n<g id=\"edge174\" class=\"edge\">\n<title>135905822795312&#45;&gt;135905822758016</title>\n<path fill=\"none\" stroke=\"black\" d=\"M1623.5,-902.84C1623.5,-895.21 1623.5,-885.7 1623.5,-877.45\"/>\n<polygon fill=\"black\" stroke=\"black\" points=\"1627,-877.27 1623.5,-867.27 1620,-877.27 1627,-877.27\"/>\n</g>\n<!-- 135905822758064 -->\n<g id=\"node171\" class=\"node\">\n<title>135905822758064</title>\n<polygon fill=\"lightgrey\" stroke=\"black\" points=\"1805,-867 1704,-867 1704,-848 1805,-848 1805,-867\"/>\n<text text-anchor=\"middle\" x=\"1754.5\" y=\"-855\" font-family=\"monospace\" font-size=\"10.00\">AccumulateGrad</text>\n</g>\n<!-- 135905822758064&#45;&gt;135905822758112 -->\n<g id=\"edge175\" class=\"edge\">\n<title>135905822758064&#45;&gt;135905822758112</title>\n<path fill=\"none\" stroke=\"black\" d=\"M1722.37,-847.98C1688.35,-838.97 1634.5,-824.7 1597,-814.76\"/>\n<polygon fill=\"black\" stroke=\"black\" points=\"1597.45,-811.26 1586.89,-812.08 1595.66,-818.03 1597.45,-811.26\"/>\n</g>\n<!-- 135905822795600 -->\n<g id=\"node172\" class=\"node\">\n<title>135905822795600</title>\n<polygon fill=\"lightblue\" stroke=\"black\" points=\"1826,-933 1707,-933 1707,-903 1826,-903 1826,-933\"/>\n<text text-anchor=\"middle\" x=\"1766.5\" y=\"-921\" font-family=\"monospace\" font-size=\"10.00\">layer4.0.bn2.bias</text>\n<text text-anchor=\"middle\" x=\"1766.5\" y=\"-910\" font-family=\"monospace\" font-size=\"10.00\"> (512)</text>\n</g>\n<!-- 135905822795600&#45;&gt;135905822758064 -->\n<g id=\"edge176\" class=\"edge\">\n<title>135905822795600&#45;&gt;135905822758064</title>\n<path fill=\"none\" stroke=\"black\" d=\"M1763.6,-902.84C1762.01,-895.13 1760.04,-885.49 1758.33,-877.17\"/>\n<polygon fill=\"black\" stroke=\"black\" points=\"1761.74,-876.36 1756.3,-867.27 1754.88,-877.77 1761.74,-876.36\"/>\n</g>\n<!-- 135905822758160 -->\n<g id=\"node173\" class=\"node\">\n<title>135905822758160</title>\n<polygon fill=\"lightgrey\" stroke=\"black\" points=\"1084,-993.5 923,-993.5 923,-974.5 1084,-974.5 1084,-993.5\"/>\n<text text-anchor=\"middle\" x=\"1003.5\" y=\"-981.5\" font-family=\"monospace\" font-size=\"10.00\">NativeBatchNormBackward0</text>\n</g>\n<!-- 135905822758160&#45;&gt;135905822758208 -->\n<g id=\"edge177\" class=\"edge\">\n<title>135905822758160&#45;&gt;135905822758208</title>\n<path fill=\"none\" stroke=\"black\" d=\"M1014.6,-974.46C1060.66,-939.03 1236.96,-803.41 1296.06,-757.95\"/>\n<polygon fill=\"black\" stroke=\"black\" points=\"1298.41,-760.56 1304.2,-751.69 1294.14,-755.01 1298.41,-760.56\"/>\n</g>\n<!-- 135905822757440&#45;&gt;135905822758160 -->\n<g id=\"edge178\" class=\"edge\">\n<title>135905822757440&#45;&gt;135905822758160</title>\n<path fill=\"none\" stroke=\"black\" d=\"M1065.73,-1034.87C1054.3,-1025.71 1036.02,-1011.06 1022.22,-1000.01\"/>\n<polygon fill=\"black\" stroke=\"black\" points=\"1024.31,-997.19 1014.32,-993.67 1019.93,-1002.65 1024.31,-997.19\"/>\n</g>\n<!-- 135905822757296 -->\n<g id=\"node175\" class=\"node\">\n<title>135905822757296</title>\n<polygon fill=\"lightgrey\" stroke=\"black\" points=\"1127,-1114.5 1026,-1114.5 1026,-1095.5 1127,-1095.5 1127,-1114.5\"/>\n<text text-anchor=\"middle\" x=\"1076.5\" y=\"-1102.5\" font-family=\"monospace\" font-size=\"10.00\">AccumulateGrad</text>\n</g>\n<!-- 135905822757296&#45;&gt;135905822757440 -->\n<g id=\"edge180\" class=\"edge\">\n<title>135905822757296&#45;&gt;135905822757440</title>\n<path fill=\"none\" stroke=\"black\" d=\"M1076.5,-1095.37C1076.5,-1087.25 1076.5,-1074.81 1076.5,-1064.39\"/>\n<polygon fill=\"black\" stroke=\"black\" points=\"1080,-1064.17 1076.5,-1054.17 1073,-1064.17 1080,-1064.17\"/>\n</g>\n<!-- 135905822794256 -->\n<g id=\"node176\" class=\"node\">\n<title>135905822794256</title>\n<polygon fill=\"lightblue\" stroke=\"black\" points=\"1130,-1186 945,-1186 945,-1156 1130,-1156 1130,-1186\"/>\n<text text-anchor=\"middle\" x=\"1037.5\" y=\"-1174\" font-family=\"monospace\" font-size=\"10.00\">layer4.0.downsample.0.weight</text>\n<text text-anchor=\"middle\" x=\"1037.5\" y=\"-1163\" font-family=\"monospace\" font-size=\"10.00\"> (512, 256, 1, 1)</text>\n</g>\n<!-- 135905822794256&#45;&gt;135905822757296 -->\n<g id=\"edge181\" class=\"edge\">\n<title>135905822794256&#45;&gt;135905822757296</title>\n<path fill=\"none\" stroke=\"black\" d=\"M1046.16,-1155.8C1051.94,-1146.31 1059.58,-1133.76 1065.76,-1123.63\"/>\n<polygon fill=\"black\" stroke=\"black\" points=\"1068.9,-1125.21 1071.11,-1114.84 1062.92,-1121.56 1068.9,-1125.21\"/>\n</g>\n<!-- 135905822757872 -->\n<g id=\"node177\" class=\"node\">\n<title>135905822757872</title>\n<polygon fill=\"lightgrey\" stroke=\"black\" points=\"814,-1054 713,-1054 713,-1035 814,-1035 814,-1054\"/>\n<text text-anchor=\"middle\" x=\"763.5\" y=\"-1042\" font-family=\"monospace\" font-size=\"10.00\">AccumulateGrad</text>\n</g>\n<!-- 135905822757872&#45;&gt;135905822758160 -->\n<g id=\"edge182\" class=\"edge\">\n<title>135905822757872&#45;&gt;135905822758160</title>\n<path fill=\"none\" stroke=\"black\" d=\"M798.4,-1034.99C840.79,-1024.66 912.37,-1007.21 958.77,-995.9\"/>\n<polygon fill=\"black\" stroke=\"black\" points=\"959.67,-999.29 968.56,-993.52 958.02,-992.48 959.67,-999.29\"/>\n</g>\n<!-- 135905822794352 -->\n<g id=\"node178\" class=\"node\">\n<title>135905822794352</title>\n<polygon fill=\"lightblue\" stroke=\"black\" points=\"817,-1120 632,-1120 632,-1090 817,-1090 817,-1120\"/>\n<text text-anchor=\"middle\" x=\"724.5\" y=\"-1108\" font-family=\"monospace\" font-size=\"10.00\">layer4.0.downsample.1.weight</text>\n<text text-anchor=\"middle\" x=\"724.5\" y=\"-1097\" font-family=\"monospace\" font-size=\"10.00\"> (512)</text>\n</g>\n<!-- 135905822794352&#45;&gt;135905822757872 -->\n<g id=\"edge183\" class=\"edge\">\n<title>135905822794352&#45;&gt;135905822757872</title>\n<path fill=\"none\" stroke=\"black\" d=\"M733.94,-1089.84C739.37,-1081.69 746.23,-1071.4 751.98,-1062.78\"/>\n<polygon fill=\"black\" stroke=\"black\" points=\"755.02,-1064.53 757.66,-1054.27 749.2,-1060.65 755.02,-1064.53\"/>\n</g>\n<!-- 135905822757920 -->\n<g id=\"node179\" class=\"node\">\n<title>135905822757920</title>\n<polygon fill=\"lightgrey\" stroke=\"black\" points=\"981,-1054 880,-1054 880,-1035 981,-1035 981,-1054\"/>\n<text text-anchor=\"middle\" x=\"930.5\" y=\"-1042\" font-family=\"monospace\" font-size=\"10.00\">AccumulateGrad</text>\n</g>\n<!-- 135905822757920&#45;&gt;135905822758160 -->\n<g id=\"edge184\" class=\"edge\">\n<title>135905822757920&#45;&gt;135905822758160</title>\n<path fill=\"none\" stroke=\"black\" d=\"M941.27,-1034.87C952.7,-1025.71 970.98,-1011.06 984.78,-1000.01\"/>\n<polygon fill=\"black\" stroke=\"black\" points=\"987.07,-1002.65 992.68,-993.67 982.69,-997.19 987.07,-1002.65\"/>\n</g>\n<!-- 135905822794448 -->\n<g id=\"node180\" class=\"node\">\n<title>135905822794448</title>\n<polygon fill=\"lightblue\" stroke=\"black\" points=\"1008,-1120 835,-1120 835,-1090 1008,-1090 1008,-1120\"/>\n<text text-anchor=\"middle\" x=\"921.5\" y=\"-1108\" font-family=\"monospace\" font-size=\"10.00\">layer4.0.downsample.1.bias</text>\n<text text-anchor=\"middle\" x=\"921.5\" y=\"-1097\" font-family=\"monospace\" font-size=\"10.00\"> (512)</text>\n</g>\n<!-- 135905822794448&#45;&gt;135905822757920 -->\n<g id=\"edge185\" class=\"edge\">\n<title>135905822794448&#45;&gt;135905822757920</title>\n<path fill=\"none\" stroke=\"black\" d=\"M923.68,-1089.84C924.87,-1082.13 926.35,-1072.49 927.63,-1064.17\"/>\n<polygon fill=\"black\" stroke=\"black\" points=\"931.09,-1064.68 929.15,-1054.27 924.17,-1063.62 931.09,-1064.68\"/>\n</g>\n<!-- 135905822758304 -->\n<g id=\"node181\" class=\"node\">\n<title>135905822758304</title>\n<polygon fill=\"lightgrey\" stroke=\"black\" points=\"1491,-685.5 1390,-685.5 1390,-666.5 1491,-666.5 1491,-685.5\"/>\n<text text-anchor=\"middle\" x=\"1440.5\" y=\"-673.5\" font-family=\"monospace\" font-size=\"10.00\">AccumulateGrad</text>\n</g>\n<!-- 135905822758304&#45;&gt;135905822762768 -->\n<g id=\"edge186\" class=\"edge\">\n<title>135905822758304&#45;&gt;135905822762768</title>\n<path fill=\"none\" stroke=\"black\" d=\"M1440.06,-666.37C1439.64,-658.25 1439,-645.81 1438.47,-635.39\"/>\n<polygon fill=\"black\" stroke=\"black\" points=\"1441.95,-634.97 1437.94,-625.17 1434.96,-635.33 1441.95,-634.97\"/>\n</g>\n<!-- 135905822795984 -->\n<g id=\"node182\" class=\"node\">\n<title>135905822795984</title>\n<polygon fill=\"lightblue\" stroke=\"black\" points=\"1521,-757 1378,-757 1378,-727 1521,-727 1521,-757\"/>\n<text text-anchor=\"middle\" x=\"1449.5\" y=\"-745\" font-family=\"monospace\" font-size=\"10.00\">layer4.1.conv1.weight</text>\n<text text-anchor=\"middle\" x=\"1449.5\" y=\"-734\" font-family=\"monospace\" font-size=\"10.00\"> (512, 512, 3, 3)</text>\n</g>\n<!-- 135905822795984&#45;&gt;135905822758304 -->\n<g id=\"edge187\" class=\"edge\">\n<title>135905822795984&#45;&gt;135905822758304</title>\n<path fill=\"none\" stroke=\"black\" d=\"M1447.5,-726.8C1446.22,-717.7 1444.55,-705.79 1443.16,-695.9\"/>\n<polygon fill=\"black\" stroke=\"black\" points=\"1446.6,-695.26 1441.74,-685.84 1439.67,-696.23 1446.6,-695.26\"/>\n</g>\n<!-- 135905822763008 -->\n<g id=\"node183\" class=\"node\">\n<title>135905822763008</title>\n<polygon fill=\"lightgrey\" stroke=\"black\" points=\"1625,-625 1524,-625 1524,-606 1625,-606 1625,-625\"/>\n<text text-anchor=\"middle\" x=\"1574.5\" y=\"-613\" font-family=\"monospace\" font-size=\"10.00\">AccumulateGrad</text>\n</g>\n<!-- 135905822763008&#45;&gt;135905822766320 -->\n<g id=\"edge188\" class=\"edge\">\n<title>135905822763008&#45;&gt;135905822766320</title>\n<path fill=\"none\" stroke=\"black\" d=\"M1564.02,-605.87C1553.01,-596.8 1535.46,-582.34 1522.09,-571.32\"/>\n<polygon fill=\"black\" stroke=\"black\" points=\"1523.96,-568.33 1514.02,-564.67 1519.51,-573.73 1523.96,-568.33\"/>\n</g>\n<!-- 135905822796080 -->\n<g id=\"node184\" class=\"node\">\n<title>135905822796080</title>\n<polygon fill=\"lightblue\" stroke=\"black\" points=\"1640,-691 1509,-691 1509,-661 1640,-661 1640,-691\"/>\n<text text-anchor=\"middle\" x=\"1574.5\" y=\"-679\" font-family=\"monospace\" font-size=\"10.00\">layer4.1.bn1.weight</text>\n<text text-anchor=\"middle\" x=\"1574.5\" y=\"-668\" font-family=\"monospace\" font-size=\"10.00\"> (512)</text>\n</g>\n<!-- 135905822796080&#45;&gt;135905822763008 -->\n<g id=\"edge189\" class=\"edge\">\n<title>135905822796080&#45;&gt;135905822763008</title>\n<path fill=\"none\" stroke=\"black\" d=\"M1574.5,-660.84C1574.5,-653.21 1574.5,-643.7 1574.5,-635.45\"/>\n<polygon fill=\"black\" stroke=\"black\" points=\"1578,-635.27 1574.5,-625.27 1571,-635.27 1578,-635.27\"/>\n</g>\n<!-- 135905822766128 -->\n<g id=\"node185\" class=\"node\">\n<title>135905822766128</title>\n<polygon fill=\"lightgrey\" stroke=\"black\" points=\"1756,-625 1655,-625 1655,-606 1756,-606 1756,-625\"/>\n<text text-anchor=\"middle\" x=\"1705.5\" y=\"-613\" font-family=\"monospace\" font-size=\"10.00\">AccumulateGrad</text>\n</g>\n<!-- 135905822766128&#45;&gt;135905822766320 -->\n<g id=\"edge190\" class=\"edge\">\n<title>135905822766128&#45;&gt;135905822766320</title>\n<path fill=\"none\" stroke=\"black\" d=\"M1676.13,-605.99C1640.9,-595.79 1581.71,-578.65 1542.63,-567.33\"/>\n<polygon fill=\"black\" stroke=\"black\" points=\"1543.49,-563.94 1532.91,-564.52 1541.54,-570.66 1543.49,-563.94\"/>\n</g>\n<!-- 135905822796176 -->\n<g id=\"node186\" class=\"node\">\n<title>135905822796176</title>\n<polygon fill=\"lightblue\" stroke=\"black\" points=\"1777,-691 1658,-691 1658,-661 1777,-661 1777,-691\"/>\n<text text-anchor=\"middle\" x=\"1717.5\" y=\"-679\" font-family=\"monospace\" font-size=\"10.00\">layer4.1.bn1.bias</text>\n<text text-anchor=\"middle\" x=\"1717.5\" y=\"-668\" font-family=\"monospace\" font-size=\"10.00\"> (512)</text>\n</g>\n<!-- 135905822796176&#45;&gt;135905822766128 -->\n<g id=\"edge191\" class=\"edge\">\n<title>135905822796176&#45;&gt;135905822766128</title>\n<path fill=\"none\" stroke=\"black\" d=\"M1714.6,-660.84C1713.01,-653.13 1711.04,-643.49 1709.33,-635.17\"/>\n<polygon fill=\"black\" stroke=\"black\" points=\"1712.74,-634.36 1707.3,-625.27 1705.88,-635.77 1712.74,-634.36\"/>\n</g>\n<!-- 135905822766032 -->\n<g id=\"node187\" class=\"node\">\n<title>135905822766032</title>\n<polygon fill=\"lightgrey\" stroke=\"black\" points=\"1670,-498.5 1569,-498.5 1569,-479.5 1670,-479.5 1670,-498.5\"/>\n<text text-anchor=\"middle\" x=\"1619.5\" y=\"-486.5\" font-family=\"monospace\" font-size=\"10.00\">AccumulateGrad</text>\n</g>\n<!-- 135905822766032&#45;&gt;135905822765888 -->\n<g id=\"edge192\" class=\"edge\">\n<title>135905822766032&#45;&gt;135905822765888</title>\n<path fill=\"none\" stroke=\"black\" d=\"M1619.06,-479.37C1618.64,-471.25 1618,-458.81 1617.47,-448.39\"/>\n<polygon fill=\"black\" stroke=\"black\" points=\"1620.95,-447.97 1616.94,-438.17 1613.96,-448.33 1620.95,-447.97\"/>\n</g>\n<!-- 135905822796560 -->\n<g id=\"node188\" class=\"node\">\n<title>135905822796560</title>\n<polygon fill=\"lightblue\" stroke=\"black\" points=\"1745,-570 1602,-570 1602,-540 1745,-540 1745,-570\"/>\n<text text-anchor=\"middle\" x=\"1673.5\" y=\"-558\" font-family=\"monospace\" font-size=\"10.00\">layer4.1.conv2.weight</text>\n<text text-anchor=\"middle\" x=\"1673.5\" y=\"-547\" font-family=\"monospace\" font-size=\"10.00\"> (512, 512, 3, 3)</text>\n</g>\n<!-- 135905822796560&#45;&gt;135905822766032 -->\n<g id=\"edge193\" class=\"edge\">\n<title>135905822796560&#45;&gt;135905822766032</title>\n<path fill=\"none\" stroke=\"black\" d=\"M1661.52,-539.8C1653.26,-530.01 1642.26,-516.98 1633.59,-506.7\"/>\n<polygon fill=\"black\" stroke=\"black\" points=\"1636.09,-504.23 1626.96,-498.84 1630.74,-508.74 1636.09,-504.23\"/>\n</g>\n<!-- 135905822765696 -->\n<g id=\"node189\" class=\"node\">\n<title>135905822765696</title>\n<polygon fill=\"lightgrey\" stroke=\"black\" points=\"1804,-438 1703,-438 1703,-419 1804,-419 1804,-438\"/>\n<text text-anchor=\"middle\" x=\"1753.5\" y=\"-426\" font-family=\"monospace\" font-size=\"10.00\">AccumulateGrad</text>\n</g>\n<!-- 135905822765696&#45;&gt;135905822765408 -->\n<g id=\"edge194\" class=\"edge\">\n<title>135905822765696&#45;&gt;135905822765408</title>\n<path fill=\"none\" stroke=\"black\" d=\"M1742.41,-418.98C1732.01,-411 1716.24,-398.88 1703.78,-389.31\"/>\n<polygon fill=\"black\" stroke=\"black\" points=\"1705.85,-386.49 1695.79,-383.17 1701.59,-392.04 1705.85,-386.49\"/>\n</g>\n<!-- 135905822796656 -->\n<g id=\"node190\" class=\"node\">\n<title>135905822796656</title>\n<polygon fill=\"lightblue\" stroke=\"black\" points=\"1819,-504 1688,-504 1688,-474 1819,-474 1819,-504\"/>\n<text text-anchor=\"middle\" x=\"1753.5\" y=\"-492\" font-family=\"monospace\" font-size=\"10.00\">layer4.1.bn2.weight</text>\n<text text-anchor=\"middle\" x=\"1753.5\" y=\"-481\" font-family=\"monospace\" font-size=\"10.00\"> (512)</text>\n</g>\n<!-- 135905822796656&#45;&gt;135905822765696 -->\n<g id=\"edge195\" class=\"edge\">\n<title>135905822796656&#45;&gt;135905822765696</title>\n<path fill=\"none\" stroke=\"black\" d=\"M1753.5,-473.84C1753.5,-466.21 1753.5,-456.7 1753.5,-448.45\"/>\n<polygon fill=\"black\" stroke=\"black\" points=\"1757,-448.27 1753.5,-438.27 1750,-448.27 1757,-448.27\"/>\n</g>\n<!-- 135905822765744 -->\n<g id=\"node191\" class=\"node\">\n<title>135905822765744</title>\n<polygon fill=\"lightgrey\" stroke=\"black\" points=\"1935,-438 1834,-438 1834,-419 1935,-419 1935,-438\"/>\n<text text-anchor=\"middle\" x=\"1884.5\" y=\"-426\" font-family=\"monospace\" font-size=\"10.00\">AccumulateGrad</text>\n</g>\n<!-- 135905822765744&#45;&gt;135905822765408 -->\n<g id=\"edge196\" class=\"edge\">\n<title>135905822765744&#45;&gt;135905822765408</title>\n<path fill=\"none\" stroke=\"black\" d=\"M1852.37,-418.98C1818.35,-409.97 1764.5,-395.7 1727,-385.76\"/>\n<polygon fill=\"black\" stroke=\"black\" points=\"1727.45,-382.26 1716.89,-383.08 1725.66,-389.03 1727.45,-382.26\"/>\n</g>\n<!-- 135905822796752 -->\n<g id=\"node192\" class=\"node\">\n<title>135905822796752</title>\n<polygon fill=\"lightblue\" stroke=\"black\" points=\"1956,-504 1837,-504 1837,-474 1956,-474 1956,-504\"/>\n<text text-anchor=\"middle\" x=\"1896.5\" y=\"-492\" font-family=\"monospace\" font-size=\"10.00\">layer4.1.bn2.bias</text>\n<text text-anchor=\"middle\" x=\"1896.5\" y=\"-481\" font-family=\"monospace\" font-size=\"10.00\"> (512)</text>\n</g>\n<!-- 135905822796752&#45;&gt;135905822765744 -->\n<g id=\"edge197\" class=\"edge\">\n<title>135905822796752&#45;&gt;135905822765744</title>\n<path fill=\"none\" stroke=\"black\" d=\"M1893.6,-473.84C1892.01,-466.13 1890.04,-456.49 1888.33,-448.17\"/>\n<polygon fill=\"black\" stroke=\"black\" points=\"1891.74,-447.36 1886.3,-438.27 1884.88,-448.77 1891.74,-447.36\"/>\n</g>\n<!-- 135905822765072 -->\n<g id=\"node193\" class=\"node\">\n<title>135905822765072</title>\n<polygon fill=\"lightgrey\" stroke=\"black\" points=\"1595,-141 1518,-141 1518,-122 1595,-122 1595,-141\"/>\n<text text-anchor=\"middle\" x=\"1556.5\" y=\"-129\" font-family=\"monospace\" font-size=\"10.00\">TBackward0</text>\n</g>\n<!-- 135905822765072&#45;&gt;135905822763632 -->\n<g id=\"edge199\" class=\"edge\">\n<title>135905822765072&#45;&gt;135905822763632</title>\n<path fill=\"none\" stroke=\"black\" d=\"M1538.83,-121.98C1521.21,-113.5 1493.92,-100.35 1473.57,-90.54\"/>\n<polygon fill=\"black\" stroke=\"black\" points=\"1475.02,-87.36 1464.49,-86.17 1471.98,-93.66 1475.02,-87.36\"/>\n</g>\n<!-- 135905822765552 -->\n<g id=\"node194\" class=\"node\">\n<title>135905822765552</title>\n<polygon fill=\"lightgrey\" stroke=\"black\" points=\"1610,-201.5 1509,-201.5 1509,-182.5 1610,-182.5 1610,-201.5\"/>\n<text text-anchor=\"middle\" x=\"1559.5\" y=\"-189.5\" font-family=\"monospace\" font-size=\"10.00\">AccumulateGrad</text>\n</g>\n<!-- 135905822765552&#45;&gt;135905822765072 -->\n<g id=\"edge200\" class=\"edge\">\n<title>135905822765552&#45;&gt;135905822765072</title>\n<path fill=\"none\" stroke=\"black\" d=\"M1559.06,-182.37C1558.64,-174.25 1558,-161.81 1557.47,-151.39\"/>\n<polygon fill=\"black\" stroke=\"black\" points=\"1560.95,-150.97 1556.94,-141.17 1553.96,-151.33 1560.95,-150.97\"/>\n</g>\n<!-- 135905822797136 -->\n<g id=\"node195\" class=\"node\">\n<title>135905822797136</title>\n<polygon fill=\"lightblue\" stroke=\"black\" points=\"1595,-273 1524,-273 1524,-243 1595,-243 1595,-273\"/>\n<text text-anchor=\"middle\" x=\"1559.5\" y=\"-261\" font-family=\"monospace\" font-size=\"10.00\">fc.weight</text>\n<text text-anchor=\"middle\" x=\"1559.5\" y=\"-250\" font-family=\"monospace\" font-size=\"10.00\"> (3, 512)</text>\n</g>\n<!-- 135905822797136&#45;&gt;135905822765552 -->\n<g id=\"edge201\" class=\"edge\">\n<title>135905822797136&#45;&gt;135905822765552</title>\n<path fill=\"none\" stroke=\"black\" d=\"M1559.5,-242.8C1559.5,-233.7 1559.5,-221.79 1559.5,-211.9\"/>\n<polygon fill=\"black\" stroke=\"black\" points=\"1563,-211.84 1559.5,-201.84 1556,-211.84 1563,-211.84\"/>\n</g>\n</g>\n</svg>\n",
            "text/plain": [
              "<graphviz.graphs.Digraph at 0x7b9b0afcf550>"
            ]
          },
          "metadata": {},
          "execution_count": 16
        }
      ],
      "source": [
        "import torch\n",
        "import timm\n",
        "from torchviz import make_dot\n",
        "\n",
        "# Load the ResNet model\n",
        "resnet = timm.create_model('resnet18', pretrained=True, num_classes=3)\n",
        "\n",
        "# Create a dummy input tensor (batch_size=1, channels=3, height=224, width=224)\n",
        "dummy_input = torch.randn(1, 3, 224, 224)\n",
        "\n",
        "# Perform a forward pass to get model output\n",
        "output = resnet(dummy_input)\n",
        "\n",
        "# Generate the visualization\n",
        "dot = make_dot(output, params=dict(resnet.named_parameters()))\n",
        "dot.render(\"resnet_model\", format=\"png\")  # Saves the visualization as a PNG file\n",
        "dot  # Display the graph in Jupyter Notebook"
      ]
    },
    {
      "cell_type": "code",
      "execution_count": 17,
      "metadata": {
        "id": "Z65V0-QMRHvr"
      },
      "outputs": [],
      "source": [
        "# Step 8: Define Loss & Optimizer\n",
        "criterion = nn.CrossEntropyLoss()\n",
        "optimizer = optim.Adam(resnet.fc.parameters(), lr=0.001)"
      ]
    },
    {
      "cell_type": "code",
      "execution_count": 18,
      "metadata": {
        "colab": {
          "base_uri": "https://localhost:8080/"
        },
        "id": "ncHwsklvY7Jr",
        "outputId": "2ba8063a-4572-468e-d5d8-397b8102c86d"
      },
      "outputs": [
        {
          "output_type": "stream",
          "name": "stdout",
          "text": [
            "Number of classes: 3\n"
          ]
        }
      ],
      "source": [
        "num_classes = len(dataset.classes)\n",
        "print(f\"Number of classes: {num_classes}\")  # Should be 3 for (Eczema, Psoriasis, Seborrheic_Keratoses)"
      ]
    },
    {
      "cell_type": "code",
      "execution_count": 19,
      "metadata": {
        "cellView": "form",
        "id": "xSeko9EPR5c6"
      },
      "outputs": [],
      "source": [
        "# @title Default title text\n",
        "# # Step 9: Initialize MLflow\n",
        "# mlflow.set_experiment('resnet_experiment')\n",
        "\n",
        "# with mlflow.start_run():\n",
        "#     mlflow.log_param(\"Model\", \"ResNet18\")\n",
        "\n",
        "#     # Step 10: Train Model with tqdm Progress Bar\n",
        "#     num_epochs = 50\n",
        "#     for epoch in range(num_epochs):\n",
        "#         resnet.train()\n",
        "#         running_loss = 0.0\n",
        "#         correct = 0\n",
        "#         total = 0\n",
        "\n",
        "#         progress_bar = tqdm(train_dataloder, desc=f\"Epoch {epoch+1}/{num_epochs}\", leave=True)\n",
        "\n",
        "#         for inputs, labels in progress_bar:\n",
        "#             inputs, labels = inputs.to(device), labels.to(device)\n",
        "\n",
        "#             optimizer.zero_grad()\n",
        "#             outputs = resnet(inputs)\n",
        "#             loss = criterion(outputs, labels)\n",
        "\n",
        "#             loss.backward()\n",
        "#             optimizer.step()\n",
        "\n",
        "#             running_loss += loss.item()\n",
        "#             _, predicted = torch.max(outputs, 1)\n",
        "#             total += labels.size(0)\n",
        "#             correct += (predicted == labels).sum().item()\n",
        "\n",
        "#             progress_bar.set_postfix(loss=loss.item(), acc=100 * correct / total)\n",
        "\n",
        "#         epoch_loss = running_loss / len(train_dataloder)\n",
        "#         epoch_acc = 100 * correct / total\n",
        "\n",
        "#         mlflow.log_metric(\"train_loss\", epoch_loss, step=epoch)\n",
        "#         mlflow.log_metric(\"train_accuracy\", epoch_acc, step=epoch)\n",
        "\n",
        "#         print(f\"Epoch {epoch+1}/{num_epochs}, Loss: {epoch_loss:.4f}, Accuracy: {epoch_acc:.2f}%\")\n",
        "\n",
        "#     # Step 11: Evaluate Model\n",
        "#     resnet.eval()\n",
        "#     y_pred = []\n",
        "#     y_true = []\n",
        "\n",
        "#     with torch.no_grad():\n",
        "#         for inputs, labels in test_dataloader:\n",
        "#             inputs, labels = inputs.to(device), labels.to(device)\n",
        "#             outputs = resnet(inputs)\n",
        "\n",
        "#             _, predicted = torch.max(outputs, 1)\n",
        "#             y_pred.extend(predicted.cpu().numpy())\n",
        "#             y_true.extend(labels.cpu().numpy())\n",
        "\n",
        "#     # Step 12: Compute Metrics\n",
        "#     classification_rep = classification_report(y_true, y_pred, target_names=dataset.classes, output_dict=True)\n",
        "#     print(classification_rep)\n",
        "#     cm = confusion_matrix(y_true, y_pred)\n",
        "\n",
        "#     # Log classification report\n",
        "#     with open(\"classification_report.txt\", \"w\") as f:\n",
        "#         f.write(str(classification_rep))\n",
        "#     mlflow.log_artifact(\"classification_report.txt\")\n",
        "\n",
        "#     # Log Confusion Matrix\n",
        "#     disp = ConfusionMatrixDisplay(confusion_matrix=cm, display_labels=dataset.classes)\n",
        "#     disp.plot(cmap=\"Blues\")\n",
        "#     plt.savefig(\"confusion_matrix.png\")\n",
        "#     mlflow.log_artifact(\"confusion_matrix.png\")\n",
        "\n",
        "#     # Log additional metrics\n",
        "#     mlflow.log_metric(\"cohen_kappa\", cohen_kappa_score(y_true, y_pred))\n",
        "#     mlflow.log_metric(\"matthews_corrcoef\", matthews_corrcoef(y_true, y_pred))\n",
        "\n",
        "#     # Log the trained model\n",
        "#     mlflow.pytorch.log_model(resnet, \"model\")\n",
        "\n",
        "#     print(\"\\nFinal Test Accuracy:\", 100 * np.sum(np.array(y_true) == np.array(y_pred)) / len(y_true))\n",
        "#     print(f\"Cohen Kappa: {cohen_kappa_score(y_true, y_pred):.4f}\")\n",
        "#     print(f\"Matthews Correlation Coefficient: {matthews_corrcoef(y_true, y_pred):.4f}\")"
      ]
    },
    {
      "cell_type": "code",
      "execution_count": 20,
      "metadata": {
        "colab": {
          "base_uri": "https://localhost:8080/",
          "height": 1000
        },
        "id": "phudFvGxfl68",
        "outputId": "9461feba-9207-469c-9c9b-0b6adf1f0b01"
      },
      "outputs": [
        {
          "output_type": "stream",
          "name": "stderr",
          "text": [
            "Epoch 1/20: 100%|██████████| 270/270 [01:07<00:00,  4.01it/s, acc=56.1, loss=1.04]\n"
          ]
        },
        {
          "output_type": "stream",
          "name": "stdout",
          "text": [
            "Epoch 1/20, Loss: 0.9300, Accuracy: 56.15%, Precision: 0.5620, Recall: 0.5602, F1-score: 0.5591\n"
          ]
        },
        {
          "output_type": "stream",
          "name": "stderr",
          "text": [
            "Epoch 2/20: 100%|██████████| 270/270 [01:02<00:00,  4.35it/s, acc=63.3, loss=0.882]\n"
          ]
        },
        {
          "output_type": "stream",
          "name": "stdout",
          "text": [
            "Epoch 2/20, Loss: 0.8172, Accuracy: 63.27%, Precision: 0.6325, Recall: 0.6321, F1-score: 0.6314\n"
          ]
        },
        {
          "output_type": "stream",
          "name": "stderr",
          "text": [
            "Epoch 3/20: 100%|██████████| 270/270 [00:57<00:00,  4.70it/s, acc=65.7, loss=0.712]\n"
          ]
        },
        {
          "output_type": "stream",
          "name": "stdout",
          "text": [
            "Epoch 3/20, Loss: 0.7823, Accuracy: 65.71%, Precision: 0.6576, Recall: 0.6562, F1-score: 0.6559\n"
          ]
        },
        {
          "output_type": "stream",
          "name": "stderr",
          "text": [
            "Epoch 4/20: 100%|██████████| 270/270 [00:58<00:00,  4.62it/s, acc=66.4, loss=0.757]\n"
          ]
        },
        {
          "output_type": "stream",
          "name": "stdout",
          "text": [
            "Epoch 4/20, Loss: 0.7596, Accuracy: 66.40%, Precision: 0.6647, Recall: 0.6633, F1-score: 0.6632\n"
          ]
        },
        {
          "output_type": "stream",
          "name": "stderr",
          "text": [
            "Epoch 5/20: 100%|██████████| 270/270 [00:58<00:00,  4.65it/s, acc=67.3, loss=0.809]\n"
          ]
        },
        {
          "output_type": "stream",
          "name": "stdout",
          "text": [
            "Epoch 5/20, Loss: 0.7435, Accuracy: 67.34%, Precision: 0.6750, Recall: 0.6724, F1-score: 0.6728\n"
          ]
        },
        {
          "output_type": "stream",
          "name": "stderr",
          "text": [
            "Epoch 6/20: 100%|██████████| 270/270 [00:57<00:00,  4.74it/s, acc=67.8, loss=0.93]\n"
          ]
        },
        {
          "output_type": "stream",
          "name": "stdout",
          "text": [
            "Epoch 6/20, Loss: 0.7353, Accuracy: 67.84%, Precision: 0.6783, Recall: 0.6781, F1-score: 0.6778\n"
          ]
        },
        {
          "output_type": "stream",
          "name": "stderr",
          "text": [
            "Epoch 7/20: 100%|██████████| 270/270 [00:58<00:00,  4.60it/s, acc=68.7, loss=0.743]\n"
          ]
        },
        {
          "output_type": "stream",
          "name": "stdout",
          "text": [
            "Epoch 7/20, Loss: 0.7163, Accuracy: 68.72%, Precision: 0.6879, Recall: 0.6863, F1-score: 0.6864\n"
          ]
        },
        {
          "output_type": "stream",
          "name": "stderr",
          "text": [
            "Epoch 8/20: 100%|██████████| 270/270 [00:57<00:00,  4.68it/s, acc=68.4, loss=0.551]\n"
          ]
        },
        {
          "output_type": "stream",
          "name": "stdout",
          "text": [
            "Epoch 8/20, Loss: 0.7197, Accuracy: 68.44%, Precision: 0.6848, Recall: 0.6839, F1-score: 0.6838\n"
          ]
        },
        {
          "output_type": "stream",
          "name": "stderr",
          "text": [
            "Epoch 9/20: 100%|██████████| 270/270 [00:58<00:00,  4.59it/s, acc=69.4, loss=0.709]\n"
          ]
        },
        {
          "output_type": "stream",
          "name": "stdout",
          "text": [
            "Epoch 9/20, Loss: 0.7071, Accuracy: 69.39%, Precision: 0.6949, Recall: 0.6931, F1-score: 0.6934\n"
          ]
        },
        {
          "output_type": "stream",
          "name": "stderr",
          "text": [
            "Epoch 10/20: 100%|██████████| 270/270 [00:58<00:00,  4.63it/s, acc=69.7, loss=0.898]\n"
          ]
        },
        {
          "output_type": "stream",
          "name": "stdout",
          "text": [
            "Epoch 10/20, Loss: 0.7020, Accuracy: 69.75%, Precision: 0.6990, Recall: 0.6968, F1-score: 0.6973\n"
          ]
        },
        {
          "output_type": "stream",
          "name": "stderr",
          "text": [
            "Epoch 11/20: 100%|██████████| 270/270 [00:58<00:00,  4.65it/s, acc=69.8, loss=0.745]\n"
          ]
        },
        {
          "output_type": "stream",
          "name": "stdout",
          "text": [
            "Epoch 11/20, Loss: 0.6936, Accuracy: 69.78%, Precision: 0.6988, Recall: 0.6975, F1-score: 0.6978\n"
          ]
        },
        {
          "output_type": "stream",
          "name": "stderr",
          "text": [
            "Epoch 12/20: 100%|██████████| 270/270 [01:01<00:00,  4.41it/s, acc=70.5, loss=0.525]\n"
          ]
        },
        {
          "output_type": "stream",
          "name": "stdout",
          "text": [
            "Epoch 12/20, Loss: 0.6871, Accuracy: 70.51%, Precision: 0.7057, Recall: 0.7046, F1-score: 0.7047\n"
          ]
        },
        {
          "output_type": "stream",
          "name": "stderr",
          "text": [
            "Epoch 13/20: 100%|██████████| 270/270 [00:57<00:00,  4.68it/s, acc=70.5, loss=0.648]\n"
          ]
        },
        {
          "output_type": "stream",
          "name": "stdout",
          "text": [
            "Epoch 13/20, Loss: 0.6862, Accuracy: 70.50%, Precision: 0.7060, Recall: 0.7046, F1-score: 0.7049\n"
          ]
        },
        {
          "output_type": "stream",
          "name": "stderr",
          "text": [
            "Epoch 14/20: 100%|██████████| 270/270 [00:59<00:00,  4.52it/s, acc=69.9, loss=0.6]\n"
          ]
        },
        {
          "output_type": "stream",
          "name": "stdout",
          "text": [
            "Epoch 14/20, Loss: 0.6866, Accuracy: 69.91%, Precision: 0.7002, Recall: 0.6985, F1-score: 0.6989\n"
          ]
        },
        {
          "output_type": "stream",
          "name": "stderr",
          "text": [
            "Epoch 15/20: 100%|██████████| 270/270 [00:58<00:00,  4.58it/s, acc=70.4, loss=0.55]\n"
          ]
        },
        {
          "output_type": "stream",
          "name": "stdout",
          "text": [
            "Epoch 15/20, Loss: 0.6821, Accuracy: 70.39%, Precision: 0.7044, Recall: 0.7036, F1-score: 0.7037\n"
          ]
        },
        {
          "output_type": "stream",
          "name": "stderr",
          "text": [
            "Epoch 16/20: 100%|██████████| 270/270 [00:58<00:00,  4.64it/s, acc=70.2, loss=0.782]\n"
          ]
        },
        {
          "output_type": "stream",
          "name": "stdout",
          "text": [
            "Epoch 16/20, Loss: 0.6844, Accuracy: 70.21%, Precision: 0.7025, Recall: 0.7016, F1-score: 0.7017\n"
          ]
        },
        {
          "output_type": "stream",
          "name": "stderr",
          "text": [
            "Epoch 17/20: 100%|██████████| 270/270 [00:59<00:00,  4.52it/s, acc=70.6, loss=0.59]\n"
          ]
        },
        {
          "output_type": "stream",
          "name": "stdout",
          "text": [
            "Epoch 17/20, Loss: 0.6795, Accuracy: 70.63%, Precision: 0.7069, Recall: 0.7060, F1-score: 0.7061\n"
          ]
        },
        {
          "output_type": "stream",
          "name": "stderr",
          "text": [
            "Epoch 18/20: 100%|██████████| 270/270 [00:58<00:00,  4.59it/s, acc=70.2, loss=0.802]\n"
          ]
        },
        {
          "output_type": "stream",
          "name": "stdout",
          "text": [
            "Epoch 18/20, Loss: 0.6773, Accuracy: 70.22%, Precision: 0.7028, Recall: 0.7020, F1-score: 0.7020\n"
          ]
        },
        {
          "output_type": "stream",
          "name": "stderr",
          "text": [
            "Epoch 19/20: 100%|██████████| 270/270 [00:58<00:00,  4.61it/s, acc=70.3, loss=0.725]\n"
          ]
        },
        {
          "output_type": "stream",
          "name": "stdout",
          "text": [
            "Epoch 19/20, Loss: 0.6797, Accuracy: 70.28%, Precision: 0.7032, Recall: 0.7025, F1-score: 0.7025\n"
          ]
        },
        {
          "output_type": "stream",
          "name": "stderr",
          "text": [
            "Epoch 20/20: 100%|██████████| 270/270 [01:01<00:00,  4.40it/s, acc=71, loss=0.729]\n"
          ]
        },
        {
          "output_type": "stream",
          "name": "stdout",
          "text": [
            "Epoch 20/20, Loss: 0.6736, Accuracy: 70.95%, Precision: 0.7102, Recall: 0.7090, F1-score: 0.7093\n",
            "{'Eczema': {'precision': 0.7136563876651982, 'recall': 0.5472972972972973, 'f1-score': 0.6195028680688337, 'support': 296.0}, 'Psoriasis': {'precision': 0.64, 'recall': 0.6549707602339181, 'f1-score': 0.6473988439306358, 'support': 342.0}, 'Seborrheic_Keratoses': {'precision': 0.693717277486911, 'recall': 0.8255451713395638, 'f1-score': 0.7539118065433855, 'support': 321.0}, 'accuracy': 0.6788321167883211, 'macro avg': {'precision': 0.6824578883840364, 'recall': 0.6759377429569264, 'f1-score': 0.6736045061809516, 'support': 959.0}, 'weighted avg': {'precision': 0.6807148454871712, 'recall': 0.6788321167883211, 'f1-score': 0.6744410255193733, 'support': 959.0}}\n"
          ]
        },
        {
          "output_type": "stream",
          "name": "stderr",
          "text": [
            "2025/03/07 07:52:42 WARNING mlflow.utils.requirements_utils: Found torch version (2.5.1+cu124) contains a local version label (+cu124). MLflow logged a pip requirement for this package as 'torch==2.5.1' without the local version label to make it installable from PyPI. To specify pip requirements containing local version labels, please use `conda_env` or `pip_requirements`.\n",
            "2025/03/07 07:52:54 WARNING mlflow.utils.requirements_utils: The following packages were not found in the public PyPI package index as of 2025-01-14; if these packages are not present in the public PyPI index, you must install them manually before loading your model: {'google-spark-connect'}\n",
            "\u001b[31m2025/03/07 07:52:54 WARNING mlflow.models.model: Model logged without a signature and input example. Please set `input_example` parameter when logging the model to auto infer the model signature.\u001b[0m\n"
          ]
        },
        {
          "output_type": "stream",
          "name": "stdout",
          "text": [
            "\n",
            "Final Test Accuracy: 67.88321167883211\n",
            "Cohen Kappa: 0.5159\n",
            "Matthews Correlation Coefficient: 0.5196\n",
            "Precision: 0.6825, Recall: 0.6759, F1-score: 0.6736\n",
            "🏃 View run rogue-goat-87 at: https://dagshub.com/prachipancholi1/Dermnet.mlflow/#/experiments/0/runs/38bdec83da2a489d8e66af4fd4c147a4\n",
            "🧪 View experiment at: https://dagshub.com/prachipancholi1/Dermnet.mlflow/#/experiments/0\n"
          ]
        },
        {
          "output_type": "display_data",
          "data": {
            "text/plain": [
              "<Figure size 640x480 with 2 Axes>"
            ],
            "image/png": "[encoded data removed]"
          },
          "metadata": {}
        }
      ],
      "source": [
        "from sklearn.metrics import precision_score, recall_score, f1_score, cohen_kappa_score, matthews_corrcoef\n",
        "\n",
        "# Step 9: Initialize MLflow\n",
        "mlflow.set_experiment('resnet_experiment')\n",
        "\n",
        "with mlflow.start_run():\n",
        "    mlflow.log_param(\"Model\", \"ResNet18\")\n",
        "\n",
        "    # Step 10: Train Model with tqdm Progress Bar\n",
        "    num_epochs = 20\n",
        "    for epoch in range(num_epochs):\n",
        "        resnet.train()\n",
        "        running_loss = 0.0\n",
        "        correct = 0\n",
        "        total = 0\n",
        "        y_pred_train = []\n",
        "        y_true_train = []\n",
        "\n",
        "        progress_bar = tqdm(train_dataloader, desc=f\"Epoch {epoch+1}/{num_epochs}\", leave=True)\n",
        "\n",
        "        for inputs, labels in progress_bar:\n",
        "            inputs, labels = inputs.to(device), labels.to(device)\n",
        "\n",
        "            optimizer.zero_grad()\n",
        "            resnet = resnet.to(device)\n",
        "            outputs = resnet(inputs)\n",
        "            loss = criterion(outputs, labels)\n",
        "\n",
        "            loss.backward()\n",
        "            optimizer.step()\n",
        "\n",
        "            running_loss += loss.item()\n",
        "            _, predicted = torch.max(outputs, 1)\n",
        "            total += labels.size(0)\n",
        "            correct += (predicted == labels).sum().item()\n",
        "\n",
        "            # Store predictions and true labels for metrics calculation\n",
        "            y_pred_train.extend(predicted.cpu().numpy())\n",
        "            y_true_train.extend(labels.cpu().numpy())\n",
        "\n",
        "            progress_bar.set_postfix(loss=loss.item(), acc=100 * correct / total)\n",
        "\n",
        "\n",
        "        # Compute per-epoch metrics\n",
        "        epoch_loss = running_loss / len(train_dataloader)\n",
        "        epoch_acc = 100 * correct / total\n",
        "        epoch_precision = precision_score(y_true_train, y_pred_train, average=\"macro\", zero_division=1)\n",
        "        epoch_recall = recall_score(y_true_train, y_pred_train, average=\"macro\", zero_division=1)\n",
        "        epoch_f1 = f1_score(y_true_train, y_pred_train, average=\"macro\", zero_division=1)\n",
        "        epoch_cohen_kappa = cohen_kappa_score(y_true_train, y_pred_train)\n",
        "        epoch_matthews_corrcoef = matthews_corrcoef(y_true_train, y_pred_train)\n",
        "\n",
        "        # Log metrics to MLflow\n",
        "        mlflow.log_metric(\"train_loss\", epoch_loss, step=epoch)\n",
        "        mlflow.log_metric(\"train_accuracy\", epoch_acc, step=epoch)\n",
        "        mlflow.log_metric(\"train_precision\", epoch_precision, step=epoch)\n",
        "        mlflow.log_metric(\"train_recall\", epoch_recall, step=epoch)\n",
        "        mlflow.log_metric(\"train_f1_score\", epoch_f1, step=epoch)\n",
        "        mlflow.log_metric(\"train_cohen_kappa\", epoch_cohen_kappa, step=epoch)\n",
        "        mlflow.log_metric(\"train_matthews_corrcoef\", epoch_matthews_corrcoef, step=epoch)\n",
        "\n",
        "        print(f\"Epoch {epoch+1}/{num_epochs}, Loss: {epoch_loss:.4f}, Accuracy: {epoch_acc:.2f}%, Precision: {epoch_precision:.4f}, Recall: {epoch_recall:.4f}, F1-score: {epoch_f1:.4f}\")\n",
        "\n",
        "    # Step 11: Evaluate Model\n",
        "    resnet.eval()\n",
        "    y_pred = []\n",
        "    y_true = []\n",
        "\n",
        "    with torch.no_grad():\n",
        "        for inputs, labels in test_dataloader:\n",
        "            inputs, labels = inputs.to(device), labels.to(device)\n",
        "            outputs = resnet(inputs)\n",
        "\n",
        "            _, predicted = torch.max(outputs, 1)\n",
        "            y_pred.extend(predicted.cpu().numpy())\n",
        "            y_true.extend(labels.cpu().numpy())\n",
        "\n",
        "    # Step 12: Compute Final Test Metrics\n",
        "    classification_rep = classification_report(y_true, y_pred, target_names=dataset.classes, output_dict=True)\n",
        "    print(classification_rep)\n",
        "    cm = confusion_matrix(y_true, y_pred)\n",
        "\n",
        "    # Log classification report\n",
        "    with open(\"classification_report.txt\", \"w\") as f:\n",
        "        f.write(str(classification_rep))\n",
        "    mlflow.log_artifact(\"classification_report.txt\")\n",
        "\n",
        "    # Log Confusion Matrix\n",
        "    disp = ConfusionMatrixDisplay(confusion_matrix=cm, display_labels=dataset.classes)\n",
        "    disp.plot(cmap=\"Blues\")\n",
        "    plt.savefig(\"confusion_matrix.png\")\n",
        "    mlflow.log_artifact(\"confusion_matrix.png\")\n",
        "\n",
        "    # Compute and Log Final Metrics\n",
        "    test_precision = precision_score(y_true, y_pred, average=\"macro\", zero_division=1)\n",
        "    test_recall = recall_score(y_true, y_pred, average=\"macro\", zero_division=1)\n",
        "    test_f1 = f1_score(y_true, y_pred, average=\"macro\", zero_division=1)\n",
        "    test_cohen_kappa = cohen_kappa_score(y_true, y_pred)\n",
        "    test_matthews_corrcoef = matthews_corrcoef(y_true, y_pred)\n",
        "\n",
        "    mlflow.log_metric(\"test_precision\", test_precision)\n",
        "    mlflow.log_metric(\"test_recall\", test_recall)\n",
        "    mlflow.log_metric(\"test_f1_score\", test_f1)\n",
        "    mlflow.log_metric(\"test_cohen_kappa\", test_cohen_kappa)\n",
        "    mlflow.log_metric(\"test_matthews_corrcoef\", test_matthews_corrcoef)\n",
        "\n",
        "    # Log the trained model\n",
        "    mlflow.pytorch.log_model(resnet, \"model\")\n",
        "\n",
        "    print(\"\\nFinal Test Accuracy:\", 100 * np.sum(np.array(y_true) == np.array(y_pred)) / len(y_true))\n",
        "    print(f\"Cohen Kappa: {test_cohen_kappa:.4f}\")\n",
        "    print(f\"Matthews Correlation Coefficient: {test_matthews_corrcoef:.4f}\")\n",
        "    print(f\"Precision: {test_precision:.4f}, Recall: {test_recall:.4f}, F1-score: {test_f1:.4f}\")\n"
      ]
    },
    {
      "cell_type": "code",
      "source": [],
      "metadata": {
        "id": "pa3HwI5Og7eI"
      },
      "execution_count": null,
      "outputs": []
    }
  ],
  "metadata": {
    "accelerator": "GPU",
    "colab": {
      "gpuType": "T4",
      "provenance": [],
      "toc_visible": true
    },
    "kernelspec": {
      "display_name": "Python 3",
      "name": "python3"
    },
    "language_info": {
      "codemirror_mode": {
        "name": "ipython",
        "version": 3
      },
      "file_extension": ".py",
      "mimetype": "text/x-python",
      "name": "python",
      "nbconvert_exporter": "python",
      "pygments_lexer": "ipython3",
      "version": "3.10.8"
    },
    "vscode": {
      "interpreter": {
        "hash": "615309b5d2f5f3f3e254716a8c54f022c189963c6b8f21f203f602c9ee2a44da"
      }
    },
    "widgets": {
      "application/vnd.jupyter.widget-state+json": {
        "77c7549739fa4209a308bc71697e166b": {
          "model_module": "@jupyter-widgets/output",
          "model_name": "OutputModel",
          "model_module_version": "1.0.0",
          "state": {
            "_dom_classes": [],
            "_model_module": "@jupyter-widgets/output",
            "_model_module_version": "1.0.0",
            "_model_name": "OutputModel",
            "_view_count": null,
            "_view_module": "@jupyter-widgets/output",
            "_view_module_version": "1.0.0",
            "_view_name": "OutputView",
            "layout": "IPY_MODEL_3f73328fb32042058d230126e57d1ffa",
            "msg_id": "",
            "outputs": [
              {
                "output_type": "display_data",
                "data": {
                  "text/plain": "\u001b[32m⠙\u001b[0m Waiting for authorization\n",
                  "text/html": "<pre style=\"white-space:pre;overflow-x:auto;line-height:normal;font-family:Menlo,'DejaVu Sans Mono',consolas,'Courier New',monospace\"><span style=\"color: #008000; text-decoration-color: #008000\">⠙</span> Waiting for authorization\n</pre>\n"
                },
                "metadata": {}
              }
            ]
          }
        },
        "3f73328fb32042058d230126e57d1ffa": {
          "model_module": "@jupyter-widgets/base",
          "model_name": "LayoutModel",
          "model_module_version": "1.2.0",
          "state": {
            "_model_module": "@jupyter-widgets/base",
            "_model_module_version": "1.2.0",
            "_model_name": "LayoutModel",
            "_view_count": null,
            "_view_module": "@jupyter-widgets/base",
            "_view_module_version": "1.2.0",
            "_view_name": "LayoutView",
            "align_content": null,
            "align_items": null,
            "align_self": null,
            "border": null,
            "bottom": null,
            "display": null,
            "flex": null,
            "flex_flow": null,
            "grid_area": null,
            "grid_auto_columns": null,
            "grid_auto_flow": null,
            "grid_auto_rows": null,
            "grid_column": null,
            "grid_gap": null,
            "grid_row": null,
            "grid_template_areas": null,
            "grid_template_columns": null,
            "grid_template_rows": null,
            "height": null,
            "justify_content": null,
            "justify_items": null,
            "left": null,
            "margin": null,
            "max_height": null,
            "max_width": null,
            "min_height": null,
            "min_width": null,
            "object_fit": null,
            "object_position": null,
            "order": null,
            "overflow": null,
            "overflow_x": null,
            "overflow_y": null,
            "padding": null,
            "right": null,
            "top": null,
            "visibility": null,
            "width": null
          }
        },
        "d45ed80fe0c041598209039ca0abae6f": {
          "model_module": "@jupyter-widgets/controls",
          "model_name": "HBoxModel",
          "model_module_version": "1.5.0",
          "state": {
            "_dom_classes": [],
            "_model_module": "@jupyter-widgets/controls",
            "_model_module_version": "1.5.0",
            "_model_name": "HBoxModel",
            "_view_count": null,
            "_view_module": "@jupyter-widgets/controls",
            "_view_module_version": "1.5.0",
            "_view_name": "HBoxView",
            "box_style": "",
            "children": [
              "IPY_MODEL_5d64088c8959495ca46365c7016c7873",
              "IPY_MODEL_31ffb63ed0f349bf82049033415cdb29",
              "IPY_MODEL_81e3bd035dbb40c3b1e7d12dcd5096f7"
            ],
            "layout": "IPY_MODEL_9dd55c8560f64104bdbabca9c5c7356a"
          }
        },
        "5d64088c8959495ca46365c7016c7873": {
          "model_module": "@jupyter-widgets/controls",
          "model_name": "HTMLModel",
          "model_module_version": "1.5.0",
          "state": {
            "_dom_classes": [],
            "_model_module": "@jupyter-widgets/controls",
            "_model_module_version": "1.5.0",
            "_model_name": "HTMLModel",
            "_view_count": null,
            "_view_module": "@jupyter-widgets/controls",
            "_view_module_version": "1.5.0",
            "_view_name": "HTMLView",
            "description": "",
            "description_tooltip": null,
            "layout": "IPY_MODEL_d1fb0898a71e4db4abff7558ed7572a0",
            "placeholder": "​",
            "style": "IPY_MODEL_1bb1412119a7490da9b0704e981ff90f",
            "value": "model.safetensors: 100%"
          }
        },
        "31ffb63ed0f349bf82049033415cdb29": {
          "model_module": "@jupyter-widgets/controls",
          "model_name": "FloatProgressModel",
          "model_module_version": "1.5.0",
          "state": {
            "_dom_classes": [],
            "_model_module": "@jupyter-widgets/controls",
            "_model_module_version": "1.5.0",
            "_model_name": "FloatProgressModel",
            "_view_count": null,
            "_view_module": "@jupyter-widgets/controls",
            "_view_module_version": "1.5.0",
            "_view_name": "ProgressView",
            "bar_style": "success",
            "description": "",
            "description_tooltip": null,
            "layout": "IPY_MODEL_61ed84b099cf4c0eb8e8d1bf3e58414c",
            "max": 46807446,
            "min": 0,
            "orientation": "horizontal",
            "style": "IPY_MODEL_c6fed9066d1d46a7aae46685f835b102",
            "value": 46807446
          }
        },
        "81e3bd035dbb40c3b1e7d12dcd5096f7": {
          "model_module": "@jupyter-widgets/controls",
          "model_name": "HTMLModel",
          "model_module_version": "1.5.0",
          "state": {
            "_dom_classes": [],
            "_model_module": "@jupyter-widgets/controls",
            "_model_module_version": "1.5.0",
            "_model_name": "HTMLModel",
            "_view_count": null,
            "_view_module": "@jupyter-widgets/controls",
            "_view_module_version": "1.5.0",
            "_view_name": "HTMLView",
            "description": "",
            "description_tooltip": null,
            "layout": "IPY_MODEL_30f213bd682c4cc1aca63b6365f74598",
            "placeholder": "​",
            "style": "IPY_MODEL_f7109c93df0444ecab4f9c88f4c54424",
            "value": " 46.8M/46.8M [00:00&lt;00:00, 145MB/s]"
          }
        },
        "9dd55c8560f64104bdbabca9c5c7356a": {
          "model_module": "@jupyter-widgets/base",
          "model_name": "LayoutModel",
          "model_module_version": "1.2.0",
          "state": {
            "_model_module": "@jupyter-widgets/base",
            "_model_module_version": "1.2.0",
            "_model_name": "LayoutModel",
            "_view_count": null,
            "_view_module": "@jupyter-widgets/base",
            "_view_module_version": "1.2.0",
            "_view_name": "LayoutView",
            "align_content": null,
            "align_items": null,
            "align_self": null,
            "border": null,
            "bottom": null,
            "display": null,
            "flex": null,
            "flex_flow": null,
            "grid_area": null,
            "grid_auto_columns": null,
            "grid_auto_flow": null,
            "grid_auto_rows": null,
            "grid_column": null,
            "grid_gap": null,
            "grid_row": null,
            "grid_template_areas": null,
            "grid_template_columns": null,
            "grid_template_rows": null,
            "height": null,
            "justify_content": null,
            "justify_items": null,
            "left": null,
            "margin": null,
            "max_height": null,
            "max_width": null,
            "min_height": null,
            "min_width": null,
            "object_fit": null,
            "object_position": null,
            "order": null,
            "overflow": null,
            "overflow_x": null,
            "overflow_y": null,
            "padding": null,
            "right": null,
            "top": null,
            "visibility": null,
            "width": null
          }
        },
        "d1fb0898a71e4db4abff7558ed7572a0": {
          "model_module": "@jupyter-widgets/base",
          "model_name": "LayoutModel",
          "model_module_version": "1.2.0",
          "state": {
            "_model_module": "@jupyter-widgets/base",
            "_model_module_version": "1.2.0",
            "_model_name": "LayoutModel",
            "_view_count": null,
            "_view_module": "@jupyter-widgets/base",
            "_view_module_version": "1.2.0",
            "_view_name": "LayoutView",
            "align_content": null,
            "align_items": null,
            "align_self": null,
            "border": null,
            "bottom": null,
            "display": null,
            "flex": null,
            "flex_flow": null,
            "grid_area": null,
            "grid_auto_columns": null,
            "grid_auto_flow": null,
            "grid_auto_rows": null,
            "grid_column": null,
            "grid_gap": null,
            "grid_row": null,
            "grid_template_areas": null,
            "grid_template_columns": null,
            "grid_template_rows": null,
            "height": null,
            "justify_content": null,
            "justify_items": null,
            "left": null,
            "margin": null,
            "max_height": null,
            "max_width": null,
            "min_height": null,
            "min_width": null,
            "object_fit": null,
            "object_position": null,
            "order": null,
            "overflow": null,
            "overflow_x": null,
            "overflow_y": null,
            "padding": null,
            "right": null,
            "top": null,
            "visibility": null,
            "width": null
          }
        },
        "1bb1412119a7490da9b0704e981ff90f": {
          "model_module": "@jupyter-widgets/controls",
          "model_name": "DescriptionStyleModel",
          "model_module_version": "1.5.0",
          "state": {
            "_model_module": "@jupyter-widgets/controls",
            "_model_module_version": "1.5.0",
            "_model_name": "DescriptionStyleModel",
            "_view_count": null,
            "_view_module": "@jupyter-widgets/base",
            "_view_module_version": "1.2.0",
            "_view_name": "StyleView",
            "description_width": ""
          }
        },
        "61ed84b099cf4c0eb8e8d1bf3e58414c": {
          "model_module": "@jupyter-widgets/base",
          "model_name": "LayoutModel",
          "model_module_version": "1.2.0",
          "state": {
            "_model_module": "@jupyter-widgets/base",
            "_model_module_version": "1.2.0",
            "_model_name": "LayoutModel",
            "_view_count": null,
            "_view_module": "@jupyter-widgets/base",
            "_view_module_version": "1.2.0",
            "_view_name": "LayoutView",
            "align_content": null,
            "align_items": null,
            "align_self": null,
            "border": null,
            "bottom": null,
            "display": null,
            "flex": null,
            "flex_flow": null,
            "grid_area": null,
            "grid_auto_columns": null,
            "grid_auto_flow": null,
            "grid_auto_rows": null,
            "grid_column": null,
            "grid_gap": null,
            "grid_row": null,
            "grid_template_areas": null,
            "grid_template_columns": null,
            "grid_template_rows": null,
            "height": null,
            "justify_content": null,
            "justify_items": null,
            "left": null,
            "margin": null,
            "max_height": null,
            "max_width": null,
            "min_height": null,
            "min_width": null,
            "object_fit": null,
            "object_position": null,
            "order": null,
            "overflow": null,
            "overflow_x": null,
            "overflow_y": null,
            "padding": null,
            "right": null,
            "top": null,
            "visibility": null,
            "width": null
          }
        },
        "c6fed9066d1d46a7aae46685f835b102": {
          "model_module": "@jupyter-widgets/controls",
          "model_name": "ProgressStyleModel",
          "model_module_version": "1.5.0",
          "state": {
            "_model_module": "@jupyter-widgets/controls",
            "_model_module_version": "1.5.0",
            "_model_name": "ProgressStyleModel",
            "_view_count": null,
            "_view_module": "@jupyter-widgets/base",
            "_view_module_version": "1.2.0",
            "_view_name": "StyleView",
            "bar_color": null,
            "description_width": ""
          }
        },
        "30f213bd682c4cc1aca63b6365f74598": {
          "model_module": "@jupyter-widgets/base",
          "model_name": "LayoutModel",
          "model_module_version": "1.2.0",
          "state": {
            "_model_module": "@jupyter-widgets/base",
            "_model_module_version": "1.2.0",
            "_model_name": "LayoutModel",
            "_view_count": null,
            "_view_module": "@jupyter-widgets/base",
            "_view_module_version": "1.2.0",
            "_view_name": "LayoutView",
            "align_content": null,
            "align_items": null,
            "align_self": null,
            "border": null,
            "bottom": null,
            "display": null,
            "flex": null,
            "flex_flow": null,
            "grid_area": null,
            "grid_auto_columns": null,
            "grid_auto_flow": null,
            "grid_auto_rows": null,
            "grid_column": null,
            "grid_gap": null,
            "grid_row": null,
            "grid_template_areas": null,
            "grid_template_columns": null,
            "grid_template_rows": null,
            "height": null,
            "justify_content": null,
            "justify_items": null,
            "left": null,
            "margin": null,
            "max_height": null,
            "max_width": null,
            "min_height": null,
            "min_width": null,
            "object_fit": null,
            "object_position": null,
            "order": null,
            "overflow": null,
            "overflow_x": null,
            "overflow_y": null,
            "padding": null,
            "right": null,
            "top": null,
            "visibility": null,
            "width": null
          }
        },
        "f7109c93df0444ecab4f9c88f4c54424": {
          "model_module": "@jupyter-widgets/controls",
          "model_name": "DescriptionStyleModel",
          "model_module_version": "1.5.0",
          "state": {
            "_model_module": "@jupyter-widgets/controls",
            "_model_module_version": "1.5.0",
            "_model_name": "DescriptionStyleModel",
            "_view_count": null,
            "_view_module": "@jupyter-widgets/base",
            "_view_module_version": "1.2.0",
            "_view_name": "StyleView",
            "description_width": ""
          }
        }
      }
    }
  },
  "nbformat": 4,
  "nbformat_minor": 0
}